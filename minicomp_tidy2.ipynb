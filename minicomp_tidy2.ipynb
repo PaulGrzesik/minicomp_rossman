{
 "cells": [
  {
   "cell_type": "markdown",
   "metadata": {},
   "source": [
    "# Minicompetition Project\n",
    "## Rossman 6 month sales Prediction\n",
    "Here, we will go through a data challenge using data predicting Sales for Rossman. \n",
    "\n"
   ]
  },
  {
   "cell_type": "code",
   "execution_count": 1,
   "metadata": {},
   "outputs": [],
   "source": [
    "import numpy as np\n",
    "import pandas as pd\n",
    "# for Box-Cox Transformation\n",
    "from scipy import stats\n",
    "\n",
    "# for min_max scaling\n",
    "from mlxtend.preprocessing import minmax_scaling\n",
    "\n",
    "# plotting modules\n",
    "import seaborn as sns\n",
    "import matplotlib.pyplot as plt\n",
    "import seaborn as sns\n",
    "import matplotlib.pyplot as plt\n",
    "\n",
    "from collections import Counter\n",
    "\n",
    "\n",
    "import warnings\n",
    "warnings.filterwarnings('ignore')\n",
    "import plotly\n",
    "sns.set_style('darkgrid')\n",
    "import missingno as msno\n",
    "from sklearn.metrics import mean_squared_error\n",
    "from math import sqrt\n",
    "from sklearn.model_selection import train_test_split\n",
    "\n",
    "from sklearn.preprocessing import LabelEncoder\n",
    "import category_encoders as ce\n",
    "from sklearn.preprocessing import LabelEncoder\n",
    "from sklearn.ensemble import RandomForestRegressor\n",
    "\n",
    "from sklearn.metrics import mean_squared_error\n",
    "from math import sqrt\n",
    "\n",
    "from sklearn.linear_model import LinearRegression\n",
    "from sklearn.svm import SVC\n",
    "from sklearn.preprocessing import StandardScaler\n",
    "from sklearn.datasets import make_classification\n",
    "from sklearn.pipeline import Pipeline"
   ]
  },
  {
   "cell_type": "code",
   "execution_count": 2,
   "metadata": {},
   "outputs": [],
   "source": [
    "import pickle"
   ]
  },
  {
   "cell_type": "markdown",
   "metadata": {},
   "source": [
    "## 1. Initial Data Understanding\n",
    "Here, we get to know our data and try to figure out next steps for modelling.\n",
    "\n",
    "A goal in this step is to get to know what types of data cleaning, preparation and encoding we need to do in order to prepare our data for inclusion in a model.\n",
    "\n",
    "Since we are predicting price, this is a supervised regression problem."
   ]
  },
  {
   "cell_type": "code",
   "execution_count": 3,
   "metadata": {},
   "outputs": [
    {
     "data": {
      "text/plain": [
       "((637774, 9), (1115, 10))"
      ]
     },
     "execution_count": 3,
     "metadata": {},
     "output_type": "execute_result"
    }
   ],
   "source": [
    "train = pd.read_csv('./data/train.csv')\n",
    "store = pd.read_csv('./data/store.csv')\n",
    "\n",
    "train.shape, store.shape"
   ]
  },
  {
   "cell_type": "code",
   "execution_count": 4,
   "metadata": {},
   "outputs": [
    {
     "data": {
      "text/plain": [
       "(637774, 9)"
      ]
     },
     "execution_count": 4,
     "metadata": {},
     "output_type": "execute_result"
    }
   ],
   "source": [
    "train.shape"
   ]
  },
  {
   "cell_type": "code",
   "execution_count": 5,
   "metadata": {},
   "outputs": [],
   "source": [
    "bins=[200,300,350,400,450,500,550,600,700,800,900,1200,1500,3500]"
   ]
  },
  {
   "cell_type": "code",
   "execution_count": 6,
   "metadata": {},
   "outputs": [],
   "source": [
    "CustomerTraffic = pd.DataFrame(train.groupby('Store')['Customers'].mean())\n",
    "CustomerTraffic.Customers.describe()\n",
    "\n",
    "\n",
    "CustomerTraffic['CustomerTraffic'] = pd.cut(CustomerTraffic['Customers'], bins)"
   ]
  },
  {
   "cell_type": "code",
   "execution_count": 7,
   "metadata": {},
   "outputs": [],
   "source": [
    "train['CustomerAverage'] = train['Sales']/train['Customers']"
   ]
  },
  {
   "cell_type": "code",
   "execution_count": 8,
   "metadata": {},
   "outputs": [],
   "source": [
    "bins2 = [0,2,4,6,8,10,15,18,25,40,65]"
   ]
  },
  {
   "cell_type": "code",
   "execution_count": 9,
   "metadata": {},
   "outputs": [],
   "source": [
    "CustomerCat = pd.DataFrame(train.groupby('Store')['CustomerAverage'].mean())\n",
    "CustomerCat['CustomerCategory'] = pd.cut(CustomerCat['CustomerAverage'], bins2)\n"
   ]
  },
  {
   "cell_type": "code",
   "execution_count": 10,
   "metadata": {},
   "outputs": [],
   "source": [
    "new_train = pd.merge(train, CustomerTraffic, how=\"left\", on='Store')"
   ]
  },
  {
   "cell_type": "code",
   "execution_count": 11,
   "metadata": {},
   "outputs": [],
   "source": [
    "new_train = pd.merge(new_train, CustomerCat, how=\"left\", on='Store')"
   ]
  },
  {
   "cell_type": "code",
   "execution_count": 12,
   "metadata": {},
   "outputs": [
    {
     "data": {
      "text/plain": [
       "(637774, 23)"
      ]
     },
     "execution_count": 12,
     "metadata": {},
     "output_type": "execute_result"
    }
   ],
   "source": [
    "combined = pd.merge(new_train, store, how=\"left\", on='Store')\n",
    "combined.shape"
   ]
  },
  {
   "cell_type": "code",
   "execution_count": 13,
   "metadata": {},
   "outputs": [
    {
     "data": {
      "text/plain": [
       "Index(['Date', 'Store', 'DayOfWeek', 'Sales', 'Customers_x', 'Open', 'Promo',\n",
       "       'StateHoliday', 'SchoolHoliday', 'CustomerAverage_x', 'Customers_y',\n",
       "       'CustomerTraffic', 'CustomerAverage_y', 'CustomerCategory', 'StoreType',\n",
       "       'Assortment', 'CompetitionDistance', 'CompetitionOpenSinceMonth',\n",
       "       'CompetitionOpenSinceYear', 'Promo2', 'Promo2SinceWeek',\n",
       "       'Promo2SinceYear', 'PromoInterval'],\n",
       "      dtype='object')"
      ]
     },
     "execution_count": 13,
     "metadata": {},
     "output_type": "execute_result"
    }
   ],
   "source": [
    "combined.columns"
   ]
  },
  {
   "cell_type": "code",
   "execution_count": 14,
   "metadata": {},
   "outputs": [],
   "source": [
    "combined.drop(columns=['CustomerAverage_x', 'CustomerAverage_y', 'Customers_y'], inplace=True)"
   ]
  },
  {
   "cell_type": "code",
   "execution_count": 15,
   "metadata": {},
   "outputs": [],
   "source": [
    "combined.StateHoliday.replace(0,'0', inplace=True)"
   ]
  },
  {
   "cell_type": "code",
   "execution_count": 16,
   "metadata": {},
   "outputs": [
    {
     "name": "stdout",
     "output_type": "stream",
     "text": [
      "<class 'pandas.core.frame.DataFrame'>\n",
      "Int64Index: 637774 entries, 0 to 637773\n",
      "Data columns (total 20 columns):\n",
      " #   Column                     Non-Null Count   Dtype   \n",
      "---  ------                     --------------   -----   \n",
      " 0   Date                       637774 non-null  object  \n",
      " 1   Store                      618473 non-null  float64 \n",
      " 2   DayOfWeek                  618757 non-null  float64 \n",
      " 3   Sales                      618747 non-null  float64 \n",
      " 4   Customers_x                618683 non-null  float64 \n",
      " 5   Open                       618588 non-null  float64 \n",
      " 6   Promo                      618580 non-null  float64 \n",
      " 7   StateHoliday               618520 non-null  object  \n",
      " 8   SchoolHoliday              618437 non-null  float64 \n",
      " 9   CustomerTraffic            618473 non-null  category\n",
      " 10  CustomerCategory           618473 non-null  category\n",
      " 11  StoreType                  618473 non-null  object  \n",
      " 12  Assortment                 618473 non-null  object  \n",
      " 13  CompetitionDistance        616838 non-null  float64 \n",
      " 14  CompetitionOpenSinceMonth  422043 non-null  float64 \n",
      " 15  CompetitionOpenSinceYear   422043 non-null  float64 \n",
      " 16  Promo2                     618473 non-null  float64 \n",
      " 17  Promo2SinceWeek            314828 non-null  float64 \n",
      " 18  Promo2SinceYear            314828 non-null  float64 \n",
      " 19  PromoInterval              314828 non-null  object  \n",
      "dtypes: category(2), float64(13), object(5)\n",
      "memory usage: 93.7+ MB\n"
     ]
    }
   ],
   "source": [
    "combined.info()"
   ]
  },
  {
   "cell_type": "code",
   "execution_count": 17,
   "metadata": {},
   "outputs": [
    {
     "data": {
      "text/plain": [
       "1.0    314828\n",
       "0.0    303645\n",
       "Name: Promo2, dtype: int64"
      ]
     },
     "execution_count": 17,
     "metadata": {},
     "output_type": "execute_result"
    }
   ],
   "source": [
    "combined.Promo2.value_counts()"
   ]
  },
  {
   "cell_type": "code",
   "execution_count": 18,
   "metadata": {},
   "outputs": [
    {
     "data": {
      "text/plain": [
       "<AxesSubplot:>"
      ]
     },
     "execution_count": 18,
     "metadata": {},
     "output_type": "execute_result"
    },
    {
     "data": {
      "image/png": "[encoded data removed]",
      "text/plain": [
       "<Figure size 1800x720 with 3 Axes>"
      ]
     },
     "metadata": {},
     "output_type": "display_data"
    }
   ],
   "source": [
    "msno.bar(combined, color='red')"
   ]
  },
  {
   "cell_type": "code",
   "execution_count": 19,
   "metadata": {},
   "outputs": [],
   "source": [
    "def compute_rmse(actual, prediction):\n",
    "    \"\"\"\n",
    "    Computs RMSE (root mean squared error) between predictions from a model\n",
    "    and the actual values of the target variable.\n",
    "    \"\"\"\n",
    "    \n",
    "    rmse = sqrt(mean_squared_error(actual, prediction))\n",
    "    \n",
    "    # rounding to 2 decimal places\n",
    "    print('RMSE is ', round(rmse,2))\n",
    "    \n",
    "    return rmse\n",
    "\n",
    "\n",
    "\n",
    "# def mean_encode(data, col, on):\n",
    "#     group = data.groupby(col).mean()\n",
    "#     mapper = {k: v for k, v in zip(group.index, group.loc[:, on].values)}\n",
    "\n",
    "#     data.loc[:, col] = data.loc[:, col].replace(mapper)\n",
    "#     data.loc[:, col].fillna(value=np.mean(data.loc[:, col]), inplace=True)\n",
    "\n",
    "#     return data\n",
    "\n",
    "def mean_encode(data, col, on):\n",
    "    for i in col:\n",
    "        group = data.groupby(i).mean()\n",
    "        data.loc[:, i+'-original'] = data.loc[:, i]\n",
    "        mapper = {k: v for k, v in zip(group.index, group.loc[:, on].values)}\n",
    "\n",
    "        data.loc[:, i] = data.loc[:, i].replace(mapper)\n",
    "        data.loc[:, i].fillna(value=np.mean(data.loc[:, i]), inplace=True)\n",
    "        return data.loc[:, i]\n",
    "\n",
    "        for col in columns_to_mean_encode:\n",
    "            data.loc[:, col] = mean_encode(data.copy(), col, \"Sales\")\n",
    "        \n",
    "#Label Encoding the color column\n",
    "from sklearn.preprocessing import LabelEncoder\n",
    "def label_encoder(df, cols):\n",
    "    for i in cols:        \n",
    "        le = LabelEncoder()  #instantiate the Label Encoder\n",
    "        df[i] = le.fit_transform(df[i])\n",
    "\n",
    "#it's ideal to always instantiate new LabelEncoders for different columns\n",
    "\n",
    "def time_decompose(df, colname):\n",
    "    for i in colname:\n",
    "        df['Year'] = pd.DatetimeIndex(df[colname]).year\n",
    "        df['Month'] = pd.DatetimeIndex(df[colname]).month\n",
    "        df['DayofMonth'] = pd.DatetimeIndex(df[colname]).day        \n",
    "        \n",
    "        \n",
    "def metric(preds, actuals):\n",
    "    preds = preds.reshape(-1)\n",
    "    actuals = actuals.reshape(-1)\n",
    "    assert preds.shape == actuals.shape\n",
    "    return 100 * np.linalg.norm((actuals - preds) / actuals) / np.sqrt(preds.shape[0])\n",
    "\n",
    "def remove_outliers(df, colnames):\n",
    "    for col in colnames:\n",
    "        avg = df[col].mean()\n",
    "        std = df[col].std()\n",
    "        low = avg - 3 * std\n",
    "        high = avg + 3 * std\n",
    "        df = df[df[col].between(low, high, inclusive=True)]\n",
    "    return df\n",
    "\n",
    "\n",
    "def dropna_auto(df, cols, thresh):\n",
    "    \"\"\"\n",
    "    Drop nulls for columns having null percentage less than the specified threshold\n",
    "    \"\"\"\n",
    "    for i in cols:\n",
    "        if df[i].isnull().sum()*100/df.shape[0] < thresh:\n",
    "            df.dropna(subset=[i], inplace=True)\n",
    "        else:\n",
    "            continue\n",
    "            \n",
    "def correlation(dataset, threshold):\n",
    "    \"\"\" Removes all columns with internal correlation with each other if they are than the specified 'threshold' \"\"\"\n",
    "    col_corr = set() # Set of all the names of deleted columns\n",
    "    corr_matrix = dataset.corr()\n",
    "    for i in range(len(corr_matrix.columns)):\n",
    "        for j in range(i):\n",
    "            if (corr_matrix.iloc[i, j] >= threshold or corr_matrix.iloc[i, j] <= -threshold) and (corr_matrix.columns[j] not in col_corr):\n",
    "                colname = corr_matrix.columns[i] # getting the name of column\n",
    "                col_corr.add(colname)\n",
    "                if colname in dataset.columns:\n",
    "                    del dataset[colname] # deleting the column from the dataset\n",
    "\n",
    "    print(dataset.columns)\n",
    "    \n",
    "\n",
    "def null_percentage(df, cols):\n",
    "    columns_with_nulls = []\n",
    "    for column in cols:\n",
    "        if df.loc[:, column].isnull().any():\n",
    "            columns_with_nulls.append(column)\n",
    "\n",
    "    for column in columns_with_nulls:\n",
    "        percent_missing = round(((df.loc[df.loc[:, column].isnull()].shape[0] / df.shape[0]) * 100), 4)\n",
    "        print(\"Column {} has {}% missing values \\n\".format(column, percent_missing))\n"
   ]
  },
  {
   "cell_type": "code",
   "execution_count": 20,
   "metadata": {},
   "outputs": [
    {
     "name": "stdout",
     "output_type": "stream",
     "text": [
      "<class 'pandas.core.frame.DataFrame'>\n",
      "Int64Index: 637774 entries, 0 to 637773\n",
      "Data columns (total 20 columns):\n",
      " #   Column                     Non-Null Count   Dtype   \n",
      "---  ------                     --------------   -----   \n",
      " 0   Date                       637774 non-null  object  \n",
      " 1   Store                      618473 non-null  float64 \n",
      " 2   DayOfWeek                  618757 non-null  float64 \n",
      " 3   Sales                      618747 non-null  float64 \n",
      " 4   Customers_x                618683 non-null  float64 \n",
      " 5   Open                       618588 non-null  float64 \n",
      " 6   Promo                      618580 non-null  float64 \n",
      " 7   StateHoliday               618520 non-null  object  \n",
      " 8   SchoolHoliday              618437 non-null  float64 \n",
      " 9   CustomerTraffic            618473 non-null  category\n",
      " 10  CustomerCategory           618473 non-null  category\n",
      " 11  StoreType                  618473 non-null  object  \n",
      " 12  Assortment                 618473 non-null  object  \n",
      " 13  CompetitionDistance        616838 non-null  float64 \n",
      " 14  CompetitionOpenSinceMonth  422043 non-null  float64 \n",
      " 15  CompetitionOpenSinceYear   422043 non-null  float64 \n",
      " 16  Promo2                     618473 non-null  float64 \n",
      " 17  Promo2SinceWeek            314828 non-null  float64 \n",
      " 18  Promo2SinceYear            314828 non-null  float64 \n",
      " 19  PromoInterval              314828 non-null  object  \n",
      "dtypes: category(2), float64(13), object(5)\n",
      "memory usage: 93.7+ MB\n"
     ]
    }
   ],
   "source": [
    "combined.shape\n",
    "combined.info()"
   ]
  },
  {
   "cell_type": "code",
   "execution_count": 21,
   "metadata": {},
   "outputs": [],
   "source": [
    "from scipy import stats"
   ]
  },
  {
   "cell_type": "code",
   "execution_count": 22,
   "metadata": {},
   "outputs": [],
   "source": [
    "combined.Promo2SinceWeek.fillna(0, inplace=True)\n",
    "combined.Promo2SinceYear.fillna(0, inplace=True)\n",
    "combined.PromoInterval.fillna(0, inplace=True)"
   ]
  },
  {
   "cell_type": "code",
   "execution_count": 23,
   "metadata": {},
   "outputs": [],
   "source": [
    "# fill the missing values assuming that year was old enough that person filling form doesn't \n",
    "\n",
    "combined.CompetitionOpenSinceMonth.fillna(combined.CompetitionOpenSinceMonth.median(), inplace=True)\n",
    "combined.CompetitionOpenSinceYear.fillna(2005.0, inplace=True)\n",
    "combined.CompetitionDistance.fillna(combined.CompetitionDistance.median(), inplace=True)"
   ]
  },
  {
   "cell_type": "code",
   "execution_count": 24,
   "metadata": {},
   "outputs": [
    {
     "name": "stdout",
     "output_type": "stream",
     "text": [
      "<class 'pandas.core.frame.DataFrame'>\n",
      "Int64Index: 637774 entries, 0 to 637773\n",
      "Data columns (total 20 columns):\n",
      " #   Column                     Non-Null Count   Dtype   \n",
      "---  ------                     --------------   -----   \n",
      " 0   Date                       637774 non-null  object  \n",
      " 1   Store                      618473 non-null  float64 \n",
      " 2   DayOfWeek                  618757 non-null  float64 \n",
      " 3   Sales                      618747 non-null  float64 \n",
      " 4   Customers_x                618683 non-null  float64 \n",
      " 5   Open                       618588 non-null  float64 \n",
      " 6   Promo                      618580 non-null  float64 \n",
      " 7   StateHoliday               618520 non-null  object  \n",
      " 8   SchoolHoliday              618437 non-null  float64 \n",
      " 9   CustomerTraffic            618473 non-null  category\n",
      " 10  CustomerCategory           618473 non-null  category\n",
      " 11  StoreType                  618473 non-null  object  \n",
      " 12  Assortment                 618473 non-null  object  \n",
      " 13  CompetitionDistance        637774 non-null  float64 \n",
      " 14  CompetitionOpenSinceMonth  637774 non-null  float64 \n",
      " 15  CompetitionOpenSinceYear   637774 non-null  float64 \n",
      " 16  Promo2                     618473 non-null  float64 \n",
      " 17  Promo2SinceWeek            637774 non-null  float64 \n",
      " 18  Promo2SinceYear            637774 non-null  float64 \n",
      " 19  PromoInterval              637774 non-null  object  \n",
      "dtypes: category(2), float64(13), object(5)\n",
      "memory usage: 93.7+ MB\n"
     ]
    }
   ],
   "source": [
    "combined.info()"
   ]
  },
  {
   "cell_type": "code",
   "execution_count": 25,
   "metadata": {},
   "outputs": [
    {
     "data": {
      "text/plain": [
       "Date                             0\n",
       "Store                        19301\n",
       "DayOfWeek                    19017\n",
       "Sales                        19027\n",
       "Customers_x                  19091\n",
       "Open                         19186\n",
       "Promo                        19194\n",
       "StateHoliday                 19254\n",
       "SchoolHoliday                19337\n",
       "CustomerTraffic              19301\n",
       "CustomerCategory             19301\n",
       "StoreType                    19301\n",
       "Assortment                   19301\n",
       "CompetitionDistance              0\n",
       "CompetitionOpenSinceMonth        0\n",
       "CompetitionOpenSinceYear         0\n",
       "Promo2                       19301\n",
       "Promo2SinceWeek                  0\n",
       "Promo2SinceYear                  0\n",
       "PromoInterval                    0\n",
       "dtype: int64"
      ]
     },
     "execution_count": 25,
     "metadata": {},
     "output_type": "execute_result"
    }
   ],
   "source": [
    "combined.isnull().sum()"
   ]
  },
  {
   "cell_type": "code",
   "execution_count": 26,
   "metadata": {},
   "outputs": [
    {
     "name": "stdout",
     "output_type": "stream",
     "text": [
      "Total number of rows in data set is:  637774\n",
      "Number of rows with missing Sales is:  19027\n"
     ]
    }
   ],
   "source": [
    "# getting number of rows with null price.\n",
    "# since we are trying to predict price, we will need to drop these. \n",
    "print(\"Total number of rows in data set is: \", combined.shape[0])\n",
    "print(\"Number of rows with missing Sales is: \",  combined.loc[combined.loc[:, \"Sales\"].isnull()].shape[0])"
   ]
  },
  {
   "cell_type": "markdown",
   "metadata": {},
   "source": [
    "## 2. Data Cleaning (and further understanding & analysis)\n",
    "Now that we have a very rough understanding of our data, we can move on to dealing with more of the null values.\n",
    "\n",
    "Data cleaning, understanding, and analysis are iterative processes. Often times, as we do analysis, we will find columns or rows that need to be cleaned, and as we are cleaning, we may get ideas for additional analysis we want to do. "
   ]
  },
  {
   "cell_type": "code",
   "execution_count": 27,
   "metadata": {},
   "outputs": [],
   "source": [
    "data = combined.loc[~combined.loc[:, \"Sales\"].isnull()]"
   ]
  },
  {
   "cell_type": "code",
   "execution_count": 28,
   "metadata": {},
   "outputs": [
    {
     "data": {
      "text/plain": [
       "(618747, 20)"
      ]
     },
     "execution_count": 28,
     "metadata": {},
     "output_type": "execute_result"
    }
   ],
   "source": [
    "data.shape"
   ]
  },
  {
   "cell_type": "code",
   "execution_count": null,
   "metadata": {},
   "outputs": [],
   "source": []
  },
  {
   "cell_type": "code",
   "execution_count": 29,
   "metadata": {},
   "outputs": [
    {
     "name": "stdout",
     "output_type": "stream",
     "text": [
      "<class 'pandas.core.frame.DataFrame'>\n",
      "Int64Index: 618747 entries, 0 to 637773\n",
      "Data columns (total 20 columns):\n",
      " #   Column                     Non-Null Count   Dtype   \n",
      "---  ------                     --------------   -----   \n",
      " 0   Date                       618747 non-null  object  \n",
      " 1   Store                      600028 non-null  float64 \n",
      " 2   DayOfWeek                  600282 non-null  float64 \n",
      " 3   Sales                      618747 non-null  float64 \n",
      " 4   Customers_x                600225 non-null  float64 \n",
      " 5   Open                       600125 non-null  float64 \n",
      " 6   Promo                      600053 non-null  float64 \n",
      " 7   StateHoliday               600067 non-null  object  \n",
      " 8   SchoolHoliday              599983 non-null  float64 \n",
      " 9   CustomerTraffic            600028 non-null  category\n",
      " 10  CustomerCategory           600028 non-null  category\n",
      " 11  StoreType                  600028 non-null  object  \n",
      " 12  Assortment                 600028 non-null  object  \n",
      " 13  CompetitionDistance        618747 non-null  float64 \n",
      " 14  CompetitionOpenSinceMonth  618747 non-null  float64 \n",
      " 15  CompetitionOpenSinceYear   618747 non-null  float64 \n",
      " 16  Promo2                     600028 non-null  float64 \n",
      " 17  Promo2SinceWeek            618747 non-null  float64 \n",
      " 18  Promo2SinceYear            618747 non-null  float64 \n",
      " 19  PromoInterval              618747 non-null  object  \n",
      "dtypes: category(2), float64(13), object(5)\n",
      "memory usage: 90.9+ MB\n"
     ]
    }
   ],
   "source": [
    "data.info()"
   ]
  },
  {
   "cell_type": "code",
   "execution_count": 30,
   "metadata": {},
   "outputs": [
    {
     "name": "stdout",
     "output_type": "stream",
     "text": [
      "Column Store has 3.0253% missing values \n",
      "\n",
      "Column DayOfWeek has 2.9843% missing values \n",
      "\n",
      "Column Customers_x has 2.9935% missing values \n",
      "\n",
      "Column Open has 3.0096% missing values \n",
      "\n",
      "Column Promo has 3.0213% missing values \n",
      "\n",
      "Column StateHoliday has 3.019% missing values \n",
      "\n",
      "Column SchoolHoliday has 3.0326% missing values \n",
      "\n",
      "Column CustomerTraffic has 3.0253% missing values \n",
      "\n",
      "Column CustomerCategory has 3.0253% missing values \n",
      "\n",
      "Column StoreType has 3.0253% missing values \n",
      "\n",
      "Column Assortment has 3.0253% missing values \n",
      "\n",
      "Column Promo2 has 3.0253% missing values \n",
      "\n"
     ]
    }
   ],
   "source": [
    "null_percentage(data, list(data.columns))"
   ]
  },
  {
   "cell_type": "markdown",
   "metadata": {},
   "source": [
    "Some of the columns which contain a very high amount of missing values, like Latitude, Longitude, can likely be proxied with another column, like Council Area or Regionname (since they are all related to location). \n",
    "\n",
    "Similarly, Bedroom2 and Bathroom can likely be reasonably well represented by the Room column.\n",
    "\n",
    "Building Area concerns the square meters of the property. It's sad that this one contains such a high percentage of missing values, as that would likely give more information than just the number of rooms.\n",
    "\n",
    "In our first iteration, since we are trying to get a model trained quickly, we will have to leave this one out, or get creative with another way of filling it in. For example, we could fill it in with the average building area from that neighborhood or postcode."
   ]
  },
  {
   "cell_type": "code",
   "execution_count": 31,
   "metadata": {},
   "outputs": [],
   "source": [
    "dropna_auto(data, list(data.columns), 55)"
   ]
  },
  {
   "cell_type": "code",
   "execution_count": 32,
   "metadata": {},
   "outputs": [],
   "source": [
    "null_percentage(data, list(data.columns))"
   ]
  },
  {
   "cell_type": "code",
   "execution_count": 33,
   "metadata": {},
   "outputs": [
    {
     "data": {
      "text/plain": [
       "Date                         0\n",
       "Store                        0\n",
       "DayOfWeek                    0\n",
       "Sales                        0\n",
       "Customers_x                  0\n",
       "Open                         0\n",
       "Promo                        0\n",
       "StateHoliday                 0\n",
       "SchoolHoliday                0\n",
       "CustomerTraffic              0\n",
       "CustomerCategory             0\n",
       "StoreType                    0\n",
       "Assortment                   0\n",
       "CompetitionDistance          0\n",
       "CompetitionOpenSinceMonth    0\n",
       "CompetitionOpenSinceYear     0\n",
       "Promo2                       0\n",
       "Promo2SinceWeek              0\n",
       "Promo2SinceYear              0\n",
       "PromoInterval                0\n",
       "dtype: int64"
      ]
     },
     "execution_count": 33,
     "metadata": {},
     "output_type": "execute_result"
    }
   ],
   "source": [
    "data.isnull().sum()"
   ]
  },
  {
   "cell_type": "code",
   "execution_count": 34,
   "metadata": {},
   "outputs": [
    {
     "name": "stdout",
     "output_type": "stream",
     "text": [
      "<class 'pandas.core.frame.DataFrame'>\n",
      "Int64Index: 499419 entries, 0 to 637773\n",
      "Data columns (total 20 columns):\n",
      " #   Column                     Non-Null Count   Dtype   \n",
      "---  ------                     --------------   -----   \n",
      " 0   Date                       499419 non-null  object  \n",
      " 1   Store                      499419 non-null  float64 \n",
      " 2   DayOfWeek                  499419 non-null  float64 \n",
      " 3   Sales                      499419 non-null  float64 \n",
      " 4   Customers_x                499419 non-null  float64 \n",
      " 5   Open                       499419 non-null  float64 \n",
      " 6   Promo                      499419 non-null  float64 \n",
      " 7   StateHoliday               499419 non-null  object  \n",
      " 8   SchoolHoliday              499419 non-null  float64 \n",
      " 9   CustomerTraffic            499419 non-null  category\n",
      " 10  CustomerCategory           499419 non-null  category\n",
      " 11  StoreType                  499419 non-null  object  \n",
      " 12  Assortment                 499419 non-null  object  \n",
      " 13  CompetitionDistance        499419 non-null  float64 \n",
      " 14  CompetitionOpenSinceMonth  499419 non-null  float64 \n",
      " 15  CompetitionOpenSinceYear   499419 non-null  float64 \n",
      " 16  Promo2                     499419 non-null  float64 \n",
      " 17  Promo2SinceWeek            499419 non-null  float64 \n",
      " 18  Promo2SinceYear            499419 non-null  float64 \n",
      " 19  PromoInterval              499419 non-null  object  \n",
      "dtypes: category(2), float64(13), object(5)\n",
      "memory usage: 73.3+ MB\n"
     ]
    }
   ],
   "source": [
    "# shape before dropping few nulls\n",
    "data.info()"
   ]
  },
  {
   "cell_type": "markdown",
   "metadata": {},
   "source": [
    "In the end, we only dropped 3 rows.\n",
    "This likely means that many of the null values for different columns were in the same row."
   ]
  },
  {
   "cell_type": "code",
   "execution_count": 35,
   "metadata": {},
   "outputs": [
    {
     "data": {
      "text/plain": [
       "[]"
      ]
     },
     "execution_count": 35,
     "metadata": {},
     "output_type": "execute_result"
    }
   ],
   "source": [
    "# updating our \"columns_with_nulls\" list\n",
    "columns_with_nulls = []\n",
    "for column in data.columns:\n",
    "    if data.loc[:, column].isnull().any():\n",
    "        columns_with_nulls.append(column)\n",
    "columns_with_nulls"
   ]
  },
  {
   "cell_type": "code",
   "execution_count": 36,
   "metadata": {},
   "outputs": [
    {
     "name": "stdout",
     "output_type": "stream",
     "text": [
      "Percentage of columns still containing missing values: 0.0\n"
     ]
    }
   ],
   "source": [
    "percent_columns_with_nulls = (len(columns_with_nulls) / len(data.columns)) * 100\n",
    "print(\"Percentage of columns still containing missing values: {}\".format(percent_columns_with_nulls))"
   ]
  },
  {
   "cell_type": "markdown",
   "metadata": {},
   "source": [
    "For our first model iteration, we will drop the roungly 1/3 of our columns that still contain null values. \n",
    "\n",
    "## 2.1  Encoding and Train-Test Split:\n",
    "To prevent data leakage, we will do our train/test split now, to hold out one part of the dataset completely away as the holdout set."
   ]
  },
  {
   "cell_type": "code",
   "execution_count": 37,
   "metadata": {},
   "outputs": [
    {
     "data": {
      "text/plain": [
       "Index(['Date', 'Store', 'DayOfWeek', 'Sales', 'Customers_x', 'Open', 'Promo',\n",
       "       'StateHoliday', 'SchoolHoliday', 'CustomerTraffic', 'CustomerCategory',\n",
       "       'StoreType', 'Assortment', 'CompetitionDistance',\n",
       "       'CompetitionOpenSinceMonth', 'CompetitionOpenSinceYear', 'Promo2',\n",
       "       'Promo2SinceWeek', 'Promo2SinceYear', 'PromoInterval'],\n",
       "      dtype='object')"
      ]
     },
     "execution_count": 37,
     "metadata": {},
     "output_type": "execute_result"
    }
   ],
   "source": [
    "data = data.drop(columns=columns_with_nulls)\n",
    "data.columns"
   ]
  },
  {
   "cell_type": "code",
   "execution_count": 38,
   "metadata": {},
   "outputs": [
    {
     "data": {
      "text/plain": [
       "Index(['Date', 'Store', 'DayOfWeek', 'Sales', 'Customers_x', 'Open', 'Promo',\n",
       "       'StateHoliday', 'SchoolHoliday', 'CustomerTraffic', 'CustomerCategory',\n",
       "       'StoreType', 'Assortment', 'CompetitionDistance',\n",
       "       'CompetitionOpenSinceMonth', 'CompetitionOpenSinceYear', 'Promo2',\n",
       "       'Promo2SinceWeek', 'Promo2SinceYear', 'PromoInterval'],\n",
       "      dtype='object')"
      ]
     },
     "execution_count": 38,
     "metadata": {},
     "output_type": "execute_result"
    }
   ],
   "source": [
    "data.columns"
   ]
  },
  {
   "cell_type": "code",
   "execution_count": 39,
   "metadata": {},
   "outputs": [],
   "source": [
    "time_decompose(data, 'Date')"
   ]
  },
  {
   "cell_type": "code",
   "execution_count": 40,
   "metadata": {},
   "outputs": [],
   "source": [
    "data.drop(columns='Date', inplace=True)"
   ]
  },
  {
   "cell_type": "code",
   "execution_count": 41,
   "metadata": {},
   "outputs": [],
   "source": [
    "data.PromoInterval.replace(0,'0', inplace=True)"
   ]
  },
  {
   "cell_type": "code",
   "execution_count": 42,
   "metadata": {},
   "outputs": [
    {
     "name": "stdout",
     "output_type": "stream",
     "text": [
      "<class 'pandas.core.frame.DataFrame'>\n",
      "Int64Index: 499419 entries, 0 to 637773\n",
      "Data columns (total 22 columns):\n",
      " #   Column                     Non-Null Count   Dtype   \n",
      "---  ------                     --------------   -----   \n",
      " 0   Store                      499419 non-null  float64 \n",
      " 1   DayOfWeek                  499419 non-null  float64 \n",
      " 2   Sales                      499419 non-null  float64 \n",
      " 3   Customers_x                499419 non-null  float64 \n",
      " 4   Open                       499419 non-null  float64 \n",
      " 5   Promo                      499419 non-null  float64 \n",
      " 6   StateHoliday               499419 non-null  object  \n",
      " 7   SchoolHoliday              499419 non-null  float64 \n",
      " 8   CustomerTraffic            499419 non-null  category\n",
      " 9   CustomerCategory           499419 non-null  category\n",
      " 10  StoreType                  499419 non-null  object  \n",
      " 11  Assortment                 499419 non-null  object  \n",
      " 12  CompetitionDistance        499419 non-null  float64 \n",
      " 13  CompetitionOpenSinceMonth  499419 non-null  float64 \n",
      " 14  CompetitionOpenSinceYear   499419 non-null  float64 \n",
      " 15  Promo2                     499419 non-null  float64 \n",
      " 16  Promo2SinceWeek            499419 non-null  float64 \n",
      " 17  Promo2SinceYear            499419 non-null  float64 \n",
      " 18  PromoInterval              499419 non-null  object  \n",
      " 19  Year                       499419 non-null  int64   \n",
      " 20  Month                      499419 non-null  int64   \n",
      " 21  DayofMonth                 499419 non-null  int64   \n",
      "dtypes: category(2), float64(13), int64(3), object(4)\n",
      "memory usage: 81.0+ MB\n"
     ]
    }
   ],
   "source": [
    "data.info()"
   ]
  },
  {
   "cell_type": "code",
   "execution_count": 43,
   "metadata": {},
   "outputs": [],
   "source": [
    "'''We have now seen that many of our categorical columns have a very large number of possible values (some with 200-300).\n",
    "\n",
    "This is too many to encoding using One Hot Encoding.\n",
    "\n",
    "So instead, we will use mean encoding, putting the average price for each of the potential category values as its new value.\n",
    "\n",
    "This helps us get all the columns to numeric format, for use in modelling!\n",
    "\n",
    "'''\n",
    "\n",
    "columns_to_mean_encode = ['Year', 'Month', 'DayofMonth', 'Store']\n",
    "mean_encode(data, columns_to_mean_encode, on='Sales')\n",
    "label_encoder(data, ['StoreType','Assortment' ])\n",
    "#one hot encoding for Foreign/Local Used column\n",
    "\n",
    "# create an object of the OneHotEncoder\n",
    "ce_one = ce.OneHotEncoder(cols=['StateHoliday'])\n",
    "\n",
    "data = ce_one.fit_transform(data)\n",
    "\n",
    "#Label Encoding the color column\n",
    "from sklearn.preprocessing import LabelEncoder\n",
    "\n",
    "le = LabelEncoder()  #instantiate the Label Encoder\n",
    "data['PromoInterval'] = le.fit_transform(data['PromoInterval'])\n",
    "\n",
    "#it's ideal to always instantiate new LabelEncoders for different columns"
   ]
  },
  {
   "cell_type": "code",
   "execution_count": 44,
   "metadata": {},
   "outputs": [
    {
     "data": {
      "text/plain": [
       "Index(['Store', 'DayOfWeek', 'Sales', 'Customers_x', 'Open', 'Promo',\n",
       "       'StateHoliday_1', 'StateHoliday_2', 'StateHoliday_3', 'StateHoliday_4',\n",
       "       'SchoolHoliday', 'CustomerTraffic', 'CustomerCategory', 'StoreType',\n",
       "       'Assortment', 'CompetitionDistance', 'CompetitionOpenSinceMonth',\n",
       "       'CompetitionOpenSinceYear', 'Promo2', 'Promo2SinceWeek',\n",
       "       'Promo2SinceYear', 'PromoInterval', 'Year', 'Month', 'DayofMonth',\n",
       "       'Year-original'],\n",
       "      dtype='object')"
      ]
     },
     "execution_count": 44,
     "metadata": {},
     "output_type": "execute_result"
    }
   ],
   "source": [
    "data.columns"
   ]
  },
  {
   "cell_type": "code",
   "execution_count": 45,
   "metadata": {},
   "outputs": [],
   "source": [
    "le = LabelEncoder()  #instantiate the Label Encoder\n",
    "data['CustomerTraffic'] = le.fit_transform(data['CustomerTraffic'])"
   ]
  },
  {
   "cell_type": "code",
   "execution_count": 46,
   "metadata": {},
   "outputs": [],
   "source": [
    "data['CustomerCategory'] = le.fit_transform(data['CustomerCategory'])"
   ]
  },
  {
   "cell_type": "code",
   "execution_count": 47,
   "metadata": {},
   "outputs": [],
   "source": [
    "columns_to_mean_encode = ['DayofMonth', 'Month']"
   ]
  },
  {
   "cell_type": "code",
   "execution_count": 48,
   "metadata": {},
   "outputs": [
    {
     "data": {
      "text/plain": [
       "0         4031.311408\n",
       "1         4031.311408\n",
       "2         4031.311408\n",
       "3         4031.311408\n",
       "4         4031.311408\n",
       "             ...     \n",
       "637766    6740.087338\n",
       "637768    6740.087338\n",
       "637769    6740.087338\n",
       "637772    6740.087338\n",
       "637773    6740.087338\n",
       "Name: DayofMonth, Length: 499419, dtype: float64"
      ]
     },
     "execution_count": 48,
     "metadata": {},
     "output_type": "execute_result"
    }
   ],
   "source": [
    "mean_encode(data, columns_to_mean_encode, on='Sales')"
   ]
  },
  {
   "cell_type": "code",
   "execution_count": 49,
   "metadata": {},
   "outputs": [],
   "source": [
    "data.drop(columns=[ 'DayofMonth-original'], inplace=True)"
   ]
  },
  {
   "cell_type": "code",
   "execution_count": 50,
   "metadata": {},
   "outputs": [],
   "source": [
    "data.drop(columns='Open', inplace=True)"
   ]
  },
  {
   "cell_type": "code",
   "execution_count": 51,
   "metadata": {},
   "outputs": [
    {
     "data": {
      "text/plain": [
       "1.0    254049\n",
       "0.0    245370\n",
       "Name: Promo2, dtype: int64"
      ]
     },
     "execution_count": 51,
     "metadata": {},
     "output_type": "execute_result"
    }
   ],
   "source": [
    "data.Promo2.value_counts()"
   ]
  },
  {
   "cell_type": "code",
   "execution_count": 52,
   "metadata": {},
   "outputs": [
    {
     "name": "stdout",
     "output_type": "stream",
     "text": [
      "<class 'pandas.core.frame.DataFrame'>\n",
      "Int64Index: 499419 entries, 0 to 637773\n",
      "Data columns (total 25 columns):\n",
      " #   Column                     Non-Null Count   Dtype  \n",
      "---  ------                     --------------   -----  \n",
      " 0   Store                      499419 non-null  float64\n",
      " 1   DayOfWeek                  499419 non-null  float64\n",
      " 2   Sales                      499419 non-null  float64\n",
      " 3   Customers_x                499419 non-null  float64\n",
      " 4   Promo                      499419 non-null  float64\n",
      " 5   StateHoliday_1             499419 non-null  int64  \n",
      " 6   StateHoliday_2             499419 non-null  int64  \n",
      " 7   StateHoliday_3             499419 non-null  int64  \n",
      " 8   StateHoliday_4             499419 non-null  int64  \n",
      " 9   SchoolHoliday              499419 non-null  float64\n",
      " 10  CustomerTraffic            499419 non-null  int32  \n",
      " 11  CustomerCategory           499419 non-null  int32  \n",
      " 12  StoreType                  499419 non-null  int32  \n",
      " 13  Assortment                 499419 non-null  int32  \n",
      " 14  CompetitionDistance        499419 non-null  float64\n",
      " 15  CompetitionOpenSinceMonth  499419 non-null  float64\n",
      " 16  CompetitionOpenSinceYear   499419 non-null  float64\n",
      " 17  Promo2                     499419 non-null  float64\n",
      " 18  Promo2SinceWeek            499419 non-null  float64\n",
      " 19  Promo2SinceYear            499419 non-null  float64\n",
      " 20  PromoInterval              499419 non-null  int32  \n",
      " 21  Year                       499419 non-null  float64\n",
      " 22  Month                      499419 non-null  int64  \n",
      " 23  DayofMonth                 499419 non-null  float64\n",
      " 24  Year-original              499419 non-null  int64  \n",
      "dtypes: float64(14), int32(5), int64(6)\n",
      "memory usage: 89.5 MB\n"
     ]
    }
   ],
   "source": [
    "data.info()"
   ]
  },
  {
   "cell_type": "code",
   "execution_count": 53,
   "metadata": {},
   "outputs": [
    {
     "data": {
      "text/plain": [
       "23"
      ]
     },
     "execution_count": 53,
     "metadata": {},
     "output_type": "execute_result"
    }
   ],
   "source": [
    "data.loc[data['Sales']==0].any().sum()"
   ]
  },
  {
   "cell_type": "code",
   "execution_count": 54,
   "metadata": {},
   "outputs": [],
   "source": [
    "data = data[data['Sales'] > 0]"
   ]
  },
  {
   "cell_type": "code",
   "execution_count": 55,
   "metadata": {},
   "outputs": [
    {
     "data": {
      "text/html": [
       "<div>\n",
       "<style scoped>\n",
       "    .dataframe tbody tr th:only-of-type {\n",
       "        vertical-align: middle;\n",
       "    }\n",
       "\n",
       "    .dataframe tbody tr th {\n",
       "        vertical-align: top;\n",
       "    }\n",
       "\n",
       "    .dataframe thead th {\n",
       "        text-align: right;\n",
       "    }\n",
       "</style>\n",
       "<table border=\"1\" class=\"dataframe\">\n",
       "  <thead>\n",
       "    <tr style=\"text-align: right;\">\n",
       "      <th></th>\n",
       "      <th>Store</th>\n",
       "      <th>DayOfWeek</th>\n",
       "      <th>Sales</th>\n",
       "      <th>Customers_x</th>\n",
       "      <th>Promo</th>\n",
       "      <th>StateHoliday_1</th>\n",
       "      <th>StateHoliday_2</th>\n",
       "      <th>StateHoliday_3</th>\n",
       "      <th>StateHoliday_4</th>\n",
       "      <th>SchoolHoliday</th>\n",
       "      <th>...</th>\n",
       "      <th>CompetitionOpenSinceMonth</th>\n",
       "      <th>CompetitionOpenSinceYear</th>\n",
       "      <th>Promo2</th>\n",
       "      <th>Promo2SinceWeek</th>\n",
       "      <th>Promo2SinceYear</th>\n",
       "      <th>PromoInterval</th>\n",
       "      <th>Year</th>\n",
       "      <th>Month</th>\n",
       "      <th>DayofMonth</th>\n",
       "      <th>Year-original</th>\n",
       "    </tr>\n",
       "  </thead>\n",
       "  <tbody>\n",
       "    <tr>\n",
       "      <th>27</th>\n",
       "      <td>353.0</td>\n",
       "      <td>2.0</td>\n",
       "      <td>3139.0</td>\n",
       "      <td>820.0</td>\n",
       "      <td>0.0</td>\n",
       "      <td>1</td>\n",
       "      <td>0</td>\n",
       "      <td>0</td>\n",
       "      <td>0</td>\n",
       "      <td>1.0</td>\n",
       "      <td>...</td>\n",
       "      <td>8.0</td>\n",
       "      <td>2005.0</td>\n",
       "      <td>1.0</td>\n",
       "      <td>14.0</td>\n",
       "      <td>2013.0</td>\n",
       "      <td>1</td>\n",
       "      <td>5656.550582</td>\n",
       "      <td>1</td>\n",
       "      <td>4031.311408</td>\n",
       "      <td>2013</td>\n",
       "    </tr>\n",
       "    <tr>\n",
       "      <th>115</th>\n",
       "      <td>335.0</td>\n",
       "      <td>2.0</td>\n",
       "      <td>2401.0</td>\n",
       "      <td>482.0</td>\n",
       "      <td>0.0</td>\n",
       "      <td>1</td>\n",
       "      <td>0</td>\n",
       "      <td>0</td>\n",
       "      <td>0</td>\n",
       "      <td>1.0</td>\n",
       "      <td>...</td>\n",
       "      <td>8.0</td>\n",
       "      <td>2005.0</td>\n",
       "      <td>1.0</td>\n",
       "      <td>31.0</td>\n",
       "      <td>2013.0</td>\n",
       "      <td>2</td>\n",
       "      <td>5656.550582</td>\n",
       "      <td>1</td>\n",
       "      <td>4031.311408</td>\n",
       "      <td>2013</td>\n",
       "    </tr>\n",
       "    <tr>\n",
       "      <th>147</th>\n",
       "      <td>512.0</td>\n",
       "      <td>2.0</td>\n",
       "      <td>2646.0</td>\n",
       "      <td>625.0</td>\n",
       "      <td>0.0</td>\n",
       "      <td>1</td>\n",
       "      <td>0</td>\n",
       "      <td>0</td>\n",
       "      <td>0</td>\n",
       "      <td>1.0</td>\n",
       "      <td>...</td>\n",
       "      <td>8.0</td>\n",
       "      <td>2005.0</td>\n",
       "      <td>1.0</td>\n",
       "      <td>5.0</td>\n",
       "      <td>2013.0</td>\n",
       "      <td>3</td>\n",
       "      <td>5656.550582</td>\n",
       "      <td>1</td>\n",
       "      <td>4031.311408</td>\n",
       "      <td>2013</td>\n",
       "    </tr>\n",
       "    <tr>\n",
       "      <th>162</th>\n",
       "      <td>494.0</td>\n",
       "      <td>2.0</td>\n",
       "      <td>3113.0</td>\n",
       "      <td>527.0</td>\n",
       "      <td>0.0</td>\n",
       "      <td>1</td>\n",
       "      <td>0</td>\n",
       "      <td>0</td>\n",
       "      <td>0</td>\n",
       "      <td>1.0</td>\n",
       "      <td>...</td>\n",
       "      <td>6.0</td>\n",
       "      <td>2011.0</td>\n",
       "      <td>0.0</td>\n",
       "      <td>0.0</td>\n",
       "      <td>0.0</td>\n",
       "      <td>0</td>\n",
       "      <td>5656.550582</td>\n",
       "      <td>1</td>\n",
       "      <td>4031.311408</td>\n",
       "      <td>2013</td>\n",
       "    </tr>\n",
       "    <tr>\n",
       "      <th>199</th>\n",
       "      <td>530.0</td>\n",
       "      <td>2.0</td>\n",
       "      <td>2907.0</td>\n",
       "      <td>532.0</td>\n",
       "      <td>0.0</td>\n",
       "      <td>1</td>\n",
       "      <td>0</td>\n",
       "      <td>0</td>\n",
       "      <td>0</td>\n",
       "      <td>1.0</td>\n",
       "      <td>...</td>\n",
       "      <td>8.0</td>\n",
       "      <td>2005.0</td>\n",
       "      <td>0.0</td>\n",
       "      <td>0.0</td>\n",
       "      <td>0.0</td>\n",
       "      <td>0</td>\n",
       "      <td>5656.550582</td>\n",
       "      <td>1</td>\n",
       "      <td>4031.311408</td>\n",
       "      <td>2013</td>\n",
       "    </tr>\n",
       "    <tr>\n",
       "      <th>...</th>\n",
       "      <td>...</td>\n",
       "      <td>...</td>\n",
       "      <td>...</td>\n",
       "      <td>...</td>\n",
       "      <td>...</td>\n",
       "      <td>...</td>\n",
       "      <td>...</td>\n",
       "      <td>...</td>\n",
       "      <td>...</td>\n",
       "      <td>...</td>\n",
       "      <td>...</td>\n",
       "      <td>...</td>\n",
       "      <td>...</td>\n",
       "      <td>...</td>\n",
       "      <td>...</td>\n",
       "      <td>...</td>\n",
       "      <td>...</td>\n",
       "      <td>...</td>\n",
       "      <td>...</td>\n",
       "      <td>...</td>\n",
       "      <td>...</td>\n",
       "    </tr>\n",
       "    <tr>\n",
       "      <th>637766</th>\n",
       "      <td>748.0</td>\n",
       "      <td>4.0</td>\n",
       "      <td>7616.0</td>\n",
       "      <td>549.0</td>\n",
       "      <td>1.0</td>\n",
       "      <td>0</td>\n",
       "      <td>1</td>\n",
       "      <td>0</td>\n",
       "      <td>0</td>\n",
       "      <td>1.0</td>\n",
       "      <td>...</td>\n",
       "      <td>3.0</td>\n",
       "      <td>2010.0</td>\n",
       "      <td>1.0</td>\n",
       "      <td>14.0</td>\n",
       "      <td>2011.0</td>\n",
       "      <td>2</td>\n",
       "      <td>5686.101838</td>\n",
       "      <td>7</td>\n",
       "      <td>6740.087338</td>\n",
       "      <td>2014</td>\n",
       "    </tr>\n",
       "    <tr>\n",
       "      <th>637768</th>\n",
       "      <td>743.0</td>\n",
       "      <td>4.0</td>\n",
       "      <td>4527.0</td>\n",
       "      <td>473.0</td>\n",
       "      <td>1.0</td>\n",
       "      <td>0</td>\n",
       "      <td>1</td>\n",
       "      <td>0</td>\n",
       "      <td>0</td>\n",
       "      <td>1.0</td>\n",
       "      <td>...</td>\n",
       "      <td>11.0</td>\n",
       "      <td>2003.0</td>\n",
       "      <td>1.0</td>\n",
       "      <td>14.0</td>\n",
       "      <td>2012.0</td>\n",
       "      <td>2</td>\n",
       "      <td>5686.101838</td>\n",
       "      <td>7</td>\n",
       "      <td>6740.087338</td>\n",
       "      <td>2014</td>\n",
       "    </tr>\n",
       "    <tr>\n",
       "      <th>637769</th>\n",
       "      <td>752.0</td>\n",
       "      <td>4.0</td>\n",
       "      <td>7259.0</td>\n",
       "      <td>576.0</td>\n",
       "      <td>1.0</td>\n",
       "      <td>0</td>\n",
       "      <td>1</td>\n",
       "      <td>0</td>\n",
       "      <td>0</td>\n",
       "      <td>1.0</td>\n",
       "      <td>...</td>\n",
       "      <td>3.0</td>\n",
       "      <td>2013.0</td>\n",
       "      <td>1.0</td>\n",
       "      <td>31.0</td>\n",
       "      <td>2013.0</td>\n",
       "      <td>1</td>\n",
       "      <td>5686.101838</td>\n",
       "      <td>7</td>\n",
       "      <td>6740.087338</td>\n",
       "      <td>2014</td>\n",
       "    </tr>\n",
       "    <tr>\n",
       "      <th>637772</th>\n",
       "      <td>755.0</td>\n",
       "      <td>4.0</td>\n",
       "      <td>12302.0</td>\n",
       "      <td>1020.0</td>\n",
       "      <td>1.0</td>\n",
       "      <td>0</td>\n",
       "      <td>1</td>\n",
       "      <td>0</td>\n",
       "      <td>0</td>\n",
       "      <td>1.0</td>\n",
       "      <td>...</td>\n",
       "      <td>12.0</td>\n",
       "      <td>2003.0</td>\n",
       "      <td>0.0</td>\n",
       "      <td>0.0</td>\n",
       "      <td>0.0</td>\n",
       "      <td>0</td>\n",
       "      <td>5686.101838</td>\n",
       "      <td>7</td>\n",
       "      <td>6740.087338</td>\n",
       "      <td>2014</td>\n",
       "    </tr>\n",
       "    <tr>\n",
       "      <th>637773</th>\n",
       "      <td>751.0</td>\n",
       "      <td>4.0</td>\n",
       "      <td>3913.0</td>\n",
       "      <td>539.0</td>\n",
       "      <td>1.0</td>\n",
       "      <td>0</td>\n",
       "      <td>1</td>\n",
       "      <td>0</td>\n",
       "      <td>0</td>\n",
       "      <td>1.0</td>\n",
       "      <td>...</td>\n",
       "      <td>10.0</td>\n",
       "      <td>2006.0</td>\n",
       "      <td>0.0</td>\n",
       "      <td>0.0</td>\n",
       "      <td>0.0</td>\n",
       "      <td>0</td>\n",
       "      <td>5686.101838</td>\n",
       "      <td>7</td>\n",
       "      <td>6740.087338</td>\n",
       "      <td>2014</td>\n",
       "    </tr>\n",
       "  </tbody>\n",
       "</table>\n",
       "<p>413964 rows × 25 columns</p>\n",
       "</div>"
      ],
      "text/plain": [
       "        Store  DayOfWeek    Sales  Customers_x  Promo  StateHoliday_1  \\\n",
       "27      353.0        2.0   3139.0        820.0    0.0               1   \n",
       "115     335.0        2.0   2401.0        482.0    0.0               1   \n",
       "147     512.0        2.0   2646.0        625.0    0.0               1   \n",
       "162     494.0        2.0   3113.0        527.0    0.0               1   \n",
       "199     530.0        2.0   2907.0        532.0    0.0               1   \n",
       "...       ...        ...      ...          ...    ...             ...   \n",
       "637766  748.0        4.0   7616.0        549.0    1.0               0   \n",
       "637768  743.0        4.0   4527.0        473.0    1.0               0   \n",
       "637769  752.0        4.0   7259.0        576.0    1.0               0   \n",
       "637772  755.0        4.0  12302.0       1020.0    1.0               0   \n",
       "637773  751.0        4.0   3913.0        539.0    1.0               0   \n",
       "\n",
       "        StateHoliday_2  StateHoliday_3  StateHoliday_4  SchoolHoliday  ...  \\\n",
       "27                   0               0               0            1.0  ...   \n",
       "115                  0               0               0            1.0  ...   \n",
       "147                  0               0               0            1.0  ...   \n",
       "162                  0               0               0            1.0  ...   \n",
       "199                  0               0               0            1.0  ...   \n",
       "...                ...             ...             ...            ...  ...   \n",
       "637766               1               0               0            1.0  ...   \n",
       "637768               1               0               0            1.0  ...   \n",
       "637769               1               0               0            1.0  ...   \n",
       "637772               1               0               0            1.0  ...   \n",
       "637773               1               0               0            1.0  ...   \n",
       "\n",
       "        CompetitionOpenSinceMonth  CompetitionOpenSinceYear  Promo2  \\\n",
       "27                            8.0                    2005.0     1.0   \n",
       "115                           8.0                    2005.0     1.0   \n",
       "147                           8.0                    2005.0     1.0   \n",
       "162                           6.0                    2011.0     0.0   \n",
       "199                           8.0                    2005.0     0.0   \n",
       "...                           ...                       ...     ...   \n",
       "637766                        3.0                    2010.0     1.0   \n",
       "637768                       11.0                    2003.0     1.0   \n",
       "637769                        3.0                    2013.0     1.0   \n",
       "637772                       12.0                    2003.0     0.0   \n",
       "637773                       10.0                    2006.0     0.0   \n",
       "\n",
       "        Promo2SinceWeek  Promo2SinceYear  PromoInterval         Year  Month  \\\n",
       "27                 14.0           2013.0              1  5656.550582      1   \n",
       "115                31.0           2013.0              2  5656.550582      1   \n",
       "147                 5.0           2013.0              3  5656.550582      1   \n",
       "162                 0.0              0.0              0  5656.550582      1   \n",
       "199                 0.0              0.0              0  5656.550582      1   \n",
       "...                 ...              ...            ...          ...    ...   \n",
       "637766             14.0           2011.0              2  5686.101838      7   \n",
       "637768             14.0           2012.0              2  5686.101838      7   \n",
       "637769             31.0           2013.0              1  5686.101838      7   \n",
       "637772              0.0              0.0              0  5686.101838      7   \n",
       "637773              0.0              0.0              0  5686.101838      7   \n",
       "\n",
       "         DayofMonth  Year-original  \n",
       "27      4031.311408           2013  \n",
       "115     4031.311408           2013  \n",
       "147     4031.311408           2013  \n",
       "162     4031.311408           2013  \n",
       "199     4031.311408           2013  \n",
       "...             ...            ...  \n",
       "637766  6740.087338           2014  \n",
       "637768  6740.087338           2014  \n",
       "637769  6740.087338           2014  \n",
       "637772  6740.087338           2014  \n",
       "637773  6740.087338           2014  \n",
       "\n",
       "[413964 rows x 25 columns]"
      ]
     },
     "execution_count": 55,
     "metadata": {},
     "output_type": "execute_result"
    }
   ],
   "source": [
    "data"
   ]
  },
  {
   "cell_type": "markdown",
   "metadata": {},
   "source": [
    "# Model Building with PyCaret"
   ]
  },
  {
   "cell_type": "code",
   "execution_count": null,
   "metadata": {},
   "outputs": [],
   "source": [
    "#!pip install pycaret"
   ]
  },
  {
   "cell_type": "code",
   "execution_count": 56,
   "metadata": {},
   "outputs": [],
   "source": [
    "from pycaret.regression import *"
   ]
  },
  {
   "cell_type": "code",
   "execution_count": 57,
   "metadata": {},
   "outputs": [
    {
     "data": {
      "text/html": [
       "<style  type=\"text/css\" >\n",
       "#T_e5a8e034_fb70_11eb_8506_8030498dc8f0row17_col1,#T_e5a8e034_fb70_11eb_8506_8030498dc8f0row27_col1,#T_e5a8e034_fb70_11eb_8506_8030498dc8f0row29_col1,#T_e5a8e034_fb70_11eb_8506_8030498dc8f0row34_col1,#T_e5a8e034_fb70_11eb_8506_8030498dc8f0row40_col1,#T_e5a8e034_fb70_11eb_8506_8030498dc8f0row42_col1,#T_e5a8e034_fb70_11eb_8506_8030498dc8f0row50_col1{\n",
       "            background-color:  lightgreen;\n",
       "        }</style><table id=\"T_e5a8e034_fb70_11eb_8506_8030498dc8f0\" ><thead>    <tr>        <th class=\"blank level0\" ></th>        <th class=\"col_heading level0 col0\" >Description</th>        <th class=\"col_heading level0 col1\" >Value</th>    </tr></thead><tbody>\n",
       "                <tr>\n",
       "                        <th id=\"T_e5a8e034_fb70_11eb_8506_8030498dc8f0level0_row0\" class=\"row_heading level0 row0\" >0</th>\n",
       "                        <td id=\"T_e5a8e034_fb70_11eb_8506_8030498dc8f0row0_col0\" class=\"data row0 col0\" >session_id</td>\n",
       "                        <td id=\"T_e5a8e034_fb70_11eb_8506_8030498dc8f0row0_col1\" class=\"data row0 col1\" >42</td>\n",
       "            </tr>\n",
       "            <tr>\n",
       "                        <th id=\"T_e5a8e034_fb70_11eb_8506_8030498dc8f0level0_row1\" class=\"row_heading level0 row1\" >1</th>\n",
       "                        <td id=\"T_e5a8e034_fb70_11eb_8506_8030498dc8f0row1_col0\" class=\"data row1 col0\" >Target</td>\n",
       "                        <td id=\"T_e5a8e034_fb70_11eb_8506_8030498dc8f0row1_col1\" class=\"data row1 col1\" >Sales</td>\n",
       "            </tr>\n",
       "            <tr>\n",
       "                        <th id=\"T_e5a8e034_fb70_11eb_8506_8030498dc8f0level0_row2\" class=\"row_heading level0 row2\" >2</th>\n",
       "                        <td id=\"T_e5a8e034_fb70_11eb_8506_8030498dc8f0row2_col0\" class=\"data row2 col0\" >Original Data</td>\n",
       "                        <td id=\"T_e5a8e034_fb70_11eb_8506_8030498dc8f0row2_col1\" class=\"data row2 col1\" >(20000, 25)</td>\n",
       "            </tr>\n",
       "            <tr>\n",
       "                        <th id=\"T_e5a8e034_fb70_11eb_8506_8030498dc8f0level0_row3\" class=\"row_heading level0 row3\" >3</th>\n",
       "                        <td id=\"T_e5a8e034_fb70_11eb_8506_8030498dc8f0row3_col0\" class=\"data row3 col0\" >Missing Values</td>\n",
       "                        <td id=\"T_e5a8e034_fb70_11eb_8506_8030498dc8f0row3_col1\" class=\"data row3 col1\" >False</td>\n",
       "            </tr>\n",
       "            <tr>\n",
       "                        <th id=\"T_e5a8e034_fb70_11eb_8506_8030498dc8f0level0_row4\" class=\"row_heading level0 row4\" >4</th>\n",
       "                        <td id=\"T_e5a8e034_fb70_11eb_8506_8030498dc8f0row4_col0\" class=\"data row4 col0\" >Numeric Features</td>\n",
       "                        <td id=\"T_e5a8e034_fb70_11eb_8506_8030498dc8f0row4_col1\" class=\"data row4 col1\" >14</td>\n",
       "            </tr>\n",
       "            <tr>\n",
       "                        <th id=\"T_e5a8e034_fb70_11eb_8506_8030498dc8f0level0_row5\" class=\"row_heading level0 row5\" >5</th>\n",
       "                        <td id=\"T_e5a8e034_fb70_11eb_8506_8030498dc8f0row5_col0\" class=\"data row5 col0\" >Categorical Features</td>\n",
       "                        <td id=\"T_e5a8e034_fb70_11eb_8506_8030498dc8f0row5_col1\" class=\"data row5 col1\" >10</td>\n",
       "            </tr>\n",
       "            <tr>\n",
       "                        <th id=\"T_e5a8e034_fb70_11eb_8506_8030498dc8f0level0_row6\" class=\"row_heading level0 row6\" >6</th>\n",
       "                        <td id=\"T_e5a8e034_fb70_11eb_8506_8030498dc8f0row6_col0\" class=\"data row6 col0\" >Ordinal Features</td>\n",
       "                        <td id=\"T_e5a8e034_fb70_11eb_8506_8030498dc8f0row6_col1\" class=\"data row6 col1\" >False</td>\n",
       "            </tr>\n",
       "            <tr>\n",
       "                        <th id=\"T_e5a8e034_fb70_11eb_8506_8030498dc8f0level0_row7\" class=\"row_heading level0 row7\" >7</th>\n",
       "                        <td id=\"T_e5a8e034_fb70_11eb_8506_8030498dc8f0row7_col0\" class=\"data row7 col0\" >High Cardinality Features</td>\n",
       "                        <td id=\"T_e5a8e034_fb70_11eb_8506_8030498dc8f0row7_col1\" class=\"data row7 col1\" >False</td>\n",
       "            </tr>\n",
       "            <tr>\n",
       "                        <th id=\"T_e5a8e034_fb70_11eb_8506_8030498dc8f0level0_row8\" class=\"row_heading level0 row8\" >8</th>\n",
       "                        <td id=\"T_e5a8e034_fb70_11eb_8506_8030498dc8f0row8_col0\" class=\"data row8 col0\" >High Cardinality Method</td>\n",
       "                        <td id=\"T_e5a8e034_fb70_11eb_8506_8030498dc8f0row8_col1\" class=\"data row8 col1\" >None</td>\n",
       "            </tr>\n",
       "            <tr>\n",
       "                        <th id=\"T_e5a8e034_fb70_11eb_8506_8030498dc8f0level0_row9\" class=\"row_heading level0 row9\" >9</th>\n",
       "                        <td id=\"T_e5a8e034_fb70_11eb_8506_8030498dc8f0row9_col0\" class=\"data row9 col0\" >Transformed Train Set</td>\n",
       "                        <td id=\"T_e5a8e034_fb70_11eb_8506_8030498dc8f0row9_col1\" class=\"data row9 col1\" >(13999, 24)</td>\n",
       "            </tr>\n",
       "            <tr>\n",
       "                        <th id=\"T_e5a8e034_fb70_11eb_8506_8030498dc8f0level0_row10\" class=\"row_heading level0 row10\" >10</th>\n",
       "                        <td id=\"T_e5a8e034_fb70_11eb_8506_8030498dc8f0row10_col0\" class=\"data row10 col0\" >Transformed Test Set</td>\n",
       "                        <td id=\"T_e5a8e034_fb70_11eb_8506_8030498dc8f0row10_col1\" class=\"data row10 col1\" >(6001, 24)</td>\n",
       "            </tr>\n",
       "            <tr>\n",
       "                        <th id=\"T_e5a8e034_fb70_11eb_8506_8030498dc8f0level0_row11\" class=\"row_heading level0 row11\" >11</th>\n",
       "                        <td id=\"T_e5a8e034_fb70_11eb_8506_8030498dc8f0row11_col0\" class=\"data row11 col0\" >Shuffle Train-Test</td>\n",
       "                        <td id=\"T_e5a8e034_fb70_11eb_8506_8030498dc8f0row11_col1\" class=\"data row11 col1\" >True</td>\n",
       "            </tr>\n",
       "            <tr>\n",
       "                        <th id=\"T_e5a8e034_fb70_11eb_8506_8030498dc8f0level0_row12\" class=\"row_heading level0 row12\" >12</th>\n",
       "                        <td id=\"T_e5a8e034_fb70_11eb_8506_8030498dc8f0row12_col0\" class=\"data row12 col0\" >Stratify Train-Test</td>\n",
       "                        <td id=\"T_e5a8e034_fb70_11eb_8506_8030498dc8f0row12_col1\" class=\"data row12 col1\" >False</td>\n",
       "            </tr>\n",
       "            <tr>\n",
       "                        <th id=\"T_e5a8e034_fb70_11eb_8506_8030498dc8f0level0_row13\" class=\"row_heading level0 row13\" >13</th>\n",
       "                        <td id=\"T_e5a8e034_fb70_11eb_8506_8030498dc8f0row13_col0\" class=\"data row13 col0\" >Fold Generator</td>\n",
       "                        <td id=\"T_e5a8e034_fb70_11eb_8506_8030498dc8f0row13_col1\" class=\"data row13 col1\" >KFold</td>\n",
       "            </tr>\n",
       "            <tr>\n",
       "                        <th id=\"T_e5a8e034_fb70_11eb_8506_8030498dc8f0level0_row14\" class=\"row_heading level0 row14\" >14</th>\n",
       "                        <td id=\"T_e5a8e034_fb70_11eb_8506_8030498dc8f0row14_col0\" class=\"data row14 col0\" >Fold Number</td>\n",
       "                        <td id=\"T_e5a8e034_fb70_11eb_8506_8030498dc8f0row14_col1\" class=\"data row14 col1\" >10</td>\n",
       "            </tr>\n",
       "            <tr>\n",
       "                        <th id=\"T_e5a8e034_fb70_11eb_8506_8030498dc8f0level0_row15\" class=\"row_heading level0 row15\" >15</th>\n",
       "                        <td id=\"T_e5a8e034_fb70_11eb_8506_8030498dc8f0row15_col0\" class=\"data row15 col0\" >CPU Jobs</td>\n",
       "                        <td id=\"T_e5a8e034_fb70_11eb_8506_8030498dc8f0row15_col1\" class=\"data row15 col1\" >-1</td>\n",
       "            </tr>\n",
       "            <tr>\n",
       "                        <th id=\"T_e5a8e034_fb70_11eb_8506_8030498dc8f0level0_row16\" class=\"row_heading level0 row16\" >16</th>\n",
       "                        <td id=\"T_e5a8e034_fb70_11eb_8506_8030498dc8f0row16_col0\" class=\"data row16 col0\" >Use GPU</td>\n",
       "                        <td id=\"T_e5a8e034_fb70_11eb_8506_8030498dc8f0row16_col1\" class=\"data row16 col1\" >False</td>\n",
       "            </tr>\n",
       "            <tr>\n",
       "                        <th id=\"T_e5a8e034_fb70_11eb_8506_8030498dc8f0level0_row17\" class=\"row_heading level0 row17\" >17</th>\n",
       "                        <td id=\"T_e5a8e034_fb70_11eb_8506_8030498dc8f0row17_col0\" class=\"data row17 col0\" >Log Experiment</td>\n",
       "                        <td id=\"T_e5a8e034_fb70_11eb_8506_8030498dc8f0row17_col1\" class=\"data row17 col1\" >True</td>\n",
       "            </tr>\n",
       "            <tr>\n",
       "                        <th id=\"T_e5a8e034_fb70_11eb_8506_8030498dc8f0level0_row18\" class=\"row_heading level0 row18\" >18</th>\n",
       "                        <td id=\"T_e5a8e034_fb70_11eb_8506_8030498dc8f0row18_col0\" class=\"data row18 col0\" >Experiment Name</td>\n",
       "                        <td id=\"T_e5a8e034_fb70_11eb_8506_8030498dc8f0row18_col1\" class=\"data row18 col1\" >regression1</td>\n",
       "            </tr>\n",
       "            <tr>\n",
       "                        <th id=\"T_e5a8e034_fb70_11eb_8506_8030498dc8f0level0_row19\" class=\"row_heading level0 row19\" >19</th>\n",
       "                        <td id=\"T_e5a8e034_fb70_11eb_8506_8030498dc8f0row19_col0\" class=\"data row19 col0\" >USI</td>\n",
       "                        <td id=\"T_e5a8e034_fb70_11eb_8506_8030498dc8f0row19_col1\" class=\"data row19 col1\" >2e29</td>\n",
       "            </tr>\n",
       "            <tr>\n",
       "                        <th id=\"T_e5a8e034_fb70_11eb_8506_8030498dc8f0level0_row20\" class=\"row_heading level0 row20\" >20</th>\n",
       "                        <td id=\"T_e5a8e034_fb70_11eb_8506_8030498dc8f0row20_col0\" class=\"data row20 col0\" >Imputation Type</td>\n",
       "                        <td id=\"T_e5a8e034_fb70_11eb_8506_8030498dc8f0row20_col1\" class=\"data row20 col1\" >simple</td>\n",
       "            </tr>\n",
       "            <tr>\n",
       "                        <th id=\"T_e5a8e034_fb70_11eb_8506_8030498dc8f0level0_row21\" class=\"row_heading level0 row21\" >21</th>\n",
       "                        <td id=\"T_e5a8e034_fb70_11eb_8506_8030498dc8f0row21_col0\" class=\"data row21 col0\" >Iterative Imputation Iteration</td>\n",
       "                        <td id=\"T_e5a8e034_fb70_11eb_8506_8030498dc8f0row21_col1\" class=\"data row21 col1\" >None</td>\n",
       "            </tr>\n",
       "            <tr>\n",
       "                        <th id=\"T_e5a8e034_fb70_11eb_8506_8030498dc8f0level0_row22\" class=\"row_heading level0 row22\" >22</th>\n",
       "                        <td id=\"T_e5a8e034_fb70_11eb_8506_8030498dc8f0row22_col0\" class=\"data row22 col0\" >Numeric Imputer</td>\n",
       "                        <td id=\"T_e5a8e034_fb70_11eb_8506_8030498dc8f0row22_col1\" class=\"data row22 col1\" >mean</td>\n",
       "            </tr>\n",
       "            <tr>\n",
       "                        <th id=\"T_e5a8e034_fb70_11eb_8506_8030498dc8f0level0_row23\" class=\"row_heading level0 row23\" >23</th>\n",
       "                        <td id=\"T_e5a8e034_fb70_11eb_8506_8030498dc8f0row23_col0\" class=\"data row23 col0\" >Iterative Imputation Numeric Model</td>\n",
       "                        <td id=\"T_e5a8e034_fb70_11eb_8506_8030498dc8f0row23_col1\" class=\"data row23 col1\" >None</td>\n",
       "            </tr>\n",
       "            <tr>\n",
       "                        <th id=\"T_e5a8e034_fb70_11eb_8506_8030498dc8f0level0_row24\" class=\"row_heading level0 row24\" >24</th>\n",
       "                        <td id=\"T_e5a8e034_fb70_11eb_8506_8030498dc8f0row24_col0\" class=\"data row24 col0\" >Categorical Imputer</td>\n",
       "                        <td id=\"T_e5a8e034_fb70_11eb_8506_8030498dc8f0row24_col1\" class=\"data row24 col1\" >constant</td>\n",
       "            </tr>\n",
       "            <tr>\n",
       "                        <th id=\"T_e5a8e034_fb70_11eb_8506_8030498dc8f0level0_row25\" class=\"row_heading level0 row25\" >25</th>\n",
       "                        <td id=\"T_e5a8e034_fb70_11eb_8506_8030498dc8f0row25_col0\" class=\"data row25 col0\" >Iterative Imputation Categorical Model</td>\n",
       "                        <td id=\"T_e5a8e034_fb70_11eb_8506_8030498dc8f0row25_col1\" class=\"data row25 col1\" >None</td>\n",
       "            </tr>\n",
       "            <tr>\n",
       "                        <th id=\"T_e5a8e034_fb70_11eb_8506_8030498dc8f0level0_row26\" class=\"row_heading level0 row26\" >26</th>\n",
       "                        <td id=\"T_e5a8e034_fb70_11eb_8506_8030498dc8f0row26_col0\" class=\"data row26 col0\" >Unknown Categoricals Handling</td>\n",
       "                        <td id=\"T_e5a8e034_fb70_11eb_8506_8030498dc8f0row26_col1\" class=\"data row26 col1\" >least_frequent</td>\n",
       "            </tr>\n",
       "            <tr>\n",
       "                        <th id=\"T_e5a8e034_fb70_11eb_8506_8030498dc8f0level0_row27\" class=\"row_heading level0 row27\" >27</th>\n",
       "                        <td id=\"T_e5a8e034_fb70_11eb_8506_8030498dc8f0row27_col0\" class=\"data row27 col0\" >Normalize</td>\n",
       "                        <td id=\"T_e5a8e034_fb70_11eb_8506_8030498dc8f0row27_col1\" class=\"data row27 col1\" >True</td>\n",
       "            </tr>\n",
       "            <tr>\n",
       "                        <th id=\"T_e5a8e034_fb70_11eb_8506_8030498dc8f0level0_row28\" class=\"row_heading level0 row28\" >28</th>\n",
       "                        <td id=\"T_e5a8e034_fb70_11eb_8506_8030498dc8f0row28_col0\" class=\"data row28 col0\" >Normalize Method</td>\n",
       "                        <td id=\"T_e5a8e034_fb70_11eb_8506_8030498dc8f0row28_col1\" class=\"data row28 col1\" >zscore</td>\n",
       "            </tr>\n",
       "            <tr>\n",
       "                        <th id=\"T_e5a8e034_fb70_11eb_8506_8030498dc8f0level0_row29\" class=\"row_heading level0 row29\" >29</th>\n",
       "                        <td id=\"T_e5a8e034_fb70_11eb_8506_8030498dc8f0row29_col0\" class=\"data row29 col0\" >Transformation</td>\n",
       "                        <td id=\"T_e5a8e034_fb70_11eb_8506_8030498dc8f0row29_col1\" class=\"data row29 col1\" >True</td>\n",
       "            </tr>\n",
       "            <tr>\n",
       "                        <th id=\"T_e5a8e034_fb70_11eb_8506_8030498dc8f0level0_row30\" class=\"row_heading level0 row30\" >30</th>\n",
       "                        <td id=\"T_e5a8e034_fb70_11eb_8506_8030498dc8f0row30_col0\" class=\"data row30 col0\" >Transformation Method</td>\n",
       "                        <td id=\"T_e5a8e034_fb70_11eb_8506_8030498dc8f0row30_col1\" class=\"data row30 col1\" >yeo-johnson</td>\n",
       "            </tr>\n",
       "            <tr>\n",
       "                        <th id=\"T_e5a8e034_fb70_11eb_8506_8030498dc8f0level0_row31\" class=\"row_heading level0 row31\" >31</th>\n",
       "                        <td id=\"T_e5a8e034_fb70_11eb_8506_8030498dc8f0row31_col0\" class=\"data row31 col0\" >PCA</td>\n",
       "                        <td id=\"T_e5a8e034_fb70_11eb_8506_8030498dc8f0row31_col1\" class=\"data row31 col1\" >False</td>\n",
       "            </tr>\n",
       "            <tr>\n",
       "                        <th id=\"T_e5a8e034_fb70_11eb_8506_8030498dc8f0level0_row32\" class=\"row_heading level0 row32\" >32</th>\n",
       "                        <td id=\"T_e5a8e034_fb70_11eb_8506_8030498dc8f0row32_col0\" class=\"data row32 col0\" >PCA Method</td>\n",
       "                        <td id=\"T_e5a8e034_fb70_11eb_8506_8030498dc8f0row32_col1\" class=\"data row32 col1\" >None</td>\n",
       "            </tr>\n",
       "            <tr>\n",
       "                        <th id=\"T_e5a8e034_fb70_11eb_8506_8030498dc8f0level0_row33\" class=\"row_heading level0 row33\" >33</th>\n",
       "                        <td id=\"T_e5a8e034_fb70_11eb_8506_8030498dc8f0row33_col0\" class=\"data row33 col0\" >PCA Components</td>\n",
       "                        <td id=\"T_e5a8e034_fb70_11eb_8506_8030498dc8f0row33_col1\" class=\"data row33 col1\" >None</td>\n",
       "            </tr>\n",
       "            <tr>\n",
       "                        <th id=\"T_e5a8e034_fb70_11eb_8506_8030498dc8f0level0_row34\" class=\"row_heading level0 row34\" >34</th>\n",
       "                        <td id=\"T_e5a8e034_fb70_11eb_8506_8030498dc8f0row34_col0\" class=\"data row34 col0\" >Ignore Low Variance</td>\n",
       "                        <td id=\"T_e5a8e034_fb70_11eb_8506_8030498dc8f0row34_col1\" class=\"data row34 col1\" >True</td>\n",
       "            </tr>\n",
       "            <tr>\n",
       "                        <th id=\"T_e5a8e034_fb70_11eb_8506_8030498dc8f0level0_row35\" class=\"row_heading level0 row35\" >35</th>\n",
       "                        <td id=\"T_e5a8e034_fb70_11eb_8506_8030498dc8f0row35_col0\" class=\"data row35 col0\" >Combine Rare Levels</td>\n",
       "                        <td id=\"T_e5a8e034_fb70_11eb_8506_8030498dc8f0row35_col1\" class=\"data row35 col1\" >False</td>\n",
       "            </tr>\n",
       "            <tr>\n",
       "                        <th id=\"T_e5a8e034_fb70_11eb_8506_8030498dc8f0level0_row36\" class=\"row_heading level0 row36\" >36</th>\n",
       "                        <td id=\"T_e5a8e034_fb70_11eb_8506_8030498dc8f0row36_col0\" class=\"data row36 col0\" >Rare Level Threshold</td>\n",
       "                        <td id=\"T_e5a8e034_fb70_11eb_8506_8030498dc8f0row36_col1\" class=\"data row36 col1\" >None</td>\n",
       "            </tr>\n",
       "            <tr>\n",
       "                        <th id=\"T_e5a8e034_fb70_11eb_8506_8030498dc8f0level0_row37\" class=\"row_heading level0 row37\" >37</th>\n",
       "                        <td id=\"T_e5a8e034_fb70_11eb_8506_8030498dc8f0row37_col0\" class=\"data row37 col0\" >Numeric Binning</td>\n",
       "                        <td id=\"T_e5a8e034_fb70_11eb_8506_8030498dc8f0row37_col1\" class=\"data row37 col1\" >False</td>\n",
       "            </tr>\n",
       "            <tr>\n",
       "                        <th id=\"T_e5a8e034_fb70_11eb_8506_8030498dc8f0level0_row38\" class=\"row_heading level0 row38\" >38</th>\n",
       "                        <td id=\"T_e5a8e034_fb70_11eb_8506_8030498dc8f0row38_col0\" class=\"data row38 col0\" >Remove Outliers</td>\n",
       "                        <td id=\"T_e5a8e034_fb70_11eb_8506_8030498dc8f0row38_col1\" class=\"data row38 col1\" >False</td>\n",
       "            </tr>\n",
       "            <tr>\n",
       "                        <th id=\"T_e5a8e034_fb70_11eb_8506_8030498dc8f0level0_row39\" class=\"row_heading level0 row39\" >39</th>\n",
       "                        <td id=\"T_e5a8e034_fb70_11eb_8506_8030498dc8f0row39_col0\" class=\"data row39 col0\" >Outliers Threshold</td>\n",
       "                        <td id=\"T_e5a8e034_fb70_11eb_8506_8030498dc8f0row39_col1\" class=\"data row39 col1\" >None</td>\n",
       "            </tr>\n",
       "            <tr>\n",
       "                        <th id=\"T_e5a8e034_fb70_11eb_8506_8030498dc8f0level0_row40\" class=\"row_heading level0 row40\" >40</th>\n",
       "                        <td id=\"T_e5a8e034_fb70_11eb_8506_8030498dc8f0row40_col0\" class=\"data row40 col0\" >Remove Multicollinearity</td>\n",
       "                        <td id=\"T_e5a8e034_fb70_11eb_8506_8030498dc8f0row40_col1\" class=\"data row40 col1\" >True</td>\n",
       "            </tr>\n",
       "            <tr>\n",
       "                        <th id=\"T_e5a8e034_fb70_11eb_8506_8030498dc8f0level0_row41\" class=\"row_heading level0 row41\" >41</th>\n",
       "                        <td id=\"T_e5a8e034_fb70_11eb_8506_8030498dc8f0row41_col0\" class=\"data row41 col0\" >Multicollinearity Threshold</td>\n",
       "                        <td id=\"T_e5a8e034_fb70_11eb_8506_8030498dc8f0row41_col1\" class=\"data row41 col1\" >0.800000</td>\n",
       "            </tr>\n",
       "            <tr>\n",
       "                        <th id=\"T_e5a8e034_fb70_11eb_8506_8030498dc8f0level0_row42\" class=\"row_heading level0 row42\" >42</th>\n",
       "                        <td id=\"T_e5a8e034_fb70_11eb_8506_8030498dc8f0row42_col0\" class=\"data row42 col0\" >Remove Perfect Collinearity</td>\n",
       "                        <td id=\"T_e5a8e034_fb70_11eb_8506_8030498dc8f0row42_col1\" class=\"data row42 col1\" >True</td>\n",
       "            </tr>\n",
       "            <tr>\n",
       "                        <th id=\"T_e5a8e034_fb70_11eb_8506_8030498dc8f0level0_row43\" class=\"row_heading level0 row43\" >43</th>\n",
       "                        <td id=\"T_e5a8e034_fb70_11eb_8506_8030498dc8f0row43_col0\" class=\"data row43 col0\" >Clustering</td>\n",
       "                        <td id=\"T_e5a8e034_fb70_11eb_8506_8030498dc8f0row43_col1\" class=\"data row43 col1\" >False</td>\n",
       "            </tr>\n",
       "            <tr>\n",
       "                        <th id=\"T_e5a8e034_fb70_11eb_8506_8030498dc8f0level0_row44\" class=\"row_heading level0 row44\" >44</th>\n",
       "                        <td id=\"T_e5a8e034_fb70_11eb_8506_8030498dc8f0row44_col0\" class=\"data row44 col0\" >Clustering Iteration</td>\n",
       "                        <td id=\"T_e5a8e034_fb70_11eb_8506_8030498dc8f0row44_col1\" class=\"data row44 col1\" >None</td>\n",
       "            </tr>\n",
       "            <tr>\n",
       "                        <th id=\"T_e5a8e034_fb70_11eb_8506_8030498dc8f0level0_row45\" class=\"row_heading level0 row45\" >45</th>\n",
       "                        <td id=\"T_e5a8e034_fb70_11eb_8506_8030498dc8f0row45_col0\" class=\"data row45 col0\" >Polynomial Features</td>\n",
       "                        <td id=\"T_e5a8e034_fb70_11eb_8506_8030498dc8f0row45_col1\" class=\"data row45 col1\" >False</td>\n",
       "            </tr>\n",
       "            <tr>\n",
       "                        <th id=\"T_e5a8e034_fb70_11eb_8506_8030498dc8f0level0_row46\" class=\"row_heading level0 row46\" >46</th>\n",
       "                        <td id=\"T_e5a8e034_fb70_11eb_8506_8030498dc8f0row46_col0\" class=\"data row46 col0\" >Polynomial Degree</td>\n",
       "                        <td id=\"T_e5a8e034_fb70_11eb_8506_8030498dc8f0row46_col1\" class=\"data row46 col1\" >None</td>\n",
       "            </tr>\n",
       "            <tr>\n",
       "                        <th id=\"T_e5a8e034_fb70_11eb_8506_8030498dc8f0level0_row47\" class=\"row_heading level0 row47\" >47</th>\n",
       "                        <td id=\"T_e5a8e034_fb70_11eb_8506_8030498dc8f0row47_col0\" class=\"data row47 col0\" >Trignometry Features</td>\n",
       "                        <td id=\"T_e5a8e034_fb70_11eb_8506_8030498dc8f0row47_col1\" class=\"data row47 col1\" >False</td>\n",
       "            </tr>\n",
       "            <tr>\n",
       "                        <th id=\"T_e5a8e034_fb70_11eb_8506_8030498dc8f0level0_row48\" class=\"row_heading level0 row48\" >48</th>\n",
       "                        <td id=\"T_e5a8e034_fb70_11eb_8506_8030498dc8f0row48_col0\" class=\"data row48 col0\" >Polynomial Threshold</td>\n",
       "                        <td id=\"T_e5a8e034_fb70_11eb_8506_8030498dc8f0row48_col1\" class=\"data row48 col1\" >None</td>\n",
       "            </tr>\n",
       "            <tr>\n",
       "                        <th id=\"T_e5a8e034_fb70_11eb_8506_8030498dc8f0level0_row49\" class=\"row_heading level0 row49\" >49</th>\n",
       "                        <td id=\"T_e5a8e034_fb70_11eb_8506_8030498dc8f0row49_col0\" class=\"data row49 col0\" >Group Features</td>\n",
       "                        <td id=\"T_e5a8e034_fb70_11eb_8506_8030498dc8f0row49_col1\" class=\"data row49 col1\" >False</td>\n",
       "            </tr>\n",
       "            <tr>\n",
       "                        <th id=\"T_e5a8e034_fb70_11eb_8506_8030498dc8f0level0_row50\" class=\"row_heading level0 row50\" >50</th>\n",
       "                        <td id=\"T_e5a8e034_fb70_11eb_8506_8030498dc8f0row50_col0\" class=\"data row50 col0\" >Feature Selection</td>\n",
       "                        <td id=\"T_e5a8e034_fb70_11eb_8506_8030498dc8f0row50_col1\" class=\"data row50 col1\" >True</td>\n",
       "            </tr>\n",
       "            <tr>\n",
       "                        <th id=\"T_e5a8e034_fb70_11eb_8506_8030498dc8f0level0_row51\" class=\"row_heading level0 row51\" >51</th>\n",
       "                        <td id=\"T_e5a8e034_fb70_11eb_8506_8030498dc8f0row51_col0\" class=\"data row51 col0\" >Feature Selection Method</td>\n",
       "                        <td id=\"T_e5a8e034_fb70_11eb_8506_8030498dc8f0row51_col1\" class=\"data row51 col1\" >classic</td>\n",
       "            </tr>\n",
       "            <tr>\n",
       "                        <th id=\"T_e5a8e034_fb70_11eb_8506_8030498dc8f0level0_row52\" class=\"row_heading level0 row52\" >52</th>\n",
       "                        <td id=\"T_e5a8e034_fb70_11eb_8506_8030498dc8f0row52_col0\" class=\"data row52 col0\" >Features Selection Threshold</td>\n",
       "                        <td id=\"T_e5a8e034_fb70_11eb_8506_8030498dc8f0row52_col1\" class=\"data row52 col1\" >0.800000</td>\n",
       "            </tr>\n",
       "            <tr>\n",
       "                        <th id=\"T_e5a8e034_fb70_11eb_8506_8030498dc8f0level0_row53\" class=\"row_heading level0 row53\" >53</th>\n",
       "                        <td id=\"T_e5a8e034_fb70_11eb_8506_8030498dc8f0row53_col0\" class=\"data row53 col0\" >Feature Interaction</td>\n",
       "                        <td id=\"T_e5a8e034_fb70_11eb_8506_8030498dc8f0row53_col1\" class=\"data row53 col1\" >False</td>\n",
       "            </tr>\n",
       "            <tr>\n",
       "                        <th id=\"T_e5a8e034_fb70_11eb_8506_8030498dc8f0level0_row54\" class=\"row_heading level0 row54\" >54</th>\n",
       "                        <td id=\"T_e5a8e034_fb70_11eb_8506_8030498dc8f0row54_col0\" class=\"data row54 col0\" >Feature Ratio</td>\n",
       "                        <td id=\"T_e5a8e034_fb70_11eb_8506_8030498dc8f0row54_col1\" class=\"data row54 col1\" >False</td>\n",
       "            </tr>\n",
       "            <tr>\n",
       "                        <th id=\"T_e5a8e034_fb70_11eb_8506_8030498dc8f0level0_row55\" class=\"row_heading level0 row55\" >55</th>\n",
       "                        <td id=\"T_e5a8e034_fb70_11eb_8506_8030498dc8f0row55_col0\" class=\"data row55 col0\" >Interaction Threshold</td>\n",
       "                        <td id=\"T_e5a8e034_fb70_11eb_8506_8030498dc8f0row55_col1\" class=\"data row55 col1\" >None</td>\n",
       "            </tr>\n",
       "            <tr>\n",
       "                        <th id=\"T_e5a8e034_fb70_11eb_8506_8030498dc8f0level0_row56\" class=\"row_heading level0 row56\" >56</th>\n",
       "                        <td id=\"T_e5a8e034_fb70_11eb_8506_8030498dc8f0row56_col0\" class=\"data row56 col0\" >Transform Target</td>\n",
       "                        <td id=\"T_e5a8e034_fb70_11eb_8506_8030498dc8f0row56_col1\" class=\"data row56 col1\" >False</td>\n",
       "            </tr>\n",
       "            <tr>\n",
       "                        <th id=\"T_e5a8e034_fb70_11eb_8506_8030498dc8f0level0_row57\" class=\"row_heading level0 row57\" >57</th>\n",
       "                        <td id=\"T_e5a8e034_fb70_11eb_8506_8030498dc8f0row57_col0\" class=\"data row57 col0\" >Transform Target Method</td>\n",
       "                        <td id=\"T_e5a8e034_fb70_11eb_8506_8030498dc8f0row57_col1\" class=\"data row57 col1\" >box-cox</td>\n",
       "            </tr>\n",
       "    </tbody></table>"
      ],
      "text/plain": [
       "<pandas.io.formats.style.Styler at 0x1ee1a25e6a0>"
      ]
     },
     "metadata": {},
     "output_type": "display_data"
    }
   ],
   "source": [
    "#Pre-Process data\n",
    "\n",
    "reg1 = setup(data = data.sample(20000),\n",
    "             session_id=42,\n",
    "             train_size = 0.70,\n",
    "             target = 'Sales',\n",
    "             #high_cardinality_features = ['Store', 'DayOfWeek', 'Open', 'Promo', 'StateHoliday','SchoolHoliday', 'StoreType', 'Assortment','CompetitionOpenSinceMonth', 'CompetitionOpenSinceYear', 'Promo2','Year', 'Month'],\n",
    "             #numeric_imputation = 'median',\n",
    "             #categorical_imputation = 'mode',\n",
    "             feature_selection = True,\n",
    "             normalize = True, \n",
    "             transformation = True, \n",
    "             #transform_target = True,\n",
    "             ignore_low_variance = True,\n",
    "             remove_multicollinearity = True, \n",
    "             multicollinearity_threshold = 0.80, \n",
    "             #polynomial_features = True,\n",
    "             #trigonometry_features = False,\n",
    "             #polynomial_degree = 2,\n",
    "             #polynomial_threshold = 0.9,\n",
    "             numeric_features = ['CompetitionDistance','CustomerTraffic','CustomerCategory','StoreType','Assortment','PromoInterval'],\n",
    "             #categorical_features = ['Store', 'DayOfWeek', 'Open', 'Promo', 'StateHoliday','SchoolHoliday', 'StoreType', 'Assortment','CompetitionOpenSinceMonth', 'CompetitionOpenSinceYear', 'Promo2','Year', 'Month'],\n",
    "             log_experiment = True, \n",
    "             verbose = True,\n",
    "             experiment_name = 'regression1'\n",
    "             )"
   ]
  },
  {
   "cell_type": "code",
   "execution_count": 58,
   "metadata": {},
   "outputs": [
    {
     "data": {
      "text/html": [
       "<div>\n",
       "<style scoped>\n",
       "    .dataframe tbody tr th:only-of-type {\n",
       "        vertical-align: middle;\n",
       "    }\n",
       "\n",
       "    .dataframe tbody tr th {\n",
       "        vertical-align: top;\n",
       "    }\n",
       "\n",
       "    .dataframe thead th {\n",
       "        text-align: right;\n",
       "    }\n",
       "</style>\n",
       "<table border=\"1\" class=\"dataframe\">\n",
       "  <thead>\n",
       "    <tr style=\"text-align: right;\">\n",
       "      <th></th>\n",
       "      <th>Month_6</th>\n",
       "      <th>Month_11</th>\n",
       "      <th>DayofMonth</th>\n",
       "      <th>Assortment</th>\n",
       "      <th>Month_2</th>\n",
       "      <th>Promo2_1.0</th>\n",
       "      <th>Month_8</th>\n",
       "      <th>Month_7</th>\n",
       "      <th>CustomerCategory</th>\n",
       "      <th>CompetitionOpenSinceMonth</th>\n",
       "      <th>...</th>\n",
       "      <th>Month_9</th>\n",
       "      <th>StoreType</th>\n",
       "      <th>Store</th>\n",
       "      <th>SchoolHoliday_1.0</th>\n",
       "      <th>Promo_1.0</th>\n",
       "      <th>DayOfWeek</th>\n",
       "      <th>Month_12</th>\n",
       "      <th>CompetitionOpenSinceYear</th>\n",
       "      <th>Month_4</th>\n",
       "      <th>Month_10</th>\n",
       "    </tr>\n",
       "  </thead>\n",
       "  <tbody>\n",
       "    <tr>\n",
       "      <th>72234</th>\n",
       "      <td>0.0</td>\n",
       "      <td>0.0</td>\n",
       "      <td>-0.304967</td>\n",
       "      <td>-0.936707</td>\n",
       "      <td>0.0</td>\n",
       "      <td>0.0</td>\n",
       "      <td>0.0</td>\n",
       "      <td>0.0</td>\n",
       "      <td>-0.159079</td>\n",
       "      <td>0.087586</td>\n",
       "      <td>...</td>\n",
       "      <td>0.0</td>\n",
       "      <td>-0.909972</td>\n",
       "      <td>0.387885</td>\n",
       "      <td>0.0</td>\n",
       "      <td>1.0</td>\n",
       "      <td>-0.304770</td>\n",
       "      <td>0.0</td>\n",
       "      <td>-1.388823</td>\n",
       "      <td>0.0</td>\n",
       "      <td>0.0</td>\n",
       "    </tr>\n",
       "    <tr>\n",
       "      <th>51741</th>\n",
       "      <td>0.0</td>\n",
       "      <td>0.0</td>\n",
       "      <td>0.282879</td>\n",
       "      <td>-0.936707</td>\n",
       "      <td>1.0</td>\n",
       "      <td>1.0</td>\n",
       "      <td>0.0</td>\n",
       "      <td>0.0</td>\n",
       "      <td>-0.159079</td>\n",
       "      <td>-1.516531</td>\n",
       "      <td>...</td>\n",
       "      <td>0.0</td>\n",
       "      <td>1.245450</td>\n",
       "      <td>-0.994866</td>\n",
       "      <td>0.0</td>\n",
       "      <td>0.0</td>\n",
       "      <td>1.428969</td>\n",
       "      <td>0.0</td>\n",
       "      <td>1.042506</td>\n",
       "      <td>0.0</td>\n",
       "      <td>0.0</td>\n",
       "    </tr>\n",
       "    <tr>\n",
       "      <th>85261</th>\n",
       "      <td>0.0</td>\n",
       "      <td>0.0</td>\n",
       "      <td>0.825896</td>\n",
       "      <td>-0.936707</td>\n",
       "      <td>0.0</td>\n",
       "      <td>0.0</td>\n",
       "      <td>0.0</td>\n",
       "      <td>0.0</td>\n",
       "      <td>-0.159079</td>\n",
       "      <td>0.087586</td>\n",
       "      <td>...</td>\n",
       "      <td>0.0</td>\n",
       "      <td>0.740943</td>\n",
       "      <td>-1.204916</td>\n",
       "      <td>0.0</td>\n",
       "      <td>1.0</td>\n",
       "      <td>-1.469031</td>\n",
       "      <td>0.0</td>\n",
       "      <td>-0.657595</td>\n",
       "      <td>0.0</td>\n",
       "      <td>0.0</td>\n",
       "    </tr>\n",
       "    <tr>\n",
       "      <th>105297</th>\n",
       "      <td>0.0</td>\n",
       "      <td>0.0</td>\n",
       "      <td>1.116567</td>\n",
       "      <td>-0.936707</td>\n",
       "      <td>0.0</td>\n",
       "      <td>1.0</td>\n",
       "      <td>0.0</td>\n",
       "      <td>0.0</td>\n",
       "      <td>-0.159079</td>\n",
       "      <td>-0.949194</td>\n",
       "      <td>...</td>\n",
       "      <td>0.0</td>\n",
       "      <td>-0.909972</td>\n",
       "      <td>-1.220115</td>\n",
       "      <td>1.0</td>\n",
       "      <td>0.0</td>\n",
       "      <td>0.852566</td>\n",
       "      <td>0.0</td>\n",
       "      <td>1.951076</td>\n",
       "      <td>1.0</td>\n",
       "      <td>0.0</td>\n",
       "    </tr>\n",
       "    <tr>\n",
       "      <th>595088</th>\n",
       "      <td>1.0</td>\n",
       "      <td>0.0</td>\n",
       "      <td>0.825896</td>\n",
       "      <td>-0.936707</td>\n",
       "      <td>0.0</td>\n",
       "      <td>1.0</td>\n",
       "      <td>0.0</td>\n",
       "      <td>0.0</td>\n",
       "      <td>-0.159079</td>\n",
       "      <td>-0.636166</td>\n",
       "      <td>...</td>\n",
       "      <td>0.0</td>\n",
       "      <td>-0.909972</td>\n",
       "      <td>1.325115</td>\n",
       "      <td>1.0</td>\n",
       "      <td>1.0</td>\n",
       "      <td>-0.304770</td>\n",
       "      <td>0.0</td>\n",
       "      <td>-0.454788</td>\n",
       "      <td>0.0</td>\n",
       "      <td>0.0</td>\n",
       "    </tr>\n",
       "    <tr>\n",
       "      <th>...</th>\n",
       "      <td>...</td>\n",
       "      <td>...</td>\n",
       "      <td>...</td>\n",
       "      <td>...</td>\n",
       "      <td>...</td>\n",
       "      <td>...</td>\n",
       "      <td>...</td>\n",
       "      <td>...</td>\n",
       "      <td>...</td>\n",
       "      <td>...</td>\n",
       "      <td>...</td>\n",
       "      <td>...</td>\n",
       "      <td>...</td>\n",
       "      <td>...</td>\n",
       "      <td>...</td>\n",
       "      <td>...</td>\n",
       "      <td>...</td>\n",
       "      <td>...</td>\n",
       "      <td>...</td>\n",
       "      <td>...</td>\n",
       "      <td>...</td>\n",
       "    </tr>\n",
       "    <tr>\n",
       "      <th>425081</th>\n",
       "      <td>0.0</td>\n",
       "      <td>0.0</td>\n",
       "      <td>0.639894</td>\n",
       "      <td>1.077003</td>\n",
       "      <td>0.0</td>\n",
       "      <td>1.0</td>\n",
       "      <td>0.0</td>\n",
       "      <td>0.0</td>\n",
       "      <td>1.176641</td>\n",
       "      <td>0.087586</td>\n",
       "      <td>...</td>\n",
       "      <td>0.0</td>\n",
       "      <td>-0.909972</td>\n",
       "      <td>-0.357704</td>\n",
       "      <td>0.0</td>\n",
       "      <td>0.0</td>\n",
       "      <td>0.852566</td>\n",
       "      <td>0.0</td>\n",
       "      <td>1.335505</td>\n",
       "      <td>0.0</td>\n",
       "      <td>0.0</td>\n",
       "    </tr>\n",
       "    <tr>\n",
       "      <th>277884</th>\n",
       "      <td>0.0</td>\n",
       "      <td>0.0</td>\n",
       "      <td>1.169855</td>\n",
       "      <td>-0.936707</td>\n",
       "      <td>0.0</td>\n",
       "      <td>1.0</td>\n",
       "      <td>0.0</td>\n",
       "      <td>0.0</td>\n",
       "      <td>-0.159079</td>\n",
       "      <td>2.003792</td>\n",
       "      <td>...</td>\n",
       "      <td>1.0</td>\n",
       "      <td>-0.909972</td>\n",
       "      <td>-0.274466</td>\n",
       "      <td>0.0</td>\n",
       "      <td>0.0</td>\n",
       "      <td>1.428969</td>\n",
       "      <td>0.0</td>\n",
       "      <td>-0.657595</td>\n",
       "      <td>0.0</td>\n",
       "      <td>0.0</td>\n",
       "    </tr>\n",
       "    <tr>\n",
       "      <th>543962</th>\n",
       "      <td>0.0</td>\n",
       "      <td>0.0</td>\n",
       "      <td>0.481264</td>\n",
       "      <td>-0.936707</td>\n",
       "      <td>0.0</td>\n",
       "      <td>0.0</td>\n",
       "      <td>0.0</td>\n",
       "      <td>0.0</td>\n",
       "      <td>-0.159079</td>\n",
       "      <td>0.514457</td>\n",
       "      <td>...</td>\n",
       "      <td>0.0</td>\n",
       "      <td>-0.909972</td>\n",
       "      <td>0.128558</td>\n",
       "      <td>0.0</td>\n",
       "      <td>0.0</td>\n",
       "      <td>1.428969</td>\n",
       "      <td>0.0</td>\n",
       "      <td>-0.240625</td>\n",
       "      <td>0.0</td>\n",
       "      <td>0.0</td>\n",
       "    </tr>\n",
       "    <tr>\n",
       "      <th>86142</th>\n",
       "      <td>0.0</td>\n",
       "      <td>0.0</td>\n",
       "      <td>0.503757</td>\n",
       "      <td>-0.936707</td>\n",
       "      <td>0.0</td>\n",
       "      <td>1.0</td>\n",
       "      <td>0.0</td>\n",
       "      <td>0.0</td>\n",
       "      <td>1.176641</td>\n",
       "      <td>0.087586</td>\n",
       "      <td>...</td>\n",
       "      <td>0.0</td>\n",
       "      <td>0.740943</td>\n",
       "      <td>-1.456870</td>\n",
       "      <td>0.0</td>\n",
       "      <td>1.0</td>\n",
       "      <td>-0.886248</td>\n",
       "      <td>0.0</td>\n",
       "      <td>-0.657595</td>\n",
       "      <td>0.0</td>\n",
       "      <td>0.0</td>\n",
       "    </tr>\n",
       "    <tr>\n",
       "      <th>4183</th>\n",
       "      <td>0.0</td>\n",
       "      <td>0.0</td>\n",
       "      <td>1.766990</td>\n",
       "      <td>-0.936707</td>\n",
       "      <td>0.0</td>\n",
       "      <td>1.0</td>\n",
       "      <td>0.0</td>\n",
       "      <td>0.0</td>\n",
       "      <td>-0.159079</td>\n",
       "      <td>1.476774</td>\n",
       "      <td>...</td>\n",
       "      <td>0.0</td>\n",
       "      <td>-0.909972</td>\n",
       "      <td>0.287738</td>\n",
       "      <td>1.0</td>\n",
       "      <td>0.0</td>\n",
       "      <td>0.852566</td>\n",
       "      <td>0.0</td>\n",
       "      <td>-0.454788</td>\n",
       "      <td>0.0</td>\n",
       "      <td>0.0</td>\n",
       "    </tr>\n",
       "  </tbody>\n",
       "</table>\n",
       "<p>13999 rows × 24 columns</p>\n",
       "</div>"
      ],
      "text/plain": [
       "        Month_6  Month_11  DayofMonth  Assortment  Month_2  Promo2_1.0  \\\n",
       "72234       0.0       0.0   -0.304967   -0.936707      0.0         0.0   \n",
       "51741       0.0       0.0    0.282879   -0.936707      1.0         1.0   \n",
       "85261       0.0       0.0    0.825896   -0.936707      0.0         0.0   \n",
       "105297      0.0       0.0    1.116567   -0.936707      0.0         1.0   \n",
       "595088      1.0       0.0    0.825896   -0.936707      0.0         1.0   \n",
       "...         ...       ...         ...         ...      ...         ...   \n",
       "425081      0.0       0.0    0.639894    1.077003      0.0         1.0   \n",
       "277884      0.0       0.0    1.169855   -0.936707      0.0         1.0   \n",
       "543962      0.0       0.0    0.481264   -0.936707      0.0         0.0   \n",
       "86142       0.0       0.0    0.503757   -0.936707      0.0         1.0   \n",
       "4183        0.0       0.0    1.766990   -0.936707      0.0         1.0   \n",
       "\n",
       "        Month_8  Month_7  CustomerCategory  CompetitionOpenSinceMonth  ...  \\\n",
       "72234       0.0      0.0         -0.159079                   0.087586  ...   \n",
       "51741       0.0      0.0         -0.159079                  -1.516531  ...   \n",
       "85261       0.0      0.0         -0.159079                   0.087586  ...   \n",
       "105297      0.0      0.0         -0.159079                  -0.949194  ...   \n",
       "595088      0.0      0.0         -0.159079                  -0.636166  ...   \n",
       "...         ...      ...               ...                        ...  ...   \n",
       "425081      0.0      0.0          1.176641                   0.087586  ...   \n",
       "277884      0.0      0.0         -0.159079                   2.003792  ...   \n",
       "543962      0.0      0.0         -0.159079                   0.514457  ...   \n",
       "86142       0.0      0.0          1.176641                   0.087586  ...   \n",
       "4183        0.0      0.0         -0.159079                   1.476774  ...   \n",
       "\n",
       "        Month_9  StoreType     Store  SchoolHoliday_1.0  Promo_1.0  DayOfWeek  \\\n",
       "72234       0.0  -0.909972  0.387885                0.0        1.0  -0.304770   \n",
       "51741       0.0   1.245450 -0.994866                0.0        0.0   1.428969   \n",
       "85261       0.0   0.740943 -1.204916                0.0        1.0  -1.469031   \n",
       "105297      0.0  -0.909972 -1.220115                1.0        0.0   0.852566   \n",
       "595088      0.0  -0.909972  1.325115                1.0        1.0  -0.304770   \n",
       "...         ...        ...       ...                ...        ...        ...   \n",
       "425081      0.0  -0.909972 -0.357704                0.0        0.0   0.852566   \n",
       "277884      1.0  -0.909972 -0.274466                0.0        0.0   1.428969   \n",
       "543962      0.0  -0.909972  0.128558                0.0        0.0   1.428969   \n",
       "86142       0.0   0.740943 -1.456870                0.0        1.0  -0.886248   \n",
       "4183        0.0  -0.909972  0.287738                1.0        0.0   0.852566   \n",
       "\n",
       "        Month_12  CompetitionOpenSinceYear  Month_4  Month_10  \n",
       "72234        0.0                 -1.388823      0.0       0.0  \n",
       "51741        0.0                  1.042506      0.0       0.0  \n",
       "85261        0.0                 -0.657595      0.0       0.0  \n",
       "105297       0.0                  1.951076      1.0       0.0  \n",
       "595088       0.0                 -0.454788      0.0       0.0  \n",
       "...          ...                       ...      ...       ...  \n",
       "425081       0.0                  1.335505      0.0       0.0  \n",
       "277884       0.0                 -0.657595      0.0       0.0  \n",
       "543962       0.0                 -0.240625      0.0       0.0  \n",
       "86142        0.0                 -0.657595      0.0       0.0  \n",
       "4183         0.0                 -0.454788      0.0       0.0  \n",
       "\n",
       "[13999 rows x 24 columns]"
      ]
     },
     "execution_count": 58,
     "metadata": {},
     "output_type": "execute_result"
    }
   ],
   "source": [
    "get_config('X_train')"
   ]
  },
  {
   "cell_type": "code",
   "execution_count": 59,
   "metadata": {},
   "outputs": [],
   "source": [
    "combined_nopromo_processed_x_train = get_config('X_train')\n",
    "combined_nopromo_processed_y_train = get_config('y_train')\n",
    "combined_nopromo_processed_x_test = get_config('X_test')\n",
    "combined_nopromo_processed_y_test = get_config('y_test')"
   ]
  },
  {
   "cell_type": "code",
   "execution_count": 60,
   "metadata": {},
   "outputs": [
    {
     "data": {
      "text/plain": [
       "Pipeline(memory=None,\n",
       "         steps=[('dtypes',\n",
       "                 DataTypes_Auto_infer(categorical_features=[],\n",
       "                                      display_types=True, features_todrop=[],\n",
       "                                      id_columns=[], ml_usecase='regression',\n",
       "                                      numerical_features=['CompetitionDistance',\n",
       "                                                          'CustomerTraffic',\n",
       "                                                          'CustomerCategory',\n",
       "                                                          'StoreType',\n",
       "                                                          'Assortment',\n",
       "                                                          'PromoInterval'],\n",
       "                                      target='Sales', time_features=[])),\n",
       "                ('imputer',\n",
       "                 Simple_Imputer(categorica...\n",
       "                 Advanced_Feature_Selection_Classic(ml_usecase='regression',\n",
       "                                                    n_jobs=-1, random_state=42,\n",
       "                                                    subclass='binary',\n",
       "                                                    target='Sales',\n",
       "                                                    top_features_to_pick=0.19999999999999996)),\n",
       "                ('fix_multi',\n",
       "                 Fix_multicollinearity(correlation_with_target_preference=None,\n",
       "                                       correlation_with_target_threshold=0.0,\n",
       "                                       target_variable='Sales',\n",
       "                                       threshold=0.8)),\n",
       "                ('dfs', 'passthrough'), ('pca', 'passthrough')],\n",
       "         verbose=False)"
      ]
     },
     "execution_count": 60,
     "metadata": {},
     "output_type": "execute_result"
    }
   ],
   "source": [
    "get_config('prep_pipe')"
   ]
  },
  {
   "cell_type": "code",
   "execution_count": 61,
   "metadata": {},
   "outputs": [
    {
     "data": {
      "text/html": [
       "<style  type=\"text/css\" >\n",
       "    #T_0a0f8702_fb71_11eb_baed_8030498dc8f0 th {\n",
       "          text-align: left;\n",
       "    }#T_0a0f8702_fb71_11eb_baed_8030498dc8f0row0_col0,#T_0a0f8702_fb71_11eb_baed_8030498dc8f0row1_col0,#T_0a0f8702_fb71_11eb_baed_8030498dc8f0row1_col1,#T_0a0f8702_fb71_11eb_baed_8030498dc8f0row1_col2,#T_0a0f8702_fb71_11eb_baed_8030498dc8f0row1_col3,#T_0a0f8702_fb71_11eb_baed_8030498dc8f0row1_col4,#T_0a0f8702_fb71_11eb_baed_8030498dc8f0row1_col5,#T_0a0f8702_fb71_11eb_baed_8030498dc8f0row1_col6,#T_0a0f8702_fb71_11eb_baed_8030498dc8f0row2_col0,#T_0a0f8702_fb71_11eb_baed_8030498dc8f0row2_col1,#T_0a0f8702_fb71_11eb_baed_8030498dc8f0row2_col2,#T_0a0f8702_fb71_11eb_baed_8030498dc8f0row2_col3,#T_0a0f8702_fb71_11eb_baed_8030498dc8f0row2_col4,#T_0a0f8702_fb71_11eb_baed_8030498dc8f0row2_col5,#T_0a0f8702_fb71_11eb_baed_8030498dc8f0row2_col6,#T_0a0f8702_fb71_11eb_baed_8030498dc8f0row3_col0,#T_0a0f8702_fb71_11eb_baed_8030498dc8f0row3_col1,#T_0a0f8702_fb71_11eb_baed_8030498dc8f0row3_col2,#T_0a0f8702_fb71_11eb_baed_8030498dc8f0row3_col3,#T_0a0f8702_fb71_11eb_baed_8030498dc8f0row3_col4,#T_0a0f8702_fb71_11eb_baed_8030498dc8f0row3_col5,#T_0a0f8702_fb71_11eb_baed_8030498dc8f0row3_col6,#T_0a0f8702_fb71_11eb_baed_8030498dc8f0row4_col0,#T_0a0f8702_fb71_11eb_baed_8030498dc8f0row4_col1,#T_0a0f8702_fb71_11eb_baed_8030498dc8f0row4_col2,#T_0a0f8702_fb71_11eb_baed_8030498dc8f0row4_col3,#T_0a0f8702_fb71_11eb_baed_8030498dc8f0row4_col4,#T_0a0f8702_fb71_11eb_baed_8030498dc8f0row4_col5,#T_0a0f8702_fb71_11eb_baed_8030498dc8f0row4_col6,#T_0a0f8702_fb71_11eb_baed_8030498dc8f0row5_col0,#T_0a0f8702_fb71_11eb_baed_8030498dc8f0row5_col1,#T_0a0f8702_fb71_11eb_baed_8030498dc8f0row5_col2,#T_0a0f8702_fb71_11eb_baed_8030498dc8f0row5_col3,#T_0a0f8702_fb71_11eb_baed_8030498dc8f0row5_col4,#T_0a0f8702_fb71_11eb_baed_8030498dc8f0row5_col5,#T_0a0f8702_fb71_11eb_baed_8030498dc8f0row5_col6,#T_0a0f8702_fb71_11eb_baed_8030498dc8f0row6_col0,#T_0a0f8702_fb71_11eb_baed_8030498dc8f0row6_col1,#T_0a0f8702_fb71_11eb_baed_8030498dc8f0row6_col2,#T_0a0f8702_fb71_11eb_baed_8030498dc8f0row6_col3,#T_0a0f8702_fb71_11eb_baed_8030498dc8f0row6_col4,#T_0a0f8702_fb71_11eb_baed_8030498dc8f0row6_col5,#T_0a0f8702_fb71_11eb_baed_8030498dc8f0row6_col6,#T_0a0f8702_fb71_11eb_baed_8030498dc8f0row7_col0,#T_0a0f8702_fb71_11eb_baed_8030498dc8f0row7_col1,#T_0a0f8702_fb71_11eb_baed_8030498dc8f0row7_col2,#T_0a0f8702_fb71_11eb_baed_8030498dc8f0row7_col3,#T_0a0f8702_fb71_11eb_baed_8030498dc8f0row7_col4,#T_0a0f8702_fb71_11eb_baed_8030498dc8f0row7_col5,#T_0a0f8702_fb71_11eb_baed_8030498dc8f0row7_col6,#T_0a0f8702_fb71_11eb_baed_8030498dc8f0row8_col0,#T_0a0f8702_fb71_11eb_baed_8030498dc8f0row8_col1,#T_0a0f8702_fb71_11eb_baed_8030498dc8f0row8_col2,#T_0a0f8702_fb71_11eb_baed_8030498dc8f0row8_col3,#T_0a0f8702_fb71_11eb_baed_8030498dc8f0row8_col4,#T_0a0f8702_fb71_11eb_baed_8030498dc8f0row8_col5,#T_0a0f8702_fb71_11eb_baed_8030498dc8f0row8_col6,#T_0a0f8702_fb71_11eb_baed_8030498dc8f0row9_col0,#T_0a0f8702_fb71_11eb_baed_8030498dc8f0row9_col1,#T_0a0f8702_fb71_11eb_baed_8030498dc8f0row9_col2,#T_0a0f8702_fb71_11eb_baed_8030498dc8f0row9_col3,#T_0a0f8702_fb71_11eb_baed_8030498dc8f0row9_col4,#T_0a0f8702_fb71_11eb_baed_8030498dc8f0row9_col5,#T_0a0f8702_fb71_11eb_baed_8030498dc8f0row9_col6,#T_0a0f8702_fb71_11eb_baed_8030498dc8f0row10_col0,#T_0a0f8702_fb71_11eb_baed_8030498dc8f0row10_col1,#T_0a0f8702_fb71_11eb_baed_8030498dc8f0row10_col2,#T_0a0f8702_fb71_11eb_baed_8030498dc8f0row10_col3,#T_0a0f8702_fb71_11eb_baed_8030498dc8f0row10_col4,#T_0a0f8702_fb71_11eb_baed_8030498dc8f0row10_col5,#T_0a0f8702_fb71_11eb_baed_8030498dc8f0row10_col6,#T_0a0f8702_fb71_11eb_baed_8030498dc8f0row11_col0,#T_0a0f8702_fb71_11eb_baed_8030498dc8f0row11_col1,#T_0a0f8702_fb71_11eb_baed_8030498dc8f0row11_col2,#T_0a0f8702_fb71_11eb_baed_8030498dc8f0row11_col3,#T_0a0f8702_fb71_11eb_baed_8030498dc8f0row11_col4,#T_0a0f8702_fb71_11eb_baed_8030498dc8f0row11_col5,#T_0a0f8702_fb71_11eb_baed_8030498dc8f0row11_col6,#T_0a0f8702_fb71_11eb_baed_8030498dc8f0row12_col0,#T_0a0f8702_fb71_11eb_baed_8030498dc8f0row12_col1,#T_0a0f8702_fb71_11eb_baed_8030498dc8f0row12_col2,#T_0a0f8702_fb71_11eb_baed_8030498dc8f0row12_col3,#T_0a0f8702_fb71_11eb_baed_8030498dc8f0row12_col4,#T_0a0f8702_fb71_11eb_baed_8030498dc8f0row12_col5,#T_0a0f8702_fb71_11eb_baed_8030498dc8f0row12_col6,#T_0a0f8702_fb71_11eb_baed_8030498dc8f0row13_col0,#T_0a0f8702_fb71_11eb_baed_8030498dc8f0row13_col1,#T_0a0f8702_fb71_11eb_baed_8030498dc8f0row13_col2,#T_0a0f8702_fb71_11eb_baed_8030498dc8f0row13_col3,#T_0a0f8702_fb71_11eb_baed_8030498dc8f0row13_col4,#T_0a0f8702_fb71_11eb_baed_8030498dc8f0row13_col5,#T_0a0f8702_fb71_11eb_baed_8030498dc8f0row13_col6,#T_0a0f8702_fb71_11eb_baed_8030498dc8f0row14_col0,#T_0a0f8702_fb71_11eb_baed_8030498dc8f0row14_col1,#T_0a0f8702_fb71_11eb_baed_8030498dc8f0row14_col2,#T_0a0f8702_fb71_11eb_baed_8030498dc8f0row14_col3,#T_0a0f8702_fb71_11eb_baed_8030498dc8f0row14_col4,#T_0a0f8702_fb71_11eb_baed_8030498dc8f0row14_col5,#T_0a0f8702_fb71_11eb_baed_8030498dc8f0row14_col6,#T_0a0f8702_fb71_11eb_baed_8030498dc8f0row15_col0,#T_0a0f8702_fb71_11eb_baed_8030498dc8f0row15_col1,#T_0a0f8702_fb71_11eb_baed_8030498dc8f0row15_col2,#T_0a0f8702_fb71_11eb_baed_8030498dc8f0row15_col3,#T_0a0f8702_fb71_11eb_baed_8030498dc8f0row15_col4,#T_0a0f8702_fb71_11eb_baed_8030498dc8f0row15_col5,#T_0a0f8702_fb71_11eb_baed_8030498dc8f0row15_col6,#T_0a0f8702_fb71_11eb_baed_8030498dc8f0row16_col0,#T_0a0f8702_fb71_11eb_baed_8030498dc8f0row16_col1,#T_0a0f8702_fb71_11eb_baed_8030498dc8f0row16_col2,#T_0a0f8702_fb71_11eb_baed_8030498dc8f0row16_col3,#T_0a0f8702_fb71_11eb_baed_8030498dc8f0row16_col4,#T_0a0f8702_fb71_11eb_baed_8030498dc8f0row16_col5,#T_0a0f8702_fb71_11eb_baed_8030498dc8f0row16_col6{\n",
       "            text-align:  left;\n",
       "            text-align:  left;\n",
       "        }#T_0a0f8702_fb71_11eb_baed_8030498dc8f0row0_col1,#T_0a0f8702_fb71_11eb_baed_8030498dc8f0row0_col2,#T_0a0f8702_fb71_11eb_baed_8030498dc8f0row0_col3,#T_0a0f8702_fb71_11eb_baed_8030498dc8f0row0_col4,#T_0a0f8702_fb71_11eb_baed_8030498dc8f0row0_col5,#T_0a0f8702_fb71_11eb_baed_8030498dc8f0row0_col6{\n",
       "            text-align:  left;\n",
       "            text-align:  left;\n",
       "            background-color:  yellow;\n",
       "        }#T_0a0f8702_fb71_11eb_baed_8030498dc8f0row0_col7,#T_0a0f8702_fb71_11eb_baed_8030498dc8f0row1_col7,#T_0a0f8702_fb71_11eb_baed_8030498dc8f0row2_col7,#T_0a0f8702_fb71_11eb_baed_8030498dc8f0row3_col7,#T_0a0f8702_fb71_11eb_baed_8030498dc8f0row4_col7,#T_0a0f8702_fb71_11eb_baed_8030498dc8f0row5_col7,#T_0a0f8702_fb71_11eb_baed_8030498dc8f0row6_col7,#T_0a0f8702_fb71_11eb_baed_8030498dc8f0row7_col7,#T_0a0f8702_fb71_11eb_baed_8030498dc8f0row8_col7,#T_0a0f8702_fb71_11eb_baed_8030498dc8f0row9_col7,#T_0a0f8702_fb71_11eb_baed_8030498dc8f0row10_col7,#T_0a0f8702_fb71_11eb_baed_8030498dc8f0row11_col7,#T_0a0f8702_fb71_11eb_baed_8030498dc8f0row12_col7,#T_0a0f8702_fb71_11eb_baed_8030498dc8f0row13_col7,#T_0a0f8702_fb71_11eb_baed_8030498dc8f0row15_col7,#T_0a0f8702_fb71_11eb_baed_8030498dc8f0row16_col7{\n",
       "            text-align:  left;\n",
       "            text-align:  left;\n",
       "            background-color:  lightgrey;\n",
       "        }#T_0a0f8702_fb71_11eb_baed_8030498dc8f0row14_col7{\n",
       "            text-align:  left;\n",
       "            text-align:  left;\n",
       "            background-color:  yellow;\n",
       "            background-color:  lightgrey;\n",
       "        }</style><table id=\"T_0a0f8702_fb71_11eb_baed_8030498dc8f0\" ><thead>    <tr>        <th class=\"blank level0\" ></th>        <th class=\"col_heading level0 col0\" >Model</th>        <th class=\"col_heading level0 col1\" >MAE</th>        <th class=\"col_heading level0 col2\" >MSE</th>        <th class=\"col_heading level0 col3\" >RMSE</th>        <th class=\"col_heading level0 col4\" >R2</th>        <th class=\"col_heading level0 col5\" >RMSLE</th>        <th class=\"col_heading level0 col6\" >MAPE</th>        <th class=\"col_heading level0 col7\" >TT (Sec)</th>    </tr></thead><tbody>\n",
       "                <tr>\n",
       "                        <th id=\"T_0a0f8702_fb71_11eb_baed_8030498dc8f0level0_row0\" class=\"row_heading level0 row0\" >lightgbm</th>\n",
       "                        <td id=\"T_0a0f8702_fb71_11eb_baed_8030498dc8f0row0_col0\" class=\"data row0 col0\" >Light Gradient Boosting Machine</td>\n",
       "                        <td id=\"T_0a0f8702_fb71_11eb_baed_8030498dc8f0row0_col1\" class=\"data row0 col1\" >446.5478</td>\n",
       "                        <td id=\"T_0a0f8702_fb71_11eb_baed_8030498dc8f0row0_col2\" class=\"data row0 col2\" >416191.6702</td>\n",
       "                        <td id=\"T_0a0f8702_fb71_11eb_baed_8030498dc8f0row0_col3\" class=\"data row0 col3\" >644.1271</td>\n",
       "                        <td id=\"T_0a0f8702_fb71_11eb_baed_8030498dc8f0row0_col4\" class=\"data row0 col4\" >0.9555</td>\n",
       "                        <td id=\"T_0a0f8702_fb71_11eb_baed_8030498dc8f0row0_col5\" class=\"data row0 col5\" >0.0868</td>\n",
       "                        <td id=\"T_0a0f8702_fb71_11eb_baed_8030498dc8f0row0_col6\" class=\"data row0 col6\" >0.0676</td>\n",
       "                        <td id=\"T_0a0f8702_fb71_11eb_baed_8030498dc8f0row0_col7\" class=\"data row0 col7\" >0.0840</td>\n",
       "            </tr>\n",
       "            <tr>\n",
       "                        <th id=\"T_0a0f8702_fb71_11eb_baed_8030498dc8f0level0_row1\" class=\"row_heading level0 row1\" >et</th>\n",
       "                        <td id=\"T_0a0f8702_fb71_11eb_baed_8030498dc8f0row1_col0\" class=\"data row1 col0\" >Extra Trees Regressor</td>\n",
       "                        <td id=\"T_0a0f8702_fb71_11eb_baed_8030498dc8f0row1_col1\" class=\"data row1 col1\" >500.4038</td>\n",
       "                        <td id=\"T_0a0f8702_fb71_11eb_baed_8030498dc8f0row1_col2\" class=\"data row1 col2\" >499685.0391</td>\n",
       "                        <td id=\"T_0a0f8702_fb71_11eb_baed_8030498dc8f0row1_col3\" class=\"data row1 col3\" >706.4078</td>\n",
       "                        <td id=\"T_0a0f8702_fb71_11eb_baed_8030498dc8f0row1_col4\" class=\"data row1 col4\" >0.9465</td>\n",
       "                        <td id=\"T_0a0f8702_fb71_11eb_baed_8030498dc8f0row1_col5\" class=\"data row1 col5\" >0.0949</td>\n",
       "                        <td id=\"T_0a0f8702_fb71_11eb_baed_8030498dc8f0row1_col6\" class=\"data row1 col6\" >0.0751</td>\n",
       "                        <td id=\"T_0a0f8702_fb71_11eb_baed_8030498dc8f0row1_col7\" class=\"data row1 col7\" >0.9240</td>\n",
       "            </tr>\n",
       "            <tr>\n",
       "                        <th id=\"T_0a0f8702_fb71_11eb_baed_8030498dc8f0level0_row2\" class=\"row_heading level0 row2\" >rf</th>\n",
       "                        <td id=\"T_0a0f8702_fb71_11eb_baed_8030498dc8f0row2_col0\" class=\"data row2 col0\" >Random Forest Regressor</td>\n",
       "                        <td id=\"T_0a0f8702_fb71_11eb_baed_8030498dc8f0row2_col1\" class=\"data row2 col1\" >504.7617</td>\n",
       "                        <td id=\"T_0a0f8702_fb71_11eb_baed_8030498dc8f0row2_col2\" class=\"data row2 col2\" >518520.4663</td>\n",
       "                        <td id=\"T_0a0f8702_fb71_11eb_baed_8030498dc8f0row2_col3\" class=\"data row2 col3\" >719.5765</td>\n",
       "                        <td id=\"T_0a0f8702_fb71_11eb_baed_8030498dc8f0row2_col4\" class=\"data row2 col4\" >0.9444</td>\n",
       "                        <td id=\"T_0a0f8702_fb71_11eb_baed_8030498dc8f0row2_col5\" class=\"data row2 col5\" >0.0950</td>\n",
       "                        <td id=\"T_0a0f8702_fb71_11eb_baed_8030498dc8f0row2_col6\" class=\"data row2 col6\" >0.0751</td>\n",
       "                        <td id=\"T_0a0f8702_fb71_11eb_baed_8030498dc8f0row2_col7\" class=\"data row2 col7\" >1.0080</td>\n",
       "            </tr>\n",
       "            <tr>\n",
       "                        <th id=\"T_0a0f8702_fb71_11eb_baed_8030498dc8f0level0_row3\" class=\"row_heading level0 row3\" >gbr</th>\n",
       "                        <td id=\"T_0a0f8702_fb71_11eb_baed_8030498dc8f0row3_col0\" class=\"data row3 col0\" >Gradient Boosting Regressor</td>\n",
       "                        <td id=\"T_0a0f8702_fb71_11eb_baed_8030498dc8f0row3_col1\" class=\"data row3 col1\" >522.9236</td>\n",
       "                        <td id=\"T_0a0f8702_fb71_11eb_baed_8030498dc8f0row3_col2\" class=\"data row3 col2\" >544483.4280</td>\n",
       "                        <td id=\"T_0a0f8702_fb71_11eb_baed_8030498dc8f0row3_col3\" class=\"data row3 col3\" >737.4010</td>\n",
       "                        <td id=\"T_0a0f8702_fb71_11eb_baed_8030498dc8f0row3_col4\" class=\"data row3 col4\" >0.9416</td>\n",
       "                        <td id=\"T_0a0f8702_fb71_11eb_baed_8030498dc8f0row3_col5\" class=\"data row3 col5\" >0.1010</td>\n",
       "                        <td id=\"T_0a0f8702_fb71_11eb_baed_8030498dc8f0row3_col6\" class=\"data row3 col6\" >0.0795</td>\n",
       "                        <td id=\"T_0a0f8702_fb71_11eb_baed_8030498dc8f0row3_col7\" class=\"data row3 col7\" >0.3080</td>\n",
       "            </tr>\n",
       "            <tr>\n",
       "                        <th id=\"T_0a0f8702_fb71_11eb_baed_8030498dc8f0level0_row4\" class=\"row_heading level0 row4\" >dt</th>\n",
       "                        <td id=\"T_0a0f8702_fb71_11eb_baed_8030498dc8f0row4_col0\" class=\"data row4 col0\" >Decision Tree Regressor</td>\n",
       "                        <td id=\"T_0a0f8702_fb71_11eb_baed_8030498dc8f0row4_col1\" class=\"data row4 col1\" >698.0639</td>\n",
       "                        <td id=\"T_0a0f8702_fb71_11eb_baed_8030498dc8f0row4_col2\" class=\"data row4 col2\" >994232.0672</td>\n",
       "                        <td id=\"T_0a0f8702_fb71_11eb_baed_8030498dc8f0row4_col3\" class=\"data row4 col3\" >996.0691</td>\n",
       "                        <td id=\"T_0a0f8702_fb71_11eb_baed_8030498dc8f0row4_col4\" class=\"data row4 col4\" >0.8936</td>\n",
       "                        <td id=\"T_0a0f8702_fb71_11eb_baed_8030498dc8f0row4_col5\" class=\"data row4 col5\" >0.1329</td>\n",
       "                        <td id=\"T_0a0f8702_fb71_11eb_baed_8030498dc8f0row4_col6\" class=\"data row4 col6\" >0.1043</td>\n",
       "                        <td id=\"T_0a0f8702_fb71_11eb_baed_8030498dc8f0row4_col7\" class=\"data row4 col7\" >0.0520</td>\n",
       "            </tr>\n",
       "            <tr>\n",
       "                        <th id=\"T_0a0f8702_fb71_11eb_baed_8030498dc8f0level0_row5\" class=\"row_heading level0 row5\" >lr</th>\n",
       "                        <td id=\"T_0a0f8702_fb71_11eb_baed_8030498dc8f0row5_col0\" class=\"data row5 col0\" >Linear Regression</td>\n",
       "                        <td id=\"T_0a0f8702_fb71_11eb_baed_8030498dc8f0row5_col1\" class=\"data row5 col1\" >891.8024</td>\n",
       "                        <td id=\"T_0a0f8702_fb71_11eb_baed_8030498dc8f0row5_col2\" class=\"data row5 col2\" >1783421.3000</td>\n",
       "                        <td id=\"T_0a0f8702_fb71_11eb_baed_8030498dc8f0row5_col3\" class=\"data row5 col3\" >1333.9613</td>\n",
       "                        <td id=\"T_0a0f8702_fb71_11eb_baed_8030498dc8f0row5_col4\" class=\"data row5 col4\" >0.8094</td>\n",
       "                        <td id=\"T_0a0f8702_fb71_11eb_baed_8030498dc8f0row5_col5\" class=\"data row5 col5\" >0.3384</td>\n",
       "                        <td id=\"T_0a0f8702_fb71_11eb_baed_8030498dc8f0row5_col6\" class=\"data row5 col6\" >0.1540</td>\n",
       "                        <td id=\"T_0a0f8702_fb71_11eb_baed_8030498dc8f0row5_col7\" class=\"data row5 col7\" >0.5960</td>\n",
       "            </tr>\n",
       "            <tr>\n",
       "                        <th id=\"T_0a0f8702_fb71_11eb_baed_8030498dc8f0level0_row6\" class=\"row_heading level0 row6\" >lasso</th>\n",
       "                        <td id=\"T_0a0f8702_fb71_11eb_baed_8030498dc8f0row6_col0\" class=\"data row6 col0\" >Lasso Regression</td>\n",
       "                        <td id=\"T_0a0f8702_fb71_11eb_baed_8030498dc8f0row6_col1\" class=\"data row6 col1\" >891.2932</td>\n",
       "                        <td id=\"T_0a0f8702_fb71_11eb_baed_8030498dc8f0row6_col2\" class=\"data row6 col2\" >1783102.0750</td>\n",
       "                        <td id=\"T_0a0f8702_fb71_11eb_baed_8030498dc8f0row6_col3\" class=\"data row6 col3\" >1333.8375</td>\n",
       "                        <td id=\"T_0a0f8702_fb71_11eb_baed_8030498dc8f0row6_col4\" class=\"data row6 col4\" >0.8094</td>\n",
       "                        <td id=\"T_0a0f8702_fb71_11eb_baed_8030498dc8f0row6_col5\" class=\"data row6 col5\" >0.3390</td>\n",
       "                        <td id=\"T_0a0f8702_fb71_11eb_baed_8030498dc8f0row6_col6\" class=\"data row6 col6\" >0.1538</td>\n",
       "                        <td id=\"T_0a0f8702_fb71_11eb_baed_8030498dc8f0row6_col7\" class=\"data row6 col7\" >0.4680</td>\n",
       "            </tr>\n",
       "            <tr>\n",
       "                        <th id=\"T_0a0f8702_fb71_11eb_baed_8030498dc8f0level0_row7\" class=\"row_heading level0 row7\" >ridge</th>\n",
       "                        <td id=\"T_0a0f8702_fb71_11eb_baed_8030498dc8f0row7_col0\" class=\"data row7 col0\" >Ridge Regression</td>\n",
       "                        <td id=\"T_0a0f8702_fb71_11eb_baed_8030498dc8f0row7_col1\" class=\"data row7 col1\" >891.7479</td>\n",
       "                        <td id=\"T_0a0f8702_fb71_11eb_baed_8030498dc8f0row7_col2\" class=\"data row7 col2\" >1783410.2500</td>\n",
       "                        <td id=\"T_0a0f8702_fb71_11eb_baed_8030498dc8f0row7_col3\" class=\"data row7 col3\" >1333.9559</td>\n",
       "                        <td id=\"T_0a0f8702_fb71_11eb_baed_8030498dc8f0row7_col4\" class=\"data row7 col4\" >0.8094</td>\n",
       "                        <td id=\"T_0a0f8702_fb71_11eb_baed_8030498dc8f0row7_col5\" class=\"data row7 col5\" >0.3379</td>\n",
       "                        <td id=\"T_0a0f8702_fb71_11eb_baed_8030498dc8f0row7_col6\" class=\"data row7 col6\" >0.1540</td>\n",
       "                        <td id=\"T_0a0f8702_fb71_11eb_baed_8030498dc8f0row7_col7\" class=\"data row7 col7\" >0.3640</td>\n",
       "            </tr>\n",
       "            <tr>\n",
       "                        <th id=\"T_0a0f8702_fb71_11eb_baed_8030498dc8f0level0_row8\" class=\"row_heading level0 row8\" >lar</th>\n",
       "                        <td id=\"T_0a0f8702_fb71_11eb_baed_8030498dc8f0row8_col0\" class=\"data row8 col0\" >Least Angle Regression</td>\n",
       "                        <td id=\"T_0a0f8702_fb71_11eb_baed_8030498dc8f0row8_col1\" class=\"data row8 col1\" >891.8024</td>\n",
       "                        <td id=\"T_0a0f8702_fb71_11eb_baed_8030498dc8f0row8_col2\" class=\"data row8 col2\" >1783421.4452</td>\n",
       "                        <td id=\"T_0a0f8702_fb71_11eb_baed_8030498dc8f0row8_col3\" class=\"data row8 col3\" >1333.9613</td>\n",
       "                        <td id=\"T_0a0f8702_fb71_11eb_baed_8030498dc8f0row8_col4\" class=\"data row8 col4\" >0.8094</td>\n",
       "                        <td id=\"T_0a0f8702_fb71_11eb_baed_8030498dc8f0row8_col5\" class=\"data row8 col5\" >0.3384</td>\n",
       "                        <td id=\"T_0a0f8702_fb71_11eb_baed_8030498dc8f0row8_col6\" class=\"data row8 col6\" >0.1540</td>\n",
       "                        <td id=\"T_0a0f8702_fb71_11eb_baed_8030498dc8f0row8_col7\" class=\"data row8 col7\" >0.0360</td>\n",
       "            </tr>\n",
       "            <tr>\n",
       "                        <th id=\"T_0a0f8702_fb71_11eb_baed_8030498dc8f0level0_row9\" class=\"row_heading level0 row9\" >br</th>\n",
       "                        <td id=\"T_0a0f8702_fb71_11eb_baed_8030498dc8f0row9_col0\" class=\"data row9 col0\" >Bayesian Ridge</td>\n",
       "                        <td id=\"T_0a0f8702_fb71_11eb_baed_8030498dc8f0row9_col1\" class=\"data row9 col1\" >891.5908</td>\n",
       "                        <td id=\"T_0a0f8702_fb71_11eb_baed_8030498dc8f0row9_col2\" class=\"data row9 col2\" >1783380.9445</td>\n",
       "                        <td id=\"T_0a0f8702_fb71_11eb_baed_8030498dc8f0row9_col3\" class=\"data row9 col3\" >1333.9413</td>\n",
       "                        <td id=\"T_0a0f8702_fb71_11eb_baed_8030498dc8f0row9_col4\" class=\"data row9 col4\" >0.8094</td>\n",
       "                        <td id=\"T_0a0f8702_fb71_11eb_baed_8030498dc8f0row9_col5\" class=\"data row9 col5\" >0.3374</td>\n",
       "                        <td id=\"T_0a0f8702_fb71_11eb_baed_8030498dc8f0row9_col6\" class=\"data row9 col6\" >0.1539</td>\n",
       "                        <td id=\"T_0a0f8702_fb71_11eb_baed_8030498dc8f0row9_col7\" class=\"data row9 col7\" >0.0400</td>\n",
       "            </tr>\n",
       "            <tr>\n",
       "                        <th id=\"T_0a0f8702_fb71_11eb_baed_8030498dc8f0level0_row10\" class=\"row_heading level0 row10\" >llar</th>\n",
       "                        <td id=\"T_0a0f8702_fb71_11eb_baed_8030498dc8f0row10_col0\" class=\"data row10 col0\" >Lasso Least Angle Regression</td>\n",
       "                        <td id=\"T_0a0f8702_fb71_11eb_baed_8030498dc8f0row10_col1\" class=\"data row10 col1\" >890.5250</td>\n",
       "                        <td id=\"T_0a0f8702_fb71_11eb_baed_8030498dc8f0row10_col2\" class=\"data row10 col2\" >1852887.1280</td>\n",
       "                        <td id=\"T_0a0f8702_fb71_11eb_baed_8030498dc8f0row10_col3\" class=\"data row10 col3\" >1359.3523</td>\n",
       "                        <td id=\"T_0a0f8702_fb71_11eb_baed_8030498dc8f0row10_col4\" class=\"data row10 col4\" >0.8021</td>\n",
       "                        <td id=\"T_0a0f8702_fb71_11eb_baed_8030498dc8f0row10_col5\" class=\"data row10 col5\" >0.2911</td>\n",
       "                        <td id=\"T_0a0f8702_fb71_11eb_baed_8030498dc8f0row10_col6\" class=\"data row10 col6\" >0.1462</td>\n",
       "                        <td id=\"T_0a0f8702_fb71_11eb_baed_8030498dc8f0row10_col7\" class=\"data row10 col7\" >0.0340</td>\n",
       "            </tr>\n",
       "            <tr>\n",
       "                        <th id=\"T_0a0f8702_fb71_11eb_baed_8030498dc8f0level0_row11\" class=\"row_heading level0 row11\" >knn</th>\n",
       "                        <td id=\"T_0a0f8702_fb71_11eb_baed_8030498dc8f0row11_col0\" class=\"data row11 col0\" >K Neighbors Regressor</td>\n",
       "                        <td id=\"T_0a0f8702_fb71_11eb_baed_8030498dc8f0row11_col1\" class=\"data row11 col1\" >939.1591</td>\n",
       "                        <td id=\"T_0a0f8702_fb71_11eb_baed_8030498dc8f0row11_col2\" class=\"data row11 col2\" >1903841.1250</td>\n",
       "                        <td id=\"T_0a0f8702_fb71_11eb_baed_8030498dc8f0row11_col3\" class=\"data row11 col3\" >1378.8023</td>\n",
       "                        <td id=\"T_0a0f8702_fb71_11eb_baed_8030498dc8f0row11_col4\" class=\"data row11 col4\" >0.7959</td>\n",
       "                        <td id=\"T_0a0f8702_fb71_11eb_baed_8030498dc8f0row11_col5\" class=\"data row11 col5\" >0.1779</td>\n",
       "                        <td id=\"T_0a0f8702_fb71_11eb_baed_8030498dc8f0row11_col6\" class=\"data row11 col6\" >0.1418</td>\n",
       "                        <td id=\"T_0a0f8702_fb71_11eb_baed_8030498dc8f0row11_col7\" class=\"data row11 col7\" >0.2440</td>\n",
       "            </tr>\n",
       "            <tr>\n",
       "                        <th id=\"T_0a0f8702_fb71_11eb_baed_8030498dc8f0level0_row12\" class=\"row_heading level0 row12\" >huber</th>\n",
       "                        <td id=\"T_0a0f8702_fb71_11eb_baed_8030498dc8f0row12_col0\" class=\"data row12 col0\" >Huber Regressor</td>\n",
       "                        <td id=\"T_0a0f8702_fb71_11eb_baed_8030498dc8f0row12_col1\" class=\"data row12 col1\" >834.2420</td>\n",
       "                        <td id=\"T_0a0f8702_fb71_11eb_baed_8030498dc8f0row12_col2\" class=\"data row12 col2\" >1946025.1653</td>\n",
       "                        <td id=\"T_0a0f8702_fb71_11eb_baed_8030498dc8f0row12_col3\" class=\"data row12 col3\" >1392.6486</td>\n",
       "                        <td id=\"T_0a0f8702_fb71_11eb_baed_8030498dc8f0row12_col4\" class=\"data row12 col4\" >0.7923</td>\n",
       "                        <td id=\"T_0a0f8702_fb71_11eb_baed_8030498dc8f0row12_col5\" class=\"data row12 col5\" >0.2827</td>\n",
       "                        <td id=\"T_0a0f8702_fb71_11eb_baed_8030498dc8f0row12_col6\" class=\"data row12 col6\" >0.1303</td>\n",
       "                        <td id=\"T_0a0f8702_fb71_11eb_baed_8030498dc8f0row12_col7\" class=\"data row12 col7\" >0.1200</td>\n",
       "            </tr>\n",
       "            <tr>\n",
       "                        <th id=\"T_0a0f8702_fb71_11eb_baed_8030498dc8f0level0_row13\" class=\"row_heading level0 row13\" >ada</th>\n",
       "                        <td id=\"T_0a0f8702_fb71_11eb_baed_8030498dc8f0row13_col0\" class=\"data row13 col0\" >AdaBoost Regressor</td>\n",
       "                        <td id=\"T_0a0f8702_fb71_11eb_baed_8030498dc8f0row13_col1\" class=\"data row13 col1\" >1123.2891</td>\n",
       "                        <td id=\"T_0a0f8702_fb71_11eb_baed_8030498dc8f0row13_col2\" class=\"data row13 col2\" >1944106.6984</td>\n",
       "                        <td id=\"T_0a0f8702_fb71_11eb_baed_8030498dc8f0row13_col3\" class=\"data row13 col3\" >1393.8589</td>\n",
       "                        <td id=\"T_0a0f8702_fb71_11eb_baed_8030498dc8f0row13_col4\" class=\"data row13 col4\" >0.7910</td>\n",
       "                        <td id=\"T_0a0f8702_fb71_11eb_baed_8030498dc8f0row13_col5\" class=\"data row13 col5\" >0.2352</td>\n",
       "                        <td id=\"T_0a0f8702_fb71_11eb_baed_8030498dc8f0row13_col6\" class=\"data row13 col6\" >0.2090</td>\n",
       "                        <td id=\"T_0a0f8702_fb71_11eb_baed_8030498dc8f0row13_col7\" class=\"data row13 col7\" >0.1940</td>\n",
       "            </tr>\n",
       "            <tr>\n",
       "                        <th id=\"T_0a0f8702_fb71_11eb_baed_8030498dc8f0level0_row14\" class=\"row_heading level0 row14\" >omp</th>\n",
       "                        <td id=\"T_0a0f8702_fb71_11eb_baed_8030498dc8f0row14_col0\" class=\"data row14 col0\" >Orthogonal Matching Pursuit</td>\n",
       "                        <td id=\"T_0a0f8702_fb71_11eb_baed_8030498dc8f0row14_col1\" class=\"data row14 col1\" >965.2093</td>\n",
       "                        <td id=\"T_0a0f8702_fb71_11eb_baed_8030498dc8f0row14_col2\" class=\"data row14 col2\" >1991353.4743</td>\n",
       "                        <td id=\"T_0a0f8702_fb71_11eb_baed_8030498dc8f0row14_col3\" class=\"data row14 col3\" >1409.6237</td>\n",
       "                        <td id=\"T_0a0f8702_fb71_11eb_baed_8030498dc8f0row14_col4\" class=\"data row14 col4\" >0.7871</td>\n",
       "                        <td id=\"T_0a0f8702_fb71_11eb_baed_8030498dc8f0row14_col5\" class=\"data row14 col5\" >0.3332</td>\n",
       "                        <td id=\"T_0a0f8702_fb71_11eb_baed_8030498dc8f0row14_col6\" class=\"data row14 col6\" >0.1644</td>\n",
       "                        <td id=\"T_0a0f8702_fb71_11eb_baed_8030498dc8f0row14_col7\" class=\"data row14 col7\" >0.0320</td>\n",
       "            </tr>\n",
       "            <tr>\n",
       "                        <th id=\"T_0a0f8702_fb71_11eb_baed_8030498dc8f0level0_row15\" class=\"row_heading level0 row15\" >par</th>\n",
       "                        <td id=\"T_0a0f8702_fb71_11eb_baed_8030498dc8f0row15_col0\" class=\"data row15 col0\" >Passive Aggressive Regressor</td>\n",
       "                        <td id=\"T_0a0f8702_fb71_11eb_baed_8030498dc8f0row15_col1\" class=\"data row15 col1\" >834.9008</td>\n",
       "                        <td id=\"T_0a0f8702_fb71_11eb_baed_8030498dc8f0row15_col2\" class=\"data row15 col2\" >1995371.1703</td>\n",
       "                        <td id=\"T_0a0f8702_fb71_11eb_baed_8030498dc8f0row15_col3\" class=\"data row15 col3\" >1410.3612</td>\n",
       "                        <td id=\"T_0a0f8702_fb71_11eb_baed_8030498dc8f0row15_col4\" class=\"data row15 col4\" >0.7870</td>\n",
       "                        <td id=\"T_0a0f8702_fb71_11eb_baed_8030498dc8f0row15_col5\" class=\"data row15 col5\" >0.2836</td>\n",
       "                        <td id=\"T_0a0f8702_fb71_11eb_baed_8030498dc8f0row15_col6\" class=\"data row15 col6\" >0.1291</td>\n",
       "                        <td id=\"T_0a0f8702_fb71_11eb_baed_8030498dc8f0row15_col7\" class=\"data row15 col7\" >0.0420</td>\n",
       "            </tr>\n",
       "            <tr>\n",
       "                        <th id=\"T_0a0f8702_fb71_11eb_baed_8030498dc8f0level0_row16\" class=\"row_heading level0 row16\" >en</th>\n",
       "                        <td id=\"T_0a0f8702_fb71_11eb_baed_8030498dc8f0row16_col0\" class=\"data row16 col0\" >Elastic Net</td>\n",
       "                        <td id=\"T_0a0f8702_fb71_11eb_baed_8030498dc8f0row16_col1\" class=\"data row16 col1\" >1118.4554</td>\n",
       "                        <td id=\"T_0a0f8702_fb71_11eb_baed_8030498dc8f0row16_col2\" class=\"data row16 col2\" >2999707.3000</td>\n",
       "                        <td id=\"T_0a0f8702_fb71_11eb_baed_8030498dc8f0row16_col3\" class=\"data row16 col3\" >1729.2134</td>\n",
       "                        <td id=\"T_0a0f8702_fb71_11eb_baed_8030498dc8f0row16_col4\" class=\"data row16 col4\" >0.6797</td>\n",
       "                        <td id=\"T_0a0f8702_fb71_11eb_baed_8030498dc8f0row16_col5\" class=\"data row16 col5\" >0.2057</td>\n",
       "                        <td id=\"T_0a0f8702_fb71_11eb_baed_8030498dc8f0row16_col6\" class=\"data row16 col6\" >0.1692</td>\n",
       "                        <td id=\"T_0a0f8702_fb71_11eb_baed_8030498dc8f0row16_col7\" class=\"data row16 col7\" >0.0360</td>\n",
       "            </tr>\n",
       "    </tbody></table>"
      ],
      "text/plain": [
       "<pandas.io.formats.style.Styler at 0x1ee0319be80>"
      ]
     },
     "metadata": {},
     "output_type": "display_data"
    }
   ],
   "source": [
    "# Screen for algorithm\n",
    "best = compare_models(fold = 5)"
   ]
  },
  {
   "cell_type": "code",
   "execution_count": 68,
   "metadata": {},
   "outputs": [
    {
     "data": {
      "text/html": [
       "<style  type=\"text/css\" >\n",
       "#T_757183c8_fb71_11eb_8677_8030498dc8f0row10_col0,#T_757183c8_fb71_11eb_8677_8030498dc8f0row10_col1,#T_757183c8_fb71_11eb_8677_8030498dc8f0row10_col2,#T_757183c8_fb71_11eb_8677_8030498dc8f0row10_col3,#T_757183c8_fb71_11eb_8677_8030498dc8f0row10_col4,#T_757183c8_fb71_11eb_8677_8030498dc8f0row10_col5{\n",
       "            background:  yellow;\n",
       "        }</style><table id=\"T_757183c8_fb71_11eb_8677_8030498dc8f0\" ><thead>    <tr>        <th class=\"blank level0\" ></th>        <th class=\"col_heading level0 col0\" >MAE</th>        <th class=\"col_heading level0 col1\" >MSE</th>        <th class=\"col_heading level0 col2\" >RMSE</th>        <th class=\"col_heading level0 col3\" >R2</th>        <th class=\"col_heading level0 col4\" >RMSLE</th>        <th class=\"col_heading level0 col5\" >MAPE</th>    </tr></thead><tbody>\n",
       "                <tr>\n",
       "                        <th id=\"T_757183c8_fb71_11eb_8677_8030498dc8f0level0_row0\" class=\"row_heading level0 row0\" >0</th>\n",
       "                        <td id=\"T_757183c8_fb71_11eb_8677_8030498dc8f0row0_col0\" class=\"data row0 col0\" >434.8909</td>\n",
       "                        <td id=\"T_757183c8_fb71_11eb_8677_8030498dc8f0row0_col1\" class=\"data row0 col1\" >381468.5017</td>\n",
       "                        <td id=\"T_757183c8_fb71_11eb_8677_8030498dc8f0row0_col2\" class=\"data row0 col2\" >617.6314</td>\n",
       "                        <td id=\"T_757183c8_fb71_11eb_8677_8030498dc8f0row0_col3\" class=\"data row0 col3\" >0.9575</td>\n",
       "                        <td id=\"T_757183c8_fb71_11eb_8677_8030498dc8f0row0_col4\" class=\"data row0 col4\" >0.0821</td>\n",
       "                        <td id=\"T_757183c8_fb71_11eb_8677_8030498dc8f0row0_col5\" class=\"data row0 col5\" >0.0652</td>\n",
       "            </tr>\n",
       "            <tr>\n",
       "                        <th id=\"T_757183c8_fb71_11eb_8677_8030498dc8f0level0_row1\" class=\"row_heading level0 row1\" >1</th>\n",
       "                        <td id=\"T_757183c8_fb71_11eb_8677_8030498dc8f0row1_col0\" class=\"data row1 col0\" >426.9471</td>\n",
       "                        <td id=\"T_757183c8_fb71_11eb_8677_8030498dc8f0row1_col1\" class=\"data row1 col1\" >347525.4016</td>\n",
       "                        <td id=\"T_757183c8_fb71_11eb_8677_8030498dc8f0row1_col2\" class=\"data row1 col2\" >589.5129</td>\n",
       "                        <td id=\"T_757183c8_fb71_11eb_8677_8030498dc8f0row1_col3\" class=\"data row1 col3\" >0.9646</td>\n",
       "                        <td id=\"T_757183c8_fb71_11eb_8677_8030498dc8f0row1_col4\" class=\"data row1 col4\" >0.0824</td>\n",
       "                        <td id=\"T_757183c8_fb71_11eb_8677_8030498dc8f0row1_col5\" class=\"data row1 col5\" >0.0661</td>\n",
       "            </tr>\n",
       "            <tr>\n",
       "                        <th id=\"T_757183c8_fb71_11eb_8677_8030498dc8f0level0_row2\" class=\"row_heading level0 row2\" >2</th>\n",
       "                        <td id=\"T_757183c8_fb71_11eb_8677_8030498dc8f0row2_col0\" class=\"data row2 col0\" >443.2618</td>\n",
       "                        <td id=\"T_757183c8_fb71_11eb_8677_8030498dc8f0row2_col1\" class=\"data row2 col1\" >390507.0703</td>\n",
       "                        <td id=\"T_757183c8_fb71_11eb_8677_8030498dc8f0row2_col2\" class=\"data row2 col2\" >624.9056</td>\n",
       "                        <td id=\"T_757183c8_fb71_11eb_8677_8030498dc8f0row2_col3\" class=\"data row2 col3\" >0.9619</td>\n",
       "                        <td id=\"T_757183c8_fb71_11eb_8677_8030498dc8f0row2_col4\" class=\"data row2 col4\" >0.0902</td>\n",
       "                        <td id=\"T_757183c8_fb71_11eb_8677_8030498dc8f0row2_col5\" class=\"data row2 col5\" >0.0684</td>\n",
       "            </tr>\n",
       "            <tr>\n",
       "                        <th id=\"T_757183c8_fb71_11eb_8677_8030498dc8f0level0_row3\" class=\"row_heading level0 row3\" >3</th>\n",
       "                        <td id=\"T_757183c8_fb71_11eb_8677_8030498dc8f0row3_col0\" class=\"data row3 col0\" >445.7684</td>\n",
       "                        <td id=\"T_757183c8_fb71_11eb_8677_8030498dc8f0row3_col1\" class=\"data row3 col1\" >437846.2051</td>\n",
       "                        <td id=\"T_757183c8_fb71_11eb_8677_8030498dc8f0row3_col2\" class=\"data row3 col2\" >661.6995</td>\n",
       "                        <td id=\"T_757183c8_fb71_11eb_8677_8030498dc8f0row3_col3\" class=\"data row3 col3\" >0.9575</td>\n",
       "                        <td id=\"T_757183c8_fb71_11eb_8677_8030498dc8f0row3_col4\" class=\"data row3 col4\" >0.0863</td>\n",
       "                        <td id=\"T_757183c8_fb71_11eb_8677_8030498dc8f0row3_col5\" class=\"data row3 col5\" >0.0668</td>\n",
       "            </tr>\n",
       "            <tr>\n",
       "                        <th id=\"T_757183c8_fb71_11eb_8677_8030498dc8f0level0_row4\" class=\"row_heading level0 row4\" >4</th>\n",
       "                        <td id=\"T_757183c8_fb71_11eb_8677_8030498dc8f0row4_col0\" class=\"data row4 col0\" >416.3867</td>\n",
       "                        <td id=\"T_757183c8_fb71_11eb_8677_8030498dc8f0row4_col1\" class=\"data row4 col1\" >332776.6591</td>\n",
       "                        <td id=\"T_757183c8_fb71_11eb_8677_8030498dc8f0row4_col2\" class=\"data row4 col2\" >576.8680</td>\n",
       "                        <td id=\"T_757183c8_fb71_11eb_8677_8030498dc8f0row4_col3\" class=\"data row4 col3\" >0.9623</td>\n",
       "                        <td id=\"T_757183c8_fb71_11eb_8677_8030498dc8f0row4_col4\" class=\"data row4 col4\" >0.0854</td>\n",
       "                        <td id=\"T_757183c8_fb71_11eb_8677_8030498dc8f0row4_col5\" class=\"data row4 col5\" >0.0652</td>\n",
       "            </tr>\n",
       "            <tr>\n",
       "                        <th id=\"T_757183c8_fb71_11eb_8677_8030498dc8f0level0_row5\" class=\"row_heading level0 row5\" >5</th>\n",
       "                        <td id=\"T_757183c8_fb71_11eb_8677_8030498dc8f0row5_col0\" class=\"data row5 col0\" >445.7164</td>\n",
       "                        <td id=\"T_757183c8_fb71_11eb_8677_8030498dc8f0row5_col1\" class=\"data row5 col1\" >411154.0860</td>\n",
       "                        <td id=\"T_757183c8_fb71_11eb_8677_8030498dc8f0row5_col2\" class=\"data row5 col2\" >641.2130</td>\n",
       "                        <td id=\"T_757183c8_fb71_11eb_8677_8030498dc8f0row5_col3\" class=\"data row5 col3\" >0.9524</td>\n",
       "                        <td id=\"T_757183c8_fb71_11eb_8677_8030498dc8f0row5_col4\" class=\"data row5 col4\" >0.0878</td>\n",
       "                        <td id=\"T_757183c8_fb71_11eb_8677_8030498dc8f0row5_col5\" class=\"data row5 col5\" >0.0673</td>\n",
       "            </tr>\n",
       "            <tr>\n",
       "                        <th id=\"T_757183c8_fb71_11eb_8677_8030498dc8f0level0_row6\" class=\"row_heading level0 row6\" >6</th>\n",
       "                        <td id=\"T_757183c8_fb71_11eb_8677_8030498dc8f0row6_col0\" class=\"data row6 col0\" >446.2608</td>\n",
       "                        <td id=\"T_757183c8_fb71_11eb_8677_8030498dc8f0row6_col1\" class=\"data row6 col1\" >402956.1699</td>\n",
       "                        <td id=\"T_757183c8_fb71_11eb_8677_8030498dc8f0row6_col2\" class=\"data row6 col2\" >634.7883</td>\n",
       "                        <td id=\"T_757183c8_fb71_11eb_8677_8030498dc8f0row6_col3\" class=\"data row6 col3\" >0.9531</td>\n",
       "                        <td id=\"T_757183c8_fb71_11eb_8677_8030498dc8f0row6_col4\" class=\"data row6 col4\" >0.0837</td>\n",
       "                        <td id=\"T_757183c8_fb71_11eb_8677_8030498dc8f0row6_col5\" class=\"data row6 col5\" >0.0659</td>\n",
       "            </tr>\n",
       "            <tr>\n",
       "                        <th id=\"T_757183c8_fb71_11eb_8677_8030498dc8f0level0_row7\" class=\"row_heading level0 row7\" >7</th>\n",
       "                        <td id=\"T_757183c8_fb71_11eb_8677_8030498dc8f0row7_col0\" class=\"data row7 col0\" >439.3213</td>\n",
       "                        <td id=\"T_757183c8_fb71_11eb_8677_8030498dc8f0row7_col1\" class=\"data row7 col1\" >338089.9178</td>\n",
       "                        <td id=\"T_757183c8_fb71_11eb_8677_8030498dc8f0row7_col2\" class=\"data row7 col2\" >581.4550</td>\n",
       "                        <td id=\"T_757183c8_fb71_11eb_8677_8030498dc8f0row7_col3\" class=\"data row7 col3\" >0.9603</td>\n",
       "                        <td id=\"T_757183c8_fb71_11eb_8677_8030498dc8f0row7_col4\" class=\"data row7 col4\" >0.0837</td>\n",
       "                        <td id=\"T_757183c8_fb71_11eb_8677_8030498dc8f0row7_col5\" class=\"data row7 col5\" >0.0666</td>\n",
       "            </tr>\n",
       "            <tr>\n",
       "                        <th id=\"T_757183c8_fb71_11eb_8677_8030498dc8f0level0_row8\" class=\"row_heading level0 row8\" >8</th>\n",
       "                        <td id=\"T_757183c8_fb71_11eb_8677_8030498dc8f0row8_col0\" class=\"data row8 col0\" >447.3969</td>\n",
       "                        <td id=\"T_757183c8_fb71_11eb_8677_8030498dc8f0row8_col1\" class=\"data row8 col1\" >385127.1522</td>\n",
       "                        <td id=\"T_757183c8_fb71_11eb_8677_8030498dc8f0row8_col2\" class=\"data row8 col2\" >620.5861</td>\n",
       "                        <td id=\"T_757183c8_fb71_11eb_8677_8030498dc8f0row8_col3\" class=\"data row8 col3\" >0.9605</td>\n",
       "                        <td id=\"T_757183c8_fb71_11eb_8677_8030498dc8f0row8_col4\" class=\"data row8 col4\" >0.0867</td>\n",
       "                        <td id=\"T_757183c8_fb71_11eb_8677_8030498dc8f0row8_col5\" class=\"data row8 col5\" >0.0678</td>\n",
       "            </tr>\n",
       "            <tr>\n",
       "                        <th id=\"T_757183c8_fb71_11eb_8677_8030498dc8f0level0_row9\" class=\"row_heading level0 row9\" >9</th>\n",
       "                        <td id=\"T_757183c8_fb71_11eb_8677_8030498dc8f0row9_col0\" class=\"data row9 col0\" >443.7934</td>\n",
       "                        <td id=\"T_757183c8_fb71_11eb_8677_8030498dc8f0row9_col1\" class=\"data row9 col1\" >535373.4895</td>\n",
       "                        <td id=\"T_757183c8_fb71_11eb_8677_8030498dc8f0row9_col2\" class=\"data row9 col2\" >731.6922</td>\n",
       "                        <td id=\"T_757183c8_fb71_11eb_8677_8030498dc8f0row9_col3\" class=\"data row9 col3\" >0.9448</td>\n",
       "                        <td id=\"T_757183c8_fb71_11eb_8677_8030498dc8f0row9_col4\" class=\"data row9 col4\" >0.0887</td>\n",
       "                        <td id=\"T_757183c8_fb71_11eb_8677_8030498dc8f0row9_col5\" class=\"data row9 col5\" >0.0676</td>\n",
       "            </tr>\n",
       "            <tr>\n",
       "                        <th id=\"T_757183c8_fb71_11eb_8677_8030498dc8f0level0_row10\" class=\"row_heading level0 row10\" >Mean</th>\n",
       "                        <td id=\"T_757183c8_fb71_11eb_8677_8030498dc8f0row10_col0\" class=\"data row10 col0\" >438.9744</td>\n",
       "                        <td id=\"T_757183c8_fb71_11eb_8677_8030498dc8f0row10_col1\" class=\"data row10 col1\" >396282.4653</td>\n",
       "                        <td id=\"T_757183c8_fb71_11eb_8677_8030498dc8f0row10_col2\" class=\"data row10 col2\" >628.0352</td>\n",
       "                        <td id=\"T_757183c8_fb71_11eb_8677_8030498dc8f0row10_col3\" class=\"data row10 col3\" >0.9575</td>\n",
       "                        <td id=\"T_757183c8_fb71_11eb_8677_8030498dc8f0row10_col4\" class=\"data row10 col4\" >0.0857</td>\n",
       "                        <td id=\"T_757183c8_fb71_11eb_8677_8030498dc8f0row10_col5\" class=\"data row10 col5\" >0.0667</td>\n",
       "            </tr>\n",
       "            <tr>\n",
       "                        <th id=\"T_757183c8_fb71_11eb_8677_8030498dc8f0level0_row11\" class=\"row_heading level0 row11\" >SD</th>\n",
       "                        <td id=\"T_757183c8_fb71_11eb_8677_8030498dc8f0row11_col0\" class=\"data row11 col0\" >9.6380</td>\n",
       "                        <td id=\"T_757183c8_fb71_11eb_8677_8030498dc8f0row11_col1\" class=\"data row11 col1\" >56136.8167</td>\n",
       "                        <td id=\"T_757183c8_fb71_11eb_8677_8030498dc8f0row11_col2\" class=\"data row11 col2\" >43.0611</td>\n",
       "                        <td id=\"T_757183c8_fb71_11eb_8677_8030498dc8f0row11_col3\" class=\"data row11 col3\" >0.0056</td>\n",
       "                        <td id=\"T_757183c8_fb71_11eb_8677_8030498dc8f0row11_col4\" class=\"data row11 col4\" >0.0026</td>\n",
       "                        <td id=\"T_757183c8_fb71_11eb_8677_8030498dc8f0row11_col5\" class=\"data row11 col5\" >0.0010</td>\n",
       "            </tr>\n",
       "    </tbody></table>"
      ],
      "text/plain": [
       "<pandas.io.formats.style.Styler at 0x1ee1a655c50>"
      ]
     },
     "metadata": {},
     "output_type": "display_data"
    }
   ],
   "source": [
    "# train rf model using 10 fold CV\n",
    "lgbm = create_model('lightgbm', fold = 10, n_iter=100)"
   ]
  },
  {
   "cell_type": "code",
   "execution_count": 69,
   "metadata": {},
   "outputs": [
    {
     "data": {
      "text/html": [
       "<style  type=\"text/css\" >\n",
       "</style><table id=\"T_7ac23090_fb71_11eb_94e5_8030498dc8f0\" ><thead>    <tr>        <th class=\"blank level0\" ></th>        <th class=\"col_heading level0 col0\" >Model</th>        <th class=\"col_heading level0 col1\" >MAE</th>        <th class=\"col_heading level0 col2\" >MSE</th>        <th class=\"col_heading level0 col3\" >RMSE</th>        <th class=\"col_heading level0 col4\" >R2</th>        <th class=\"col_heading level0 col5\" >RMSLE</th>        <th class=\"col_heading level0 col6\" >MAPE</th>    </tr></thead><tbody>\n",
       "                <tr>\n",
       "                        <th id=\"T_7ac23090_fb71_11eb_94e5_8030498dc8f0level0_row0\" class=\"row_heading level0 row0\" >0</th>\n",
       "                        <td id=\"T_7ac23090_fb71_11eb_94e5_8030498dc8f0row0_col0\" class=\"data row0 col0\" >Light Gradient Boosting Machine</td>\n",
       "                        <td id=\"T_7ac23090_fb71_11eb_94e5_8030498dc8f0row0_col1\" class=\"data row0 col1\" >439.1115</td>\n",
       "                        <td id=\"T_7ac23090_fb71_11eb_94e5_8030498dc8f0row0_col2\" class=\"data row0 col2\" >441012.5397</td>\n",
       "                        <td id=\"T_7ac23090_fb71_11eb_94e5_8030498dc8f0row0_col3\" class=\"data row0 col3\" >664.0878</td>\n",
       "                        <td id=\"T_7ac23090_fb71_11eb_94e5_8030498dc8f0row0_col4\" class=\"data row0 col4\" >0.9533</td>\n",
       "                        <td id=\"T_7ac23090_fb71_11eb_94e5_8030498dc8f0row0_col5\" class=\"data row0 col5\" >0.0854</td>\n",
       "                        <td id=\"T_7ac23090_fb71_11eb_94e5_8030498dc8f0row0_col6\" class=\"data row0 col6\" >0.0662</td>\n",
       "            </tr>\n",
       "    </tbody></table>"
      ],
      "text/plain": [
       "<pandas.io.formats.style.Styler at 0x1ee03184ef0>"
      ]
     },
     "metadata": {},
     "output_type": "display_data"
    },
    {
     "data": {
      "text/html": [
       "<div>\n",
       "<style scoped>\n",
       "    .dataframe tbody tr th:only-of-type {\n",
       "        vertical-align: middle;\n",
       "    }\n",
       "\n",
       "    .dataframe tbody tr th {\n",
       "        vertical-align: top;\n",
       "    }\n",
       "\n",
       "    .dataframe thead th {\n",
       "        text-align: right;\n",
       "    }\n",
       "</style>\n",
       "<table border=\"1\" class=\"dataframe\">\n",
       "  <thead>\n",
       "    <tr style=\"text-align: right;\">\n",
       "      <th></th>\n",
       "      <th>Month_6</th>\n",
       "      <th>Month_11</th>\n",
       "      <th>DayofMonth</th>\n",
       "      <th>Assortment</th>\n",
       "      <th>Month_2</th>\n",
       "      <th>Promo2_1.0</th>\n",
       "      <th>Month_8</th>\n",
       "      <th>Month_7</th>\n",
       "      <th>CustomerCategory</th>\n",
       "      <th>CompetitionOpenSinceMonth</th>\n",
       "      <th>...</th>\n",
       "      <th>Store</th>\n",
       "      <th>SchoolHoliday_1.0</th>\n",
       "      <th>Promo_1.0</th>\n",
       "      <th>DayOfWeek</th>\n",
       "      <th>Month_12</th>\n",
       "      <th>CompetitionOpenSinceYear</th>\n",
       "      <th>Month_4</th>\n",
       "      <th>Month_10</th>\n",
       "      <th>Sales</th>\n",
       "      <th>Label</th>\n",
       "    </tr>\n",
       "  </thead>\n",
       "  <tbody>\n",
       "    <tr>\n",
       "      <th>0</th>\n",
       "      <td>1.0</td>\n",
       "      <td>0.0</td>\n",
       "      <td>0.825896</td>\n",
       "      <td>1.077003</td>\n",
       "      <td>0.0</td>\n",
       "      <td>1.0</td>\n",
       "      <td>0.0</td>\n",
       "      <td>0.0</td>\n",
       "      <td>1.176641</td>\n",
       "      <td>-0.949194</td>\n",
       "      <td>...</td>\n",
       "      <td>0.617037</td>\n",
       "      <td>1.0</td>\n",
       "      <td>1.0</td>\n",
       "      <td>-0.304770</td>\n",
       "      <td>0.0</td>\n",
       "      <td>-1.720075</td>\n",
       "      <td>0.0</td>\n",
       "      <td>0.0</td>\n",
       "      <td>9898.0</td>\n",
       "      <td>9949.703158</td>\n",
       "    </tr>\n",
       "    <tr>\n",
       "      <th>1</th>\n",
       "      <td>0.0</td>\n",
       "      <td>0.0</td>\n",
       "      <td>1.766990</td>\n",
       "      <td>1.077003</td>\n",
       "      <td>0.0</td>\n",
       "      <td>0.0</td>\n",
       "      <td>0.0</td>\n",
       "      <td>0.0</td>\n",
       "      <td>-0.159079</td>\n",
       "      <td>1.476774</td>\n",
       "      <td>...</td>\n",
       "      <td>-1.405325</td>\n",
       "      <td>0.0</td>\n",
       "      <td>1.0</td>\n",
       "      <td>0.852566</td>\n",
       "      <td>0.0</td>\n",
       "      <td>0.489672</td>\n",
       "      <td>1.0</td>\n",
       "      <td>0.0</td>\n",
       "      <td>6556.0</td>\n",
       "      <td>6875.114428</td>\n",
       "    </tr>\n",
       "    <tr>\n",
       "      <th>2</th>\n",
       "      <td>0.0</td>\n",
       "      <td>0.0</td>\n",
       "      <td>-0.469462</td>\n",
       "      <td>-0.936707</td>\n",
       "      <td>0.0</td>\n",
       "      <td>1.0</td>\n",
       "      <td>0.0</td>\n",
       "      <td>0.0</td>\n",
       "      <td>1.176641</td>\n",
       "      <td>-0.294694</td>\n",
       "      <td>...</td>\n",
       "      <td>-0.181806</td>\n",
       "      <td>0.0</td>\n",
       "      <td>0.0</td>\n",
       "      <td>-1.469031</td>\n",
       "      <td>0.0</td>\n",
       "      <td>-0.012204</td>\n",
       "      <td>0.0</td>\n",
       "      <td>0.0</td>\n",
       "      <td>5011.0</td>\n",
       "      <td>5082.022808</td>\n",
       "    </tr>\n",
       "    <tr>\n",
       "      <th>3</th>\n",
       "      <td>1.0</td>\n",
       "      <td>0.0</td>\n",
       "      <td>-1.231389</td>\n",
       "      <td>1.077003</td>\n",
       "      <td>0.0</td>\n",
       "      <td>0.0</td>\n",
       "      <td>0.0</td>\n",
       "      <td>0.0</td>\n",
       "      <td>1.176641</td>\n",
       "      <td>0.514457</td>\n",
       "      <td>...</td>\n",
       "      <td>0.309629</td>\n",
       "      <td>1.0</td>\n",
       "      <td>0.0</td>\n",
       "      <td>-1.469031</td>\n",
       "      <td>0.0</td>\n",
       "      <td>1.042506</td>\n",
       "      <td>0.0</td>\n",
       "      <td>0.0</td>\n",
       "      <td>7505.0</td>\n",
       "      <td>7497.257366</td>\n",
       "    </tr>\n",
       "    <tr>\n",
       "      <th>4</th>\n",
       "      <td>0.0</td>\n",
       "      <td>1.0</td>\n",
       "      <td>-0.304967</td>\n",
       "      <td>1.077003</td>\n",
       "      <td>0.0</td>\n",
       "      <td>1.0</td>\n",
       "      <td>0.0</td>\n",
       "      <td>0.0</td>\n",
       "      <td>-1.220085</td>\n",
       "      <td>1.476774</td>\n",
       "      <td>...</td>\n",
       "      <td>-1.702078</td>\n",
       "      <td>0.0</td>\n",
       "      <td>1.0</td>\n",
       "      <td>-0.304770</td>\n",
       "      <td>0.0</td>\n",
       "      <td>0.760277</td>\n",
       "      <td>0.0</td>\n",
       "      <td>0.0</td>\n",
       "      <td>9758.0</td>\n",
       "      <td>10093.079331</td>\n",
       "    </tr>\n",
       "    <tr>\n",
       "      <th>...</th>\n",
       "      <td>...</td>\n",
       "      <td>...</td>\n",
       "      <td>...</td>\n",
       "      <td>...</td>\n",
       "      <td>...</td>\n",
       "      <td>...</td>\n",
       "      <td>...</td>\n",
       "      <td>...</td>\n",
       "      <td>...</td>\n",
       "      <td>...</td>\n",
       "      <td>...</td>\n",
       "      <td>...</td>\n",
       "      <td>...</td>\n",
       "      <td>...</td>\n",
       "      <td>...</td>\n",
       "      <td>...</td>\n",
       "      <td>...</td>\n",
       "      <td>...</td>\n",
       "      <td>...</td>\n",
       "      <td>...</td>\n",
       "      <td>...</td>\n",
       "    </tr>\n",
       "    <tr>\n",
       "      <th>5996</th>\n",
       "      <td>0.0</td>\n",
       "      <td>0.0</td>\n",
       "      <td>0.095725</td>\n",
       "      <td>1.077003</td>\n",
       "      <td>0.0</td>\n",
       "      <td>0.0</td>\n",
       "      <td>1.0</td>\n",
       "      <td>0.0</td>\n",
       "      <td>1.176641</td>\n",
       "      <td>0.979149</td>\n",
       "      <td>...</td>\n",
       "      <td>1.598586</td>\n",
       "      <td>0.0</td>\n",
       "      <td>0.0</td>\n",
       "      <td>0.274844</td>\n",
       "      <td>0.0</td>\n",
       "      <td>1.335505</td>\n",
       "      <td>0.0</td>\n",
       "      <td>0.0</td>\n",
       "      <td>11155.0</td>\n",
       "      <td>10751.485430</td>\n",
       "    </tr>\n",
       "    <tr>\n",
       "      <th>5997</th>\n",
       "      <td>0.0</td>\n",
       "      <td>0.0</td>\n",
       "      <td>0.503757</td>\n",
       "      <td>1.077003</td>\n",
       "      <td>0.0</td>\n",
       "      <td>0.0</td>\n",
       "      <td>0.0</td>\n",
       "      <td>0.0</td>\n",
       "      <td>-1.220085</td>\n",
       "      <td>-1.516531</td>\n",
       "      <td>...</td>\n",
       "      <td>0.078737</td>\n",
       "      <td>0.0</td>\n",
       "      <td>0.0</td>\n",
       "      <td>1.428969</td>\n",
       "      <td>0.0</td>\n",
       "      <td>0.489672</td>\n",
       "      <td>0.0</td>\n",
       "      <td>1.0</td>\n",
       "      <td>6543.0</td>\n",
       "      <td>7178.666301</td>\n",
       "    </tr>\n",
       "    <tr>\n",
       "      <th>5998</th>\n",
       "      <td>0.0</td>\n",
       "      <td>0.0</td>\n",
       "      <td>0.312095</td>\n",
       "      <td>1.077003</td>\n",
       "      <td>0.0</td>\n",
       "      <td>0.0</td>\n",
       "      <td>0.0</td>\n",
       "      <td>0.0</td>\n",
       "      <td>-1.220085</td>\n",
       "      <td>0.979149</td>\n",
       "      <td>...</td>\n",
       "      <td>0.300246</td>\n",
       "      <td>0.0</td>\n",
       "      <td>0.0</td>\n",
       "      <td>1.428969</td>\n",
       "      <td>1.0</td>\n",
       "      <td>-0.657595</td>\n",
       "      <td>0.0</td>\n",
       "      <td>0.0</td>\n",
       "      <td>5498.0</td>\n",
       "      <td>5160.094205</td>\n",
       "    </tr>\n",
       "    <tr>\n",
       "      <th>5999</th>\n",
       "      <td>0.0</td>\n",
       "      <td>0.0</td>\n",
       "      <td>0.639894</td>\n",
       "      <td>-0.936707</td>\n",
       "      <td>0.0</td>\n",
       "      <td>0.0</td>\n",
       "      <td>0.0</td>\n",
       "      <td>0.0</td>\n",
       "      <td>1.176641</td>\n",
       "      <td>-1.516531</td>\n",
       "      <td>...</td>\n",
       "      <td>1.198199</td>\n",
       "      <td>0.0</td>\n",
       "      <td>1.0</td>\n",
       "      <td>0.852566</td>\n",
       "      <td>0.0</td>\n",
       "      <td>-0.454788</td>\n",
       "      <td>0.0</td>\n",
       "      <td>0.0</td>\n",
       "      <td>6084.0</td>\n",
       "      <td>6481.023386</td>\n",
       "    </tr>\n",
       "    <tr>\n",
       "      <th>6000</th>\n",
       "      <td>0.0</td>\n",
       "      <td>0.0</td>\n",
       "      <td>-0.185172</td>\n",
       "      <td>1.077003</td>\n",
       "      <td>1.0</td>\n",
       "      <td>1.0</td>\n",
       "      <td>0.0</td>\n",
       "      <td>0.0</td>\n",
       "      <td>-0.159079</td>\n",
       "      <td>0.979149</td>\n",
       "      <td>...</td>\n",
       "      <td>1.595401</td>\n",
       "      <td>0.0</td>\n",
       "      <td>0.0</td>\n",
       "      <td>1.428969</td>\n",
       "      <td>0.0</td>\n",
       "      <td>-1.388823</td>\n",
       "      <td>0.0</td>\n",
       "      <td>0.0</td>\n",
       "      <td>3510.0</td>\n",
       "      <td>4028.605878</td>\n",
       "    </tr>\n",
       "  </tbody>\n",
       "</table>\n",
       "<p>6001 rows × 26 columns</p>\n",
       "</div>"
      ],
      "text/plain": [
       "      Month_6  Month_11  DayofMonth  Assortment  Month_2  Promo2_1.0  Month_8  \\\n",
       "0         1.0       0.0    0.825896    1.077003      0.0         1.0      0.0   \n",
       "1         0.0       0.0    1.766990    1.077003      0.0         0.0      0.0   \n",
       "2         0.0       0.0   -0.469462   -0.936707      0.0         1.0      0.0   \n",
       "3         1.0       0.0   -1.231389    1.077003      0.0         0.0      0.0   \n",
       "4         0.0       1.0   -0.304967    1.077003      0.0         1.0      0.0   \n",
       "...       ...       ...         ...         ...      ...         ...      ...   \n",
       "5996      0.0       0.0    0.095725    1.077003      0.0         0.0      1.0   \n",
       "5997      0.0       0.0    0.503757    1.077003      0.0         0.0      0.0   \n",
       "5998      0.0       0.0    0.312095    1.077003      0.0         0.0      0.0   \n",
       "5999      0.0       0.0    0.639894   -0.936707      0.0         0.0      0.0   \n",
       "6000      0.0       0.0   -0.185172    1.077003      1.0         1.0      0.0   \n",
       "\n",
       "      Month_7  CustomerCategory  CompetitionOpenSinceMonth  ...     Store  \\\n",
       "0         0.0          1.176641                  -0.949194  ...  0.617037   \n",
       "1         0.0         -0.159079                   1.476774  ... -1.405325   \n",
       "2         0.0          1.176641                  -0.294694  ... -0.181806   \n",
       "3         0.0          1.176641                   0.514457  ...  0.309629   \n",
       "4         0.0         -1.220085                   1.476774  ... -1.702078   \n",
       "...       ...               ...                        ...  ...       ...   \n",
       "5996      0.0          1.176641                   0.979149  ...  1.598586   \n",
       "5997      0.0         -1.220085                  -1.516531  ...  0.078737   \n",
       "5998      0.0         -1.220085                   0.979149  ...  0.300246   \n",
       "5999      0.0          1.176641                  -1.516531  ...  1.198199   \n",
       "6000      0.0         -0.159079                   0.979149  ...  1.595401   \n",
       "\n",
       "      SchoolHoliday_1.0  Promo_1.0  DayOfWeek  Month_12  \\\n",
       "0                   1.0        1.0  -0.304770       0.0   \n",
       "1                   0.0        1.0   0.852566       0.0   \n",
       "2                   0.0        0.0  -1.469031       0.0   \n",
       "3                   1.0        0.0  -1.469031       0.0   \n",
       "4                   0.0        1.0  -0.304770       0.0   \n",
       "...                 ...        ...        ...       ...   \n",
       "5996                0.0        0.0   0.274844       0.0   \n",
       "5997                0.0        0.0   1.428969       0.0   \n",
       "5998                0.0        0.0   1.428969       1.0   \n",
       "5999                0.0        1.0   0.852566       0.0   \n",
       "6000                0.0        0.0   1.428969       0.0   \n",
       "\n",
       "      CompetitionOpenSinceYear  Month_4  Month_10    Sales         Label  \n",
       "0                    -1.720075      0.0       0.0   9898.0   9949.703158  \n",
       "1                     0.489672      1.0       0.0   6556.0   6875.114428  \n",
       "2                    -0.012204      0.0       0.0   5011.0   5082.022808  \n",
       "3                     1.042506      0.0       0.0   7505.0   7497.257366  \n",
       "4                     0.760277      0.0       0.0   9758.0  10093.079331  \n",
       "...                        ...      ...       ...      ...           ...  \n",
       "5996                  1.335505      0.0       0.0  11155.0  10751.485430  \n",
       "5997                  0.489672      0.0       1.0   6543.0   7178.666301  \n",
       "5998                 -0.657595      0.0       0.0   5498.0   5160.094205  \n",
       "5999                 -0.454788      0.0       0.0   6084.0   6481.023386  \n",
       "6000                 -1.388823      0.0       0.0   3510.0   4028.605878  \n",
       "\n",
       "[6001 rows x 26 columns]"
      ]
     },
     "execution_count": 69,
     "metadata": {},
     "output_type": "execute_result"
    }
   ],
   "source": [
    "predict_model(lgbm)"
   ]
  },
  {
   "cell_type": "code",
   "execution_count": 90,
   "metadata": {},
   "outputs": [],
   "source": [
    "lgbm_final = finalize_model(lgbm)"
   ]
  },
  {
   "cell_type": "code",
   "execution_count": 91,
   "metadata": {},
   "outputs": [
    {
     "name": "stdout",
     "output_type": "stream",
     "text": [
      "Transformation Pipeline and Model Successfully Saved\n"
     ]
    },
    {
     "data": {
      "text/plain": [
       "(Pipeline(memory=None,\n",
       "          steps=[('dtypes',\n",
       "                  DataTypes_Auto_infer(categorical_features=[],\n",
       "                                       display_types=True, features_todrop=[],\n",
       "                                       id_columns=[], ml_usecase='regression',\n",
       "                                       numerical_features=['CompetitionDistance',\n",
       "                                                           'CustomerTraffic',\n",
       "                                                           'CustomerCategory',\n",
       "                                                           'StoreType',\n",
       "                                                           'Assortment',\n",
       "                                                           'PromoInterval'],\n",
       "                                       target='Sales', time_features=[])),\n",
       "                 ('imputer',\n",
       "                  Simple_Imputer(categorica...\n",
       "                  LGBMRegressor(boosting_type='gbdt', class_weight=None,\n",
       "                                colsample_bytree=1.0, importance_type='split',\n",
       "                                learning_rate=0.1, max_depth=-1,\n",
       "                                min_child_samples=20, min_child_weight=0.001,\n",
       "                                min_split_gain=0.0, n_estimators=100, n_iter=100,\n",
       "                                n_jobs=-1, num_leaves=31, objective=None,\n",
       "                                random_state=42, reg_alpha=0.0, reg_lambda=0.0,\n",
       "                                silent=True, subsample=1.0,\n",
       "                                subsample_for_bin=200000, subsample_freq=0)]],\n",
       "          verbose=False),\n",
       " '2021-08-12-mini-lgbm_final.pkl')"
      ]
     },
     "execution_count": 91,
     "metadata": {},
     "output_type": "execute_result"
    }
   ],
   "source": [
    "save_model(lgbm_final, '2021-08-12-mini-lgbm_final')"
   ]
  },
  {
   "cell_type": "code",
   "execution_count": 93,
   "metadata": {},
   "outputs": [],
   "source": [
    "y_pred = lgbm_final.predict(combined_nopromo_processed_x_test)"
   ]
  },
  {
   "cell_type": "code",
   "execution_count": 94,
   "metadata": {},
   "outputs": [],
   "source": [
    "def compute_rmse(actual, prediction):\n",
    "    \"\"\"\n",
    "    Computs RMSE (root mean squared error) between predictions from a model\n",
    "    and the actual values of the target variable.\n",
    "    \"\"\"\n",
    "    rmse = sqrt(mean_squared_error(actual, prediction))\n",
    "    # rounding to 2 decimal places\n",
    "    print('RMSE is ', round(rmse,2))\n",
    "    return rmse"
   ]
  },
  {
   "cell_type": "code",
   "execution_count": 95,
   "metadata": {},
   "outputs": [],
   "source": [
    "from sklearn.metrics import mean_squared_error\n",
    "from math import sqrt"
   ]
  },
  {
   "cell_type": "code",
   "execution_count": 96,
   "metadata": {},
   "outputs": [
    {
     "name": "stdout",
     "output_type": "stream",
     "text": [
      "RMSE is  549.69\n"
     ]
    }
   ],
   "source": [
    "random_forest_rmse = compute_rmse(combined_nopromo_processed_y_test, y_pred)"
   ]
  },
  {
   "cell_type": "code",
   "execution_count": 97,
   "metadata": {},
   "outputs": [
    {
     "data": {
      "text/plain": [
       "8.011759545311268"
      ]
     },
     "execution_count": 97,
     "metadata": {},
     "output_type": "execute_result"
    }
   ],
   "source": [
    "def metric(preds, actuals):\n",
    "    preds = preds.reshape(-1)\n",
    "    actuals = actuals.reshape(-1)\n",
    "    assert preds.shape == actuals.shape\n",
    "    return 100 * np.linalg.norm((actuals - preds) / actuals) / np.sqrt(preds.shape[0])\n",
    "metric(y_pred,combined_nopromo_processed_y_test.to_numpy())"
   ]
  },
  {
   "cell_type": "code",
   "execution_count": 98,
   "metadata": {},
   "outputs": [],
   "source": [
    "from sklearn.model_selection import train_test_split\n",
    "\n",
    "# splitting data into features and targets \n",
    "x = data[data['Sales']!= 0].drop(columns=[\"Sales\", \"Customers_x\"])\n",
    "y = data[data['Sales']!= 0].loc[:, \"Sales\"].drop(columns=[\"Customers\"])\n",
    "\n",
    "# Removing 15% of data as holdout\n",
    "x_train, x_test, y_train, y_test = train_test_split(x, y, test_size=0.15, random_state=42)"
   ]
  },
  {
   "cell_type": "code",
   "execution_count": 99,
   "metadata": {},
   "outputs": [
    {
     "data": {
      "text/plain": [
       "2013    264375\n",
       "2014    149589\n",
       "Name: Year-original, dtype: int64"
      ]
     },
     "execution_count": 99,
     "metadata": {},
     "output_type": "execute_result"
    }
   ],
   "source": [
    "data['Year-original'].value_counts()"
   ]
  },
  {
   "cell_type": "code",
   "execution_count": 100,
   "metadata": {},
   "outputs": [
    {
     "data": {
      "text/plain": [
       "((351869, 23), (62095, 23), (351869,), (62095,))"
      ]
     },
     "execution_count": 100,
     "metadata": {},
     "output_type": "execute_result"
    }
   ],
   "source": [
    "x_train.shape, x_test.shape, y_train.shape, y_test.shape"
   ]
  },
  {
   "cell_type": "code",
   "execution_count": 101,
   "metadata": {},
   "outputs": [],
   "source": [
    "# putting x & y back together for plotting\n",
    "train_data = pd.concat([x_train, y_train], axis=1)"
   ]
  },
  {
   "cell_type": "code",
   "execution_count": 102,
   "metadata": {},
   "outputs": [
    {
     "name": "stdout",
     "output_type": "stream",
     "text": [
      "<class 'pandas.core.frame.DataFrame'>\n",
      "Int64Index: 351869 entries, 85986 to 190123\n",
      "Data columns (total 24 columns):\n",
      " #   Column                     Non-Null Count   Dtype  \n",
      "---  ------                     --------------   -----  \n",
      " 0   Store                      351869 non-null  float64\n",
      " 1   DayOfWeek                  351869 non-null  float64\n",
      " 2   Promo                      351869 non-null  float64\n",
      " 3   StateHoliday_1             351869 non-null  int64  \n",
      " 4   StateHoliday_2             351869 non-null  int64  \n",
      " 5   StateHoliday_3             351869 non-null  int64  \n",
      " 6   StateHoliday_4             351869 non-null  int64  \n",
      " 7   SchoolHoliday              351869 non-null  float64\n",
      " 8   CustomerTraffic            351869 non-null  int32  \n",
      " 9   CustomerCategory           351869 non-null  int32  \n",
      " 10  StoreType                  351869 non-null  int32  \n",
      " 11  Assortment                 351869 non-null  int32  \n",
      " 12  CompetitionDistance        351869 non-null  float64\n",
      " 13  CompetitionOpenSinceMonth  351869 non-null  float64\n",
      " 14  CompetitionOpenSinceYear   351869 non-null  float64\n",
      " 15  Promo2                     351869 non-null  float64\n",
      " 16  Promo2SinceWeek            351869 non-null  float64\n",
      " 17  Promo2SinceYear            351869 non-null  float64\n",
      " 18  PromoInterval              351869 non-null  int32  \n",
      " 19  Year                       351869 non-null  float64\n",
      " 20  Month                      351869 non-null  int64  \n",
      " 21  DayofMonth                 351869 non-null  float64\n",
      " 22  Year-original              351869 non-null  int64  \n",
      " 23  Sales                      351869 non-null  float64\n",
      "dtypes: float64(13), int32(5), int64(6)\n",
      "memory usage: 60.4 MB\n"
     ]
    }
   ],
   "source": [
    "train_data.info()"
   ]
  },
  {
   "cell_type": "markdown",
   "metadata": {},
   "source": [
    "### 2.2 Visualizations\n",
    "Doing more visualizations to see which types of columns could be potentially helpful for us for predicting our target variable of price."
   ]
  },
  {
   "cell_type": "markdown",
   "metadata": {},
   "source": [
    "Looking at price spread by different levels of location information"
   ]
  },
  {
   "cell_type": "code",
   "execution_count": 103,
   "metadata": {},
   "outputs": [],
   "source": [
    "avg_Sales_by_DayofWeek = data.groupby(\"DayOfWeek\").mean()['Sales'].sort_values(ascending=False)\n",
    "avg_Sales_by_promo = data.groupby('Promo').mean()['Sales'].sort_values(ascending=False)\n",
    "avg_Sales_by_Assortment = data.groupby(\"Assortment\").mean()['Sales'].sort_values(ascending=False)\n"
   ]
  },
  {
   "cell_type": "code",
   "execution_count": 104,
   "metadata": {},
   "outputs": [
    {
     "data": {
      "text/plain": [
       "count       7.0\n",
       "mean     6977.0\n",
       "std       770.0\n",
       "min      5783.0\n",
       "25%      6646.0\n",
       "50%      6898.0\n",
       "75%      7385.0\n",
       "max      8094.0\n",
       "Name: Sales, dtype: float64"
      ]
     },
     "execution_count": 104,
     "metadata": {},
     "output_type": "execute_result"
    }
   ],
   "source": [
    "avg_Sales_by_DayofWeek.describe().round()"
   ]
  },
  {
   "cell_type": "code",
   "execution_count": 105,
   "metadata": {},
   "outputs": [
    {
     "data": {
      "text/plain": [
       "count       2.0\n",
       "mean     6991.0\n",
       "std      1635.0\n",
       "min      5835.0\n",
       "25%      6413.0\n",
       "50%      6991.0\n",
       "75%      7569.0\n",
       "max      8147.0\n",
       "Name: Sales, dtype: float64"
      ]
     },
     "execution_count": 105,
     "metadata": {},
     "output_type": "execute_result"
    }
   ],
   "source": [
    "avg_Sales_by_promo.describe().round()"
   ]
  },
  {
   "cell_type": "code",
   "execution_count": 106,
   "metadata": {},
   "outputs": [
    {
     "data": {
      "text/plain": [
       "count       3.0\n",
       "mean     7277.0\n",
       "std       800.0\n",
       "min      6567.0\n",
       "25%      6843.0\n",
       "50%      7119.0\n",
       "75%      7632.0\n",
       "max      8145.0\n",
       "Name: Sales, dtype: float64"
      ]
     },
     "execution_count": 106,
     "metadata": {},
     "output_type": "execute_result"
    }
   ],
   "source": [
    "avg_Sales_by_Assortment.describe().round()"
   ]
  },
  {
   "cell_type": "code",
   "execution_count": 107,
   "metadata": {},
   "outputs": [
    {
     "data": {
      "image/png": "[encoded data removed]",
      "text/plain": [
       "<Figure size 864x504 with 1 Axes>"
      ]
     },
     "metadata": {},
     "output_type": "display_data"
    }
   ],
   "source": [
    "import matplotlib.pyplot as plt\n",
    "\n",
    "fig, ax = plt.subplots(nrows=1, figsize=(12,7))\n",
    "\n",
    "avg_Sales_by_DayofWeek.plot(ax=ax, kind='bar')\n",
    "\n",
    "ax.set_title('avg_Sales_by_DayofWeek')\n",
    "\n",
    "fig;"
   ]
  },
  {
   "cell_type": "code",
   "execution_count": 108,
   "metadata": {},
   "outputs": [
    {
     "data": {
      "image/png": "[encoded data removed]",
      "text/plain": [
       "<Figure size 720x504 with 1 Axes>"
      ]
     },
     "metadata": {},
     "output_type": "display_data"
    }
   ],
   "source": [
    "import matplotlib.pyplot as plt\n",
    "\n",
    "fig, ax = plt.subplots(nrows=1, figsize=(10,7))\n",
    "\n",
    "avg_Sales_by_promo.plot(ax=ax, kind='bar')\n",
    "\n",
    "ax.set_title('avg_Sales_by_promo')\n",
    "\n",
    "fig;"
   ]
  },
  {
   "cell_type": "code",
   "execution_count": 109,
   "metadata": {},
   "outputs": [
    {
     "data": {
      "image/png": "[encoded data removed]",
      "text/plain": [
       "<Figure size 864x504 with 1 Axes>"
      ]
     },
     "metadata": {},
     "output_type": "display_data"
    }
   ],
   "source": [
    "import matplotlib.pyplot as plt\n",
    "\n",
    "fig, ax = plt.subplots(nrows=1, figsize=(12,7))\n",
    "\n",
    "avg_Sales_by_Assortment.plot(ax=ax, kind='bar')\n",
    "\n",
    "ax.set_title('avg_Sales_by_Assortment')\n",
    "\n",
    "fig;"
   ]
  },
  {
   "cell_type": "code",
   "execution_count": 110,
   "metadata": {},
   "outputs": [
    {
     "data": {
      "image/png": "[encoded data removed]",
      "text/plain": [
       "<Figure size 864x504 with 1 Axes>"
      ]
     },
     "metadata": {},
     "output_type": "display_data"
    }
   ],
   "source": [
    "import matplotlib.pyplot as plt\n",
    "\n",
    "fig, ax = plt.subplots(nrows=1, figsize=(12,7))\n",
    "\n",
    "avg_Sales_by_Assortment.plot(ax=ax, kind='bar')\n",
    "\n",
    "ax.set_title('avg_Sales_by_Assortment')\n",
    "\n",
    "fig;"
   ]
  },
  {
   "cell_type": "markdown",
   "metadata": {},
   "source": [
    "#### Seller Analysis\n",
    "The \"Store\" column naming the store id who has the highest sales could be interesting. Maybe there is one \"rock star\" store who makes drastically more than the others. \n",
    "\n",
    "There is definitely a large spread between the agents. Some have an average sales that is one OOM larger than the others."
   ]
  },
  {
   "cell_type": "code",
   "execution_count": 111,
   "metadata": {},
   "outputs": [
    {
     "data": {
      "text/plain": [
       "Store\n",
       "817.0     22637.0\n",
       "262.0     20742.0\n",
       "1114.0    20096.0\n",
       "251.0     18792.0\n",
       "513.0     18588.0\n",
       "           ...   \n",
       "198.0      2893.0\n",
       "254.0      2878.0\n",
       "208.0      2859.0\n",
       "543.0      2813.0\n",
       "307.0      2671.0\n",
       "Name: Sales, Length: 1115, dtype: float64"
      ]
     },
     "execution_count": 111,
     "metadata": {},
     "output_type": "execute_result"
    }
   ],
   "source": [
    "train_data.groupby(\"Store\")[\"Sales\"].mean().round().sort_values(ascending=False)"
   ]
  },
  {
   "cell_type": "markdown",
   "metadata": {},
   "source": [
    "## 3. Feature Engineering\n",
    "\n",
    "We have now seen that many of our categorical columns have a very large number of possible values (some with 200-300). \n",
    "\n",
    "This is too many to encoding using One Hot Encoding. \n",
    "\n",
    "So instead, we will use mean encoding, putting the average price for each of the potential category values as its new value.\n",
    "\n",
    "**This helps us get all the columns to numeric format, for use in modelling!**"
   ]
  },
  {
   "cell_type": "markdown",
   "metadata": {},
   "source": [
    "We will also drop \"Address\", since it is unique to the property and thus very unlikely to help our model learn.\n",
    "For the location variables, we will just keep one.\n",
    "\n",
    "\n",
    "All the rest we will mean encode, and then get started with modeling!"
   ]
  },
  {
   "cell_type": "markdown",
   "metadata": {},
   "source": [
    "For this initial stage of modeling, we will also drop the column \"Method\"."
   ]
  },
  {
   "cell_type": "code",
   "execution_count": 160,
   "metadata": {},
   "outputs": [
    {
     "data": {
      "text/html": [
       "<div>\n",
       "<style scoped>\n",
       "    .dataframe tbody tr th:only-of-type {\n",
       "        vertical-align: middle;\n",
       "    }\n",
       "\n",
       "    .dataframe tbody tr th {\n",
       "        vertical-align: top;\n",
       "    }\n",
       "\n",
       "    .dataframe thead th {\n",
       "        text-align: right;\n",
       "    }\n",
       "</style>\n",
       "<table border=\"1\" class=\"dataframe\">\n",
       "  <thead>\n",
       "    <tr style=\"text-align: right;\">\n",
       "      <th></th>\n",
       "      <th>Store</th>\n",
       "      <th>DayOfWeek</th>\n",
       "      <th>Sales</th>\n",
       "      <th>Customers_x</th>\n",
       "      <th>Promo</th>\n",
       "      <th>StateHoliday_1</th>\n",
       "      <th>StateHoliday_2</th>\n",
       "      <th>StateHoliday_3</th>\n",
       "      <th>StateHoliday_4</th>\n",
       "      <th>SchoolHoliday</th>\n",
       "      <th>...</th>\n",
       "      <th>CompetitionOpenSinceMonth</th>\n",
       "      <th>CompetitionOpenSinceYear</th>\n",
       "      <th>Promo2</th>\n",
       "      <th>Promo2SinceWeek</th>\n",
       "      <th>Promo2SinceYear</th>\n",
       "      <th>PromoInterval</th>\n",
       "      <th>Year</th>\n",
       "      <th>Month</th>\n",
       "      <th>DayofMonth</th>\n",
       "      <th>Year-original</th>\n",
       "    </tr>\n",
       "  </thead>\n",
       "  <tbody>\n",
       "    <tr>\n",
       "      <th>0</th>\n",
       "      <td>1115.0</td>\n",
       "      <td>2.0</td>\n",
       "      <td>0.0</td>\n",
       "      <td>0.0</td>\n",
       "      <td>0.0</td>\n",
       "      <td>1</td>\n",
       "      <td>0</td>\n",
       "      <td>0</td>\n",
       "      <td>0</td>\n",
       "      <td>1.0</td>\n",
       "      <td>...</td>\n",
       "      <td>8.0</td>\n",
       "      <td>2005.0</td>\n",
       "      <td>1.0</td>\n",
       "      <td>22.0</td>\n",
       "      <td>2012.0</td>\n",
       "      <td>3</td>\n",
       "      <td>5656.550582</td>\n",
       "      <td>1</td>\n",
       "      <td>4031.311408</td>\n",
       "      <td>2013</td>\n",
       "    </tr>\n",
       "    <tr>\n",
       "      <th>1</th>\n",
       "      <td>379.0</td>\n",
       "      <td>2.0</td>\n",
       "      <td>0.0</td>\n",
       "      <td>0.0</td>\n",
       "      <td>0.0</td>\n",
       "      <td>1</td>\n",
       "      <td>0</td>\n",
       "      <td>0</td>\n",
       "      <td>0</td>\n",
       "      <td>1.0</td>\n",
       "      <td>...</td>\n",
       "      <td>8.0</td>\n",
       "      <td>2005.0</td>\n",
       "      <td>0.0</td>\n",
       "      <td>0.0</td>\n",
       "      <td>0.0</td>\n",
       "      <td>0</td>\n",
       "      <td>5656.550582</td>\n",
       "      <td>1</td>\n",
       "      <td>4031.311408</td>\n",
       "      <td>2013</td>\n",
       "    </tr>\n",
       "    <tr>\n",
       "      <th>2</th>\n",
       "      <td>378.0</td>\n",
       "      <td>2.0</td>\n",
       "      <td>0.0</td>\n",
       "      <td>0.0</td>\n",
       "      <td>0.0</td>\n",
       "      <td>1</td>\n",
       "      <td>0</td>\n",
       "      <td>0</td>\n",
       "      <td>0</td>\n",
       "      <td>1.0</td>\n",
       "      <td>...</td>\n",
       "      <td>8.0</td>\n",
       "      <td>2012.0</td>\n",
       "      <td>0.0</td>\n",
       "      <td>0.0</td>\n",
       "      <td>0.0</td>\n",
       "      <td>0</td>\n",
       "      <td>5656.550582</td>\n",
       "      <td>1</td>\n",
       "      <td>4031.311408</td>\n",
       "      <td>2013</td>\n",
       "    </tr>\n",
       "    <tr>\n",
       "      <th>3</th>\n",
       "      <td>377.0</td>\n",
       "      <td>2.0</td>\n",
       "      <td>0.0</td>\n",
       "      <td>0.0</td>\n",
       "      <td>0.0</td>\n",
       "      <td>1</td>\n",
       "      <td>0</td>\n",
       "      <td>0</td>\n",
       "      <td>0</td>\n",
       "      <td>1.0</td>\n",
       "      <td>...</td>\n",
       "      <td>6.0</td>\n",
       "      <td>2010.0</td>\n",
       "      <td>1.0</td>\n",
       "      <td>18.0</td>\n",
       "      <td>2010.0</td>\n",
       "      <td>1</td>\n",
       "      <td>5656.550582</td>\n",
       "      <td>1</td>\n",
       "      <td>4031.311408</td>\n",
       "      <td>2013</td>\n",
       "    </tr>\n",
       "    <tr>\n",
       "      <th>4</th>\n",
       "      <td>376.0</td>\n",
       "      <td>2.0</td>\n",
       "      <td>0.0</td>\n",
       "      <td>0.0</td>\n",
       "      <td>0.0</td>\n",
       "      <td>1</td>\n",
       "      <td>0</td>\n",
       "      <td>0</td>\n",
       "      <td>0</td>\n",
       "      <td>1.0</td>\n",
       "      <td>...</td>\n",
       "      <td>8.0</td>\n",
       "      <td>2012.0</td>\n",
       "      <td>0.0</td>\n",
       "      <td>0.0</td>\n",
       "      <td>0.0</td>\n",
       "      <td>0</td>\n",
       "      <td>5656.550582</td>\n",
       "      <td>1</td>\n",
       "      <td>4031.311408</td>\n",
       "      <td>2013</td>\n",
       "    </tr>\n",
       "  </tbody>\n",
       "</table>\n",
       "<p>5 rows × 25 columns</p>\n",
       "</div>"
      ],
      "text/plain": [
       "    Store  DayOfWeek  Sales  Customers_x  Promo  StateHoliday_1  \\\n",
       "0  1115.0        2.0    0.0          0.0    0.0               1   \n",
       "1   379.0        2.0    0.0          0.0    0.0               1   \n",
       "2   378.0        2.0    0.0          0.0    0.0               1   \n",
       "3   377.0        2.0    0.0          0.0    0.0               1   \n",
       "4   376.0        2.0    0.0          0.0    0.0               1   \n",
       "\n",
       "   StateHoliday_2  StateHoliday_3  StateHoliday_4  SchoolHoliday  ...  \\\n",
       "0               0               0               0            1.0  ...   \n",
       "1               0               0               0            1.0  ...   \n",
       "2               0               0               0            1.0  ...   \n",
       "3               0               0               0            1.0  ...   \n",
       "4               0               0               0            1.0  ...   \n",
       "\n",
       "   CompetitionOpenSinceMonth  CompetitionOpenSinceYear  Promo2  \\\n",
       "0                        8.0                    2005.0     1.0   \n",
       "1                        8.0                    2005.0     0.0   \n",
       "2                        8.0                    2012.0     0.0   \n",
       "3                        6.0                    2010.0     1.0   \n",
       "4                        8.0                    2012.0     0.0   \n",
       "\n",
       "   Promo2SinceWeek  Promo2SinceYear  PromoInterval         Year  Month  \\\n",
       "0             22.0           2012.0              3  5656.550582      1   \n",
       "1              0.0              0.0              0  5656.550582      1   \n",
       "2              0.0              0.0              0  5656.550582      1   \n",
       "3             18.0           2010.0              1  5656.550582      1   \n",
       "4              0.0              0.0              0  5656.550582      1   \n",
       "\n",
       "    DayofMonth  Year-original  \n",
       "0  4031.311408           2013  \n",
       "1  4031.311408           2013  \n",
       "2  4031.311408           2013  \n",
       "3  4031.311408           2013  \n",
       "4  4031.311408           2013  \n",
       "\n",
       "[5 rows x 25 columns]"
      ]
     },
     "execution_count": 160,
     "metadata": {},
     "output_type": "execute_result"
    }
   ],
   "source": [
    "data.head()"
   ]
  },
  {
   "cell_type": "code",
   "execution_count": 161,
   "metadata": {},
   "outputs": [],
   "source": [
    "label_encoder(data, ['StoreType','Assortment' ])"
   ]
  },
  {
   "cell_type": "markdown",
   "metadata": {},
   "source": [
    "Now, nearly all of our columns are in numeric format, except for date. So, for this first round of modeling, we will also drop date. We can always pick it back up in the future."
   ]
  },
  {
   "cell_type": "markdown",
   "metadata": {},
   "source": [
    "Now all of our data is in numeric format! We can now start modeling. "
   ]
  },
  {
   "cell_type": "markdown",
   "metadata": {},
   "source": [
    "## 4. Initial Baseline Modeling"
   ]
  },
  {
   "cell_type": "code",
   "execution_count": 162,
   "metadata": {},
   "outputs": [],
   "source": [
    "# splititng features and target back apart\n",
    "x_train = train_data.copy(deep=True).drop(columns=[\"Sales\"])\n",
    "y_train = train_data.loc[:, \"Sales\"]"
   ]
  },
  {
   "cell_type": "markdown",
   "metadata": {},
   "source": [
    "### Step 1: Lazy Estimator\n",
    "Simply predicting the mean price for every house."
   ]
  },
  {
   "cell_type": "code",
   "execution_count": 163,
   "metadata": {},
   "outputs": [
    {
     "data": {
      "text/html": [
       "<div>\n",
       "<style scoped>\n",
       "    .dataframe tbody tr th:only-of-type {\n",
       "        vertical-align: middle;\n",
       "    }\n",
       "\n",
       "    .dataframe tbody tr th {\n",
       "        vertical-align: top;\n",
       "    }\n",
       "\n",
       "    .dataframe thead th {\n",
       "        text-align: right;\n",
       "    }\n",
       "</style>\n",
       "<table border=\"1\" class=\"dataframe\">\n",
       "  <thead>\n",
       "    <tr style=\"text-align: right;\">\n",
       "      <th></th>\n",
       "      <th>Sales</th>\n",
       "      <th>lazy_predicted_price</th>\n",
       "    </tr>\n",
       "  </thead>\n",
       "  <tbody>\n",
       "    <tr>\n",
       "      <th>85986</th>\n",
       "      <td>4830.0</td>\n",
       "      <td>6839.0</td>\n",
       "    </tr>\n",
       "    <tr>\n",
       "      <th>630240</th>\n",
       "      <td>13137.0</td>\n",
       "      <td>6839.0</td>\n",
       "    </tr>\n",
       "    <tr>\n",
       "      <th>402540</th>\n",
       "      <td>7776.0</td>\n",
       "      <td>6839.0</td>\n",
       "    </tr>\n",
       "    <tr>\n",
       "      <th>113727</th>\n",
       "      <td>6018.0</td>\n",
       "      <td>6839.0</td>\n",
       "    </tr>\n",
       "    <tr>\n",
       "      <th>604918</th>\n",
       "      <td>4474.0</td>\n",
       "      <td>6839.0</td>\n",
       "    </tr>\n",
       "  </tbody>\n",
       "</table>\n",
       "</div>"
      ],
      "text/plain": [
       "          Sales  lazy_predicted_price\n",
       "85986    4830.0                6839.0\n",
       "630240  13137.0                6839.0\n",
       "402540   7776.0                6839.0\n",
       "113727   6018.0                6839.0\n",
       "604918   4474.0                6839.0"
      ]
     },
     "execution_count": 163,
     "metadata": {},
     "output_type": "execute_result"
    }
   ],
   "source": [
    "lazy_estimator_predictions = pd.DataFrame(y_train.copy())\n",
    "\n",
    "# using median of entire training set\n",
    "lazy_estimator_predictions.loc[:,'lazy_predicted_price'] = y_train.mean()\n",
    "lazy_estimator_predictions.head().round()"
   ]
  },
  {
   "cell_type": "markdown",
   "metadata": {},
   "source": [
    "With the lazy estimator, we are on average $639,810.92 dollars off in our predictions."
   ]
  },
  {
   "cell_type": "code",
   "execution_count": 164,
   "metadata": {},
   "outputs": [
    {
     "name": "stdout",
     "output_type": "stream",
     "text": [
      "RMSE is  3083.72\n"
     ]
    }
   ],
   "source": [
    "lazy_estimator_rmse = compute_rmse(y_train, lazy_estimator_predictions.loc[:, 'lazy_predicted_price'])"
   ]
  },
  {
   "cell_type": "markdown",
   "metadata": {},
   "source": [
    "### Step 2: Initial ML Model\n",
    "Since this is a regression problem, we will start with linear regression as our model. \n"
   ]
  },
  {
   "cell_type": "code",
   "execution_count": 256,
   "metadata": {},
   "outputs": [
    {
     "data": {
      "text/plain": [
       "Index(['Store', 'DayOfWeek', 'Promo', 'SchoolHoliday', 'CustomerTraffic',\n",
       "       'CustomerCategory', 'StoreType', 'Assortment', 'CompetitionDistance',\n",
       "       'CompetitionOpenSinceMonth', 'CompetitionOpenSinceYear', 'Promo2',\n",
       "       'Promo2SinceWeek', 'Promo2SinceYear', 'PromoInterval', 'Year', 'Month',\n",
       "       'DayofMonth', 'Year-original'],\n",
       "      dtype='object')"
      ]
     },
     "execution_count": 256,
     "metadata": {},
     "output_type": "execute_result"
    }
   ],
   "source": [
    "x_train.columns"
   ]
  },
  {
   "cell_type": "code",
   "execution_count": 261,
   "metadata": {},
   "outputs": [],
   "source": [
    "x_train.drop(columns=['StoreType', 'Assortment'], inplace=True)\n",
    "x_test.drop(columns=['StoreType', 'Assortment'], inplace=True)\n",
    "CompetitionOpenSinceYear\n"
   ]
  },
  {
   "cell_type": "code",
   "execution_count": 363,
   "metadata": {},
   "outputs": [],
   "source": [
    "# splitting data into features and targets \n",
    "x = data[data['Sales']!= 0].drop(columns=[\"Sales\", \"Customers_x\"])\n",
    "y = data[data['Sales']!= 0].loc[:, \"Sales\"].drop(columns=[\"Customers\"])\n",
    "\n",
    "# Removing 15% of data as holdout\n",
    "x_train, x_test, y_train, y_test = train_test_split(x, y, test_size=0.15, random_state=42)"
   ]
  },
  {
   "cell_type": "code",
   "execution_count": 364,
   "metadata": {},
   "outputs": [
    {
     "data": {
      "text/plain": [
       "Index(['Store', 'DayOfWeek', 'Promo', 'StateHoliday_1', 'StateHoliday_2',\n",
       "       'StateHoliday_3', 'StateHoliday_4', 'SchoolHoliday', 'CustomerTraffic',\n",
       "       'CustomerCategory', 'StoreType', 'Assortment', 'CompetitionDistance',\n",
       "       'CompetitionOpenSinceMonth', 'CompetitionOpenSinceYear', 'Promo2',\n",
       "       'Promo2SinceWeek', 'Promo2SinceYear', 'PromoInterval', 'Year', 'Month',\n",
       "       'DayofMonth', 'Year-original'],\n",
       "      dtype='object')"
      ]
     },
     "execution_count": 364,
     "metadata": {},
     "output_type": "execute_result"
    }
   ],
   "source": [
    "x_train.columns"
   ]
  },
  {
   "cell_type": "code",
   "execution_count": 355,
   "metadata": {},
   "outputs": [],
   "source": [
    "x_train = x_train[['Store', 'Year', 'Month',\n",
    "       'Year-original','DayOfWeek', 'Promo', 'Promo2', 'CustomerTraffic',\n",
    "       'CustomerCategory', 'StoreType', 'Assortment','CompetitionOpenSinceMonth', 'Month',\n",
    "       'DayofMonth']]\n",
    "x_test= x_test[['Store', 'Year', 'Month',\n",
    "       'Year-original','DayOfWeek', 'Promo', 'Promo2', 'CustomerTraffic',\n",
    "       'CustomerCategory', 'StoreType', 'Assortment','CompetitionOpenSinceMonth', 'Month',\n",
    "       'DayofMonth']]"
   ]
  },
  {
   "cell_type": "code",
   "execution_count": 346,
   "metadata": {},
   "outputs": [],
   "source": [
    "linear_regression_model = LinearRegression(normalize=True )\n",
    "linear_regression_model.fit(x_train, y_train)\n",
    "linear_regression_predictions = linear_regression_model.predict(x_test)"
   ]
  },
  {
   "cell_type": "markdown",
   "metadata": {},
   "source": [
    "Just using a simple linear regression cut our RMSE almost in half over the lazy estimator!"
   ]
  },
  {
   "cell_type": "code",
   "execution_count": 347,
   "metadata": {},
   "outputs": [
    {
     "name": "stdout",
     "output_type": "stream",
     "text": [
      "RMSE is  1903.55\n"
     ]
    }
   ],
   "source": [
    "linear_regression_rmse = compute_rmse(y_test, linear_regression_predictions)"
   ]
  },
  {
   "cell_type": "code",
   "execution_count": 185,
   "metadata": {},
   "outputs": [
    {
     "data": {
      "text/plain": [
       "Index(['Store', 'DayOfWeek', 'Promo', 'StateHoliday_1', 'StateHoliday_2',\n",
       "       'StateHoliday_3', 'StateHoliday_4', 'SchoolHoliday', 'CustomerTraffic',\n",
       "       'CustomerCategory', 'StoreType', 'Assortment', 'CompetitionDistance',\n",
       "       'CompetitionOpenSinceMonth', 'CompetitionOpenSinceYear', 'Promo2',\n",
       "       'Promo2SinceWeek', 'Promo2SinceYear', 'PromoInterval', 'Year', 'Month',\n",
       "       'DayofMonth', 'Year-original'],\n",
       "      dtype='object')"
      ]
     },
     "execution_count": 185,
     "metadata": {},
     "output_type": "execute_result"
    }
   ],
   "source": [
    "x_train.columns"
   ]
  },
  {
   "cell_type": "code",
   "execution_count": 200,
   "metadata": {},
   "outputs": [
    {
     "data": {
      "text/plain": [
       "Open  Sales\n",
       "1.0   0.0          40\n",
       "0.0   0.0      102584\n",
       "Name: Sales, dtype: int64"
      ]
     },
     "execution_count": 200,
     "metadata": {},
     "output_type": "execute_result"
    }
   ],
   "source": [
    "combined[combined['Sales']==0].groupby('Open')['Sales'].value_counts().sort_values()"
   ]
  },
  {
   "cell_type": "code",
   "execution_count": 186,
   "metadata": {},
   "outputs": [
    {
     "data": {
      "text/plain": [
       "Index(['Date', 'Store', 'DayOfWeek', 'Sales', 'Customers_x', 'Open', 'Promo',\n",
       "       'StateHoliday', 'SchoolHoliday', 'CustomerTraffic', 'CustomerCategory',\n",
       "       'StoreType', 'Assortment', 'CompetitionDistance',\n",
       "       'CompetitionOpenSinceMonth', 'CompetitionOpenSinceYear', 'Promo2',\n",
       "       'Promo2SinceWeek', 'Promo2SinceYear', 'PromoInterval'],\n",
       "      dtype='object')"
      ]
     },
     "execution_count": 186,
     "metadata": {},
     "output_type": "execute_result"
    }
   ],
   "source": [
    "combined.columns"
   ]
  },
  {
   "cell_type": "code",
   "execution_count": 187,
   "metadata": {},
   "outputs": [],
   "source": [
    "features2 = [ 'Store', 'DayOfWeek', 'Promo',\n",
    "       'Year', 'Month', 'DayofMonth'       ]"
   ]
  },
  {
   "cell_type": "code",
   "execution_count": 188,
   "metadata": {},
   "outputs": [],
   "source": [
    "x_train2= x_train[features2]\n",
    "x_test2 = x_test[features2]\n"
   ]
  },
  {
   "cell_type": "code",
   "execution_count": 189,
   "metadata": {},
   "outputs": [],
   "source": [
    "linear_regression_model = LinearRegression()\n",
    "linear_regression_model.fit(x_train2, y_train)\n",
    "linear_regression_predictions = linear_regression_model.predict(x_test2)"
   ]
  },
  {
   "cell_type": "code",
   "execution_count": 190,
   "metadata": {},
   "outputs": [
    {
     "name": "stdout",
     "output_type": "stream",
     "text": [
      "RMSE is  2809.63\n"
     ]
    }
   ],
   "source": [
    "linear_regression_rmse = compute_rmse(y_test, linear_regression_predictions)"
   ]
  },
  {
   "cell_type": "markdown",
   "metadata": {},
   "source": [
    "### Step 3: More Sophisticated ML Model\n",
    "We'll use a random forest, because it:\n",
    "- is easy to implement\n",
    "- gives feature importances\n",
    "- can handle both integer and float values well"
   ]
  },
  {
   "cell_type": "code",
   "execution_count": 203,
   "metadata": {},
   "outputs": [
    {
     "data": {
      "text/plain": [
       "1    351472\n",
       "0       397\n",
       "Name: StateHoliday_2, dtype: int64"
      ]
     },
     "execution_count": 203,
     "metadata": {},
     "output_type": "execute_result"
    }
   ],
   "source": [
    "x_train.StateHoliday_2.value_counts()"
   ]
  },
  {
   "cell_type": "code",
   "execution_count": 212,
   "metadata": {},
   "outputs": [
    {
     "data": {
      "text/plain": [
       "Index(['Store', 'DayOfWeek', 'Promo', 'StateHoliday_1', 'StateHoliday_2',\n",
       "       'StateHoliday_3', 'StateHoliday_4', 'SchoolHoliday', 'CustomerTraffic',\n",
       "       'CustomerCategory', 'StoreType', 'Assortment', 'CompetitionDistance',\n",
       "       'CompetitionOpenSinceMonth', 'CompetitionOpenSinceYear', 'Promo2',\n",
       "       'Promo2SinceWeek', 'Promo2SinceYear', 'PromoInterval', 'Year', 'Month',\n",
       "       'DayofMonth', 'Year-original'],\n",
       "      dtype='object')"
      ]
     },
     "execution_count": 212,
     "metadata": {},
     "output_type": "execute_result"
    }
   ],
   "source": [
    "x_train.columns"
   ]
  },
  {
   "cell_type": "code",
   "execution_count": 381,
   "metadata": {},
   "outputs": [
    {
     "data": {
      "text/plain": [
       "2013    224522\n",
       "2014    127347\n",
       "Name: Year-original, dtype: int64"
      ]
     },
     "execution_count": 381,
     "metadata": {},
     "output_type": "execute_result"
    }
   ],
   "source": [
    "x_train['Year-original'].value_counts()"
   ]
  },
  {
   "cell_type": "code",
   "execution_count": 170,
   "metadata": {},
   "outputs": [],
   "source": [
    "from sklearn.ensemble import RandomForestRegressor"
   ]
  },
  {
   "cell_type": "code",
   "execution_count": 378,
   "metadata": {},
   "outputs": [
    {
     "data": {
      "text/plain": [
       "RandomForestRegressor()"
      ]
     },
     "execution_count": 378,
     "metadata": {},
     "output_type": "execute_result"
    }
   ],
   "source": [
    "random_forest_model = RandomForestRegressor()\n",
    "random_forest_model.fit(x_train, np.log(y_train))\n"
   ]
  },
  {
   "cell_type": "code",
   "execution_count": 382,
   "metadata": {},
   "outputs": [],
   "source": [
    "random_forest_predictions = random_forest_model.predict(x_test)"
   ]
  },
  {
   "cell_type": "code",
   "execution_count": 388,
   "metadata": {},
   "outputs": [
    {
     "name": "stdout",
     "output_type": "stream",
     "text": [
      "RMSE is  867.36\n"
     ]
    }
   ],
   "source": [
    "random_forest_rmse = compute_rmse(y_test, np.exp(random_forest_predictions))"
   ]
  },
  {
   "cell_type": "code",
   "execution_count": 387,
   "metadata": {},
   "outputs": [
    {
     "data": {
      "text/plain": [
       "array([7480.02527498, 8644.01611333, 7306.46846254, ..., 6994.53143612,\n",
       "       9438.77616803, 3328.77181205])"
      ]
     },
     "execution_count": 387,
     "metadata": {},
     "output_type": "execute_result"
    }
   ],
   "source": [
    "np.exp(random_forest_predictions)"
   ]
  },
  {
   "cell_type": "markdown",
   "metadata": {},
   "source": [
    "Training an out-of-the-box random forest further decreased our RMSE."
   ]
  },
  {
   "cell_type": "code",
   "execution_count": 389,
   "metadata": {},
   "outputs": [
    {
     "data": {
      "text/plain": [
       "13.786767501282277"
      ]
     },
     "execution_count": 389,
     "metadata": {},
     "output_type": "execute_result"
    }
   ],
   "source": [
    "metric(np.exp(random_forest_predictions),y_test.to_numpy())"
   ]
  },
  {
   "cell_type": "code",
   "execution_count": 362,
   "metadata": {},
   "outputs": [
    {
     "ename": "MemoryError",
     "evalue": "",
     "output_type": "error",
     "traceback": [
      "\u001b[1;31m---------------------------------------------------------------------------\u001b[0m",
      "\u001b[1;31mMemoryError\u001b[0m                               Traceback (most recent call last)",
      "\u001b[1;32m<ipython-input-362-a263f36aea31>\u001b[0m in \u001b[0;36m<module>\u001b[1;34m\u001b[0m\n\u001b[0;32m      1\u001b[0m \u001b[0mfilename\u001b[0m \u001b[1;33m=\u001b[0m \u001b[1;34m'finalized_model.sav'\u001b[0m\u001b[1;33m\u001b[0m\u001b[1;33m\u001b[0m\u001b[0m\n\u001b[1;32m----> 2\u001b[1;33m \u001b[0mpickle\u001b[0m\u001b[1;33m.\u001b[0m\u001b[0mdump\u001b[0m\u001b[1;33m(\u001b[0m\u001b[0mrandom_forest_model\u001b[0m\u001b[1;33m,\u001b[0m \u001b[0mopen\u001b[0m\u001b[1;33m(\u001b[0m\u001b[0mfilename\u001b[0m\u001b[1;33m,\u001b[0m \u001b[1;34m'wb'\u001b[0m\u001b[1;33m)\u001b[0m\u001b[1;33m)\u001b[0m\u001b[1;33m\u001b[0m\u001b[1;33m\u001b[0m\u001b[0m\n\u001b[0m",
      "\u001b[1;31mMemoryError\u001b[0m: "
     ]
    }
   ],
   "source": [
    "filename = 'finalized_model.sav'\n",
    "pickle.dump(random_forest_model, open(filename, 'wb'))"
   ]
  },
  {
   "cell_type": "code",
   "execution_count": 377,
   "metadata": {},
   "outputs": [
    {
     "data": {
      "text/plain": [
       "<AxesSubplot:>"
      ]
     },
     "execution_count": 377,
     "metadata": {},
     "output_type": "execute_result"
    },
    {
     "data": {
      "image/png": "[encoded data removed]",
      "text/plain": [
       "<Figure size 432x288 with 1 Axes>"
      ]
     },
     "metadata": {},
     "output_type": "display_data"
    }
   ],
   "source": [
    "np.log(data[data['Sales']!=0].Sales).hist(bins=40)"
   ]
  },
  {
   "cell_type": "code",
   "execution_count": 390,
   "metadata": {},
   "outputs": [
    {
     "data": {
      "text/plain": [
       "<AxesSubplot:>"
      ]
     },
     "execution_count": 390,
     "metadata": {},
     "output_type": "execute_result"
    },
    {
     "data": {
      "image/png": "[encoded data removed]",
      "text/plain": [
       "<Figure size 432x288 with 1 Axes>"
      ]
     },
     "metadata": {},
     "output_type": "display_data"
    }
   ],
   "source": [
    "data[data['Sales']!=0].Sales.hist(bins=40)"
   ]
  },
  {
   "cell_type": "code",
   "execution_count": 391,
   "metadata": {},
   "outputs": [
    {
     "ename": "MemoryError",
     "evalue": "Unable to allocate 26.7 MiB for an array with shape (7, 499419) and data type float64",
     "output_type": "error",
     "traceback": [
      "\u001b[1;31m---------------------------------------------------------------------------\u001b[0m",
      "\u001b[1;31mMemoryError\u001b[0m                               Traceback (most recent call last)",
      "\u001b[1;32m~\\anaconda3\\lib\\site-packages\\IPython\\core\\formatters.py\u001b[0m in \u001b[0;36m__call__\u001b[1;34m(self, obj)\u001b[0m\n\u001b[0;32m    700\u001b[0m                 \u001b[0mtype_pprinters\u001b[0m\u001b[1;33m=\u001b[0m\u001b[0mself\u001b[0m\u001b[1;33m.\u001b[0m\u001b[0mtype_printers\u001b[0m\u001b[1;33m,\u001b[0m\u001b[1;33m\u001b[0m\u001b[1;33m\u001b[0m\u001b[0m\n\u001b[0;32m    701\u001b[0m                 deferred_pprinters=self.deferred_printers)\n\u001b[1;32m--> 702\u001b[1;33m             \u001b[0mprinter\u001b[0m\u001b[1;33m.\u001b[0m\u001b[0mpretty\u001b[0m\u001b[1;33m(\u001b[0m\u001b[0mobj\u001b[0m\u001b[1;33m)\u001b[0m\u001b[1;33m\u001b[0m\u001b[1;33m\u001b[0m\u001b[0m\n\u001b[0m\u001b[0;32m    703\u001b[0m             \u001b[0mprinter\u001b[0m\u001b[1;33m.\u001b[0m\u001b[0mflush\u001b[0m\u001b[1;33m(\u001b[0m\u001b[1;33m)\u001b[0m\u001b[1;33m\u001b[0m\u001b[1;33m\u001b[0m\u001b[0m\n\u001b[0;32m    704\u001b[0m             \u001b[1;32mreturn\u001b[0m \u001b[0mstream\u001b[0m\u001b[1;33m.\u001b[0m\u001b[0mgetvalue\u001b[0m\u001b[1;33m(\u001b[0m\u001b[1;33m)\u001b[0m\u001b[1;33m\u001b[0m\u001b[1;33m\u001b[0m\u001b[0m\n",
      "\u001b[1;32m~\\anaconda3\\lib\\site-packages\\IPython\\lib\\pretty.py\u001b[0m in \u001b[0;36mpretty\u001b[1;34m(self, obj)\u001b[0m\n\u001b[0;32m    392\u001b[0m                         \u001b[1;32mif\u001b[0m \u001b[0mcls\u001b[0m \u001b[1;32mis\u001b[0m \u001b[1;32mnot\u001b[0m \u001b[0mobject\u001b[0m\u001b[0;31m \u001b[0m\u001b[0;31m\\\u001b[0m\u001b[1;33m\u001b[0m\u001b[1;33m\u001b[0m\u001b[0m\n\u001b[0;32m    393\u001b[0m                                 \u001b[1;32mand\u001b[0m \u001b[0mcallable\u001b[0m\u001b[1;33m(\u001b[0m\u001b[0mcls\u001b[0m\u001b[1;33m.\u001b[0m\u001b[0m__dict__\u001b[0m\u001b[1;33m.\u001b[0m\u001b[0mget\u001b[0m\u001b[1;33m(\u001b[0m\u001b[1;34m'__repr__'\u001b[0m\u001b[1;33m)\u001b[0m\u001b[1;33m)\u001b[0m\u001b[1;33m:\u001b[0m\u001b[1;33m\u001b[0m\u001b[1;33m\u001b[0m\u001b[0m\n\u001b[1;32m--> 394\u001b[1;33m                             \u001b[1;32mreturn\u001b[0m \u001b[0m_repr_pprint\u001b[0m\u001b[1;33m(\u001b[0m\u001b[0mobj\u001b[0m\u001b[1;33m,\u001b[0m \u001b[0mself\u001b[0m\u001b[1;33m,\u001b[0m \u001b[0mcycle\u001b[0m\u001b[1;33m)\u001b[0m\u001b[1;33m\u001b[0m\u001b[1;33m\u001b[0m\u001b[0m\n\u001b[0m\u001b[0;32m    395\u001b[0m \u001b[1;33m\u001b[0m\u001b[0m\n\u001b[0;32m    396\u001b[0m             \u001b[1;32mreturn\u001b[0m \u001b[0m_default_pprint\u001b[0m\u001b[1;33m(\u001b[0m\u001b[0mobj\u001b[0m\u001b[1;33m,\u001b[0m \u001b[0mself\u001b[0m\u001b[1;33m,\u001b[0m \u001b[0mcycle\u001b[0m\u001b[1;33m)\u001b[0m\u001b[1;33m\u001b[0m\u001b[1;33m\u001b[0m\u001b[0m\n",
      "\u001b[1;32m~\\anaconda3\\lib\\site-packages\\IPython\\lib\\pretty.py\u001b[0m in \u001b[0;36m_repr_pprint\u001b[1;34m(obj, p, cycle)\u001b[0m\n\u001b[0;32m    698\u001b[0m     \u001b[1;34m\"\"\"A pprint that just redirects to the normal repr function.\"\"\"\u001b[0m\u001b[1;33m\u001b[0m\u001b[1;33m\u001b[0m\u001b[0m\n\u001b[0;32m    699\u001b[0m     \u001b[1;31m# Find newlines and replace them with p.break_()\u001b[0m\u001b[1;33m\u001b[0m\u001b[1;33m\u001b[0m\u001b[1;33m\u001b[0m\u001b[0m\n\u001b[1;32m--> 700\u001b[1;33m     \u001b[0moutput\u001b[0m \u001b[1;33m=\u001b[0m \u001b[0mrepr\u001b[0m\u001b[1;33m(\u001b[0m\u001b[0mobj\u001b[0m\u001b[1;33m)\u001b[0m\u001b[1;33m\u001b[0m\u001b[1;33m\u001b[0m\u001b[0m\n\u001b[0m\u001b[0;32m    701\u001b[0m     \u001b[0mlines\u001b[0m \u001b[1;33m=\u001b[0m \u001b[0moutput\u001b[0m\u001b[1;33m.\u001b[0m\u001b[0msplitlines\u001b[0m\u001b[1;33m(\u001b[0m\u001b[1;33m)\u001b[0m\u001b[1;33m\u001b[0m\u001b[1;33m\u001b[0m\u001b[0m\n\u001b[0;32m    702\u001b[0m     \u001b[1;32mwith\u001b[0m \u001b[0mp\u001b[0m\u001b[1;33m.\u001b[0m\u001b[0mgroup\u001b[0m\u001b[1;33m(\u001b[0m\u001b[1;33m)\u001b[0m\u001b[1;33m:\u001b[0m\u001b[1;33m\u001b[0m\u001b[1;33m\u001b[0m\u001b[0m\n",
      "\u001b[1;32m~\\anaconda3\\lib\\site-packages\\pandas\\core\\frame.py\u001b[0m in \u001b[0;36m__repr__\u001b[1;34m(self)\u001b[0m\n\u001b[0;32m    742\u001b[0m         \u001b[1;32melse\u001b[0m\u001b[1;33m:\u001b[0m\u001b[1;33m\u001b[0m\u001b[1;33m\u001b[0m\u001b[0m\n\u001b[0;32m    743\u001b[0m             \u001b[0mwidth\u001b[0m \u001b[1;33m=\u001b[0m \u001b[1;32mNone\u001b[0m\u001b[1;33m\u001b[0m\u001b[1;33m\u001b[0m\u001b[0m\n\u001b[1;32m--> 744\u001b[1;33m         self.to_string(\n\u001b[0m\u001b[0;32m    745\u001b[0m             \u001b[0mbuf\u001b[0m\u001b[1;33m=\u001b[0m\u001b[0mbuf\u001b[0m\u001b[1;33m,\u001b[0m\u001b[1;33m\u001b[0m\u001b[1;33m\u001b[0m\u001b[0m\n\u001b[0;32m    746\u001b[0m             \u001b[0mmax_rows\u001b[0m\u001b[1;33m=\u001b[0m\u001b[0mmax_rows\u001b[0m\u001b[1;33m,\u001b[0m\u001b[1;33m\u001b[0m\u001b[1;33m\u001b[0m\u001b[0m\n",
      "\u001b[1;32m~\\anaconda3\\lib\\site-packages\\pandas\\core\\frame.py\u001b[0m in \u001b[0;36mto_string\u001b[1;34m(self, buf, columns, col_space, header, index, na_rep, formatters, float_format, sparsify, index_names, justify, max_rows, min_rows, max_cols, show_dimensions, decimal, line_width, max_colwidth, encoding)\u001b[0m\n\u001b[0;32m    862\u001b[0m \u001b[1;33m\u001b[0m\u001b[0m\n\u001b[0;32m    863\u001b[0m         \u001b[1;32mwith\u001b[0m \u001b[0moption_context\u001b[0m\u001b[1;33m(\u001b[0m\u001b[1;34m\"display.max_colwidth\"\u001b[0m\u001b[1;33m,\u001b[0m \u001b[0mmax_colwidth\u001b[0m\u001b[1;33m)\u001b[0m\u001b[1;33m:\u001b[0m\u001b[1;33m\u001b[0m\u001b[1;33m\u001b[0m\u001b[0m\n\u001b[1;32m--> 864\u001b[1;33m             formatter = fmt.DataFrameFormatter(\n\u001b[0m\u001b[0;32m    865\u001b[0m                 \u001b[0mself\u001b[0m\u001b[1;33m,\u001b[0m\u001b[1;33m\u001b[0m\u001b[1;33m\u001b[0m\u001b[0m\n\u001b[0;32m    866\u001b[0m                 \u001b[0mcolumns\u001b[0m\u001b[1;33m=\u001b[0m\u001b[0mcolumns\u001b[0m\u001b[1;33m,\u001b[0m\u001b[1;33m\u001b[0m\u001b[1;33m\u001b[0m\u001b[0m\n",
      "\u001b[1;32m~\\anaconda3\\lib\\site-packages\\pandas\\io\\formats\\format.py\u001b[0m in \u001b[0;36m__init__\u001b[1;34m(self, frame, columns, col_space, header, index, na_rep, formatters, justify, float_format, sparsify, index_names, line_width, max_rows, min_rows, max_cols, show_dimensions, decimal, table_id, render_links, bold_rows, escape)\u001b[0m\n\u001b[0;32m    628\u001b[0m             \u001b[0mself\u001b[0m\u001b[1;33m.\u001b[0m\u001b[0mcolumns\u001b[0m \u001b[1;33m=\u001b[0m \u001b[0mframe\u001b[0m\u001b[1;33m.\u001b[0m\u001b[0mcolumns\u001b[0m\u001b[1;33m\u001b[0m\u001b[1;33m\u001b[0m\u001b[0m\n\u001b[0;32m    629\u001b[0m \u001b[1;33m\u001b[0m\u001b[0m\n\u001b[1;32m--> 630\u001b[1;33m         \u001b[0mself\u001b[0m\u001b[1;33m.\u001b[0m\u001b[0m_chk_truncate\u001b[0m\u001b[1;33m(\u001b[0m\u001b[1;33m)\u001b[0m\u001b[1;33m\u001b[0m\u001b[1;33m\u001b[0m\u001b[0m\n\u001b[0m\u001b[0;32m    631\u001b[0m         \u001b[0mself\u001b[0m\u001b[1;33m.\u001b[0m\u001b[0madj\u001b[0m \u001b[1;33m=\u001b[0m \u001b[0m_get_adjustment\u001b[0m\u001b[1;33m(\u001b[0m\u001b[1;33m)\u001b[0m\u001b[1;33m\u001b[0m\u001b[1;33m\u001b[0m\u001b[0m\n\u001b[0;32m    632\u001b[0m \u001b[1;33m\u001b[0m\u001b[0m\n",
      "\u001b[1;32m~\\anaconda3\\lib\\site-packages\\pandas\\io\\formats\\format.py\u001b[0m in \u001b[0;36m_chk_truncate\u001b[1;34m(self)\u001b[0m\n\u001b[0;32m    696\u001b[0m                 \u001b[0mcol_num\u001b[0m \u001b[1;33m=\u001b[0m \u001b[0mmax_cols_adj\u001b[0m \u001b[1;33m//\u001b[0m \u001b[1;36m2\u001b[0m\u001b[1;33m\u001b[0m\u001b[1;33m\u001b[0m\u001b[0m\n\u001b[0;32m    697\u001b[0m                 frame = concat(\n\u001b[1;32m--> 698\u001b[1;33m                     \u001b[1;33m(\u001b[0m\u001b[0mframe\u001b[0m\u001b[1;33m.\u001b[0m\u001b[0miloc\u001b[0m\u001b[1;33m[\u001b[0m\u001b[1;33m:\u001b[0m\u001b[1;33m,\u001b[0m \u001b[1;33m:\u001b[0m\u001b[0mcol_num\u001b[0m\u001b[1;33m]\u001b[0m\u001b[1;33m,\u001b[0m \u001b[0mframe\u001b[0m\u001b[1;33m.\u001b[0m\u001b[0miloc\u001b[0m\u001b[1;33m[\u001b[0m\u001b[1;33m:\u001b[0m\u001b[1;33m,\u001b[0m \u001b[1;33m-\u001b[0m\u001b[0mcol_num\u001b[0m\u001b[1;33m:\u001b[0m\u001b[1;33m]\u001b[0m\u001b[1;33m)\u001b[0m\u001b[1;33m,\u001b[0m \u001b[0maxis\u001b[0m\u001b[1;33m=\u001b[0m\u001b[1;36m1\u001b[0m\u001b[1;33m\u001b[0m\u001b[1;33m\u001b[0m\u001b[0m\n\u001b[0m\u001b[0;32m    699\u001b[0m                 )\n\u001b[0;32m    700\u001b[0m                 \u001b[1;31m# truncate formatter\u001b[0m\u001b[1;33m\u001b[0m\u001b[1;33m\u001b[0m\u001b[1;33m\u001b[0m\u001b[0m\n",
      "\u001b[1;32m~\\anaconda3\\lib\\site-packages\\pandas\\core\\indexing.py\u001b[0m in \u001b[0;36m__getitem__\u001b[1;34m(self, key)\u001b[0m\n\u001b[0;32m    871\u001b[0m                     \u001b[1;31m# AttributeError for IntervalTree get_value\u001b[0m\u001b[1;33m\u001b[0m\u001b[1;33m\u001b[0m\u001b[1;33m\u001b[0m\u001b[0m\n\u001b[0;32m    872\u001b[0m                     \u001b[1;32mpass\u001b[0m\u001b[1;33m\u001b[0m\u001b[1;33m\u001b[0m\u001b[0m\n\u001b[1;32m--> 873\u001b[1;33m             \u001b[1;32mreturn\u001b[0m \u001b[0mself\u001b[0m\u001b[1;33m.\u001b[0m\u001b[0m_getitem_tuple\u001b[0m\u001b[1;33m(\u001b[0m\u001b[0mkey\u001b[0m\u001b[1;33m)\u001b[0m\u001b[1;33m\u001b[0m\u001b[1;33m\u001b[0m\u001b[0m\n\u001b[0m\u001b[0;32m    874\u001b[0m         \u001b[1;32melse\u001b[0m\u001b[1;33m:\u001b[0m\u001b[1;33m\u001b[0m\u001b[1;33m\u001b[0m\u001b[0m\n\u001b[0;32m    875\u001b[0m             \u001b[1;31m# we by definition only have the 0th axis\u001b[0m\u001b[1;33m\u001b[0m\u001b[1;33m\u001b[0m\u001b[1;33m\u001b[0m\u001b[0m\n",
      "\u001b[1;32m~\\anaconda3\\lib\\site-packages\\pandas\\core\\indexing.py\u001b[0m in \u001b[0;36m_getitem_tuple\u001b[1;34m(self, tup)\u001b[0m\n\u001b[0;32m   1447\u001b[0m             \u001b[1;32mpass\u001b[0m\u001b[1;33m\u001b[0m\u001b[1;33m\u001b[0m\u001b[0m\n\u001b[0;32m   1448\u001b[0m \u001b[1;33m\u001b[0m\u001b[0m\n\u001b[1;32m-> 1449\u001b[1;33m         \u001b[1;32mreturn\u001b[0m \u001b[0mself\u001b[0m\u001b[1;33m.\u001b[0m\u001b[0m_getitem_tuple_same_dim\u001b[0m\u001b[1;33m(\u001b[0m\u001b[0mtup\u001b[0m\u001b[1;33m)\u001b[0m\u001b[1;33m\u001b[0m\u001b[1;33m\u001b[0m\u001b[0m\n\u001b[0m\u001b[0;32m   1450\u001b[0m \u001b[1;33m\u001b[0m\u001b[0m\n\u001b[0;32m   1451\u001b[0m     \u001b[1;32mdef\u001b[0m \u001b[0m_get_list_axis\u001b[0m\u001b[1;33m(\u001b[0m\u001b[0mself\u001b[0m\u001b[1;33m,\u001b[0m \u001b[0mkey\u001b[0m\u001b[1;33m,\u001b[0m \u001b[0maxis\u001b[0m\u001b[1;33m:\u001b[0m \u001b[0mint\u001b[0m\u001b[1;33m)\u001b[0m\u001b[1;33m:\u001b[0m\u001b[1;33m\u001b[0m\u001b[1;33m\u001b[0m\u001b[0m\n",
      "\u001b[1;32m~\\anaconda3\\lib\\site-packages\\pandas\\core\\indexing.py\u001b[0m in \u001b[0;36m_getitem_tuple_same_dim\u001b[1;34m(self, tup)\u001b[0m\n\u001b[0;32m    748\u001b[0m                 \u001b[1;32mcontinue\u001b[0m\u001b[1;33m\u001b[0m\u001b[1;33m\u001b[0m\u001b[0m\n\u001b[0;32m    749\u001b[0m \u001b[1;33m\u001b[0m\u001b[0m\n\u001b[1;32m--> 750\u001b[1;33m             \u001b[0mretval\u001b[0m \u001b[1;33m=\u001b[0m \u001b[0mgetattr\u001b[0m\u001b[1;33m(\u001b[0m\u001b[0mretval\u001b[0m\u001b[1;33m,\u001b[0m \u001b[0mself\u001b[0m\u001b[1;33m.\u001b[0m\u001b[0mname\u001b[0m\u001b[1;33m)\u001b[0m\u001b[1;33m.\u001b[0m\u001b[0m_getitem_axis\u001b[0m\u001b[1;33m(\u001b[0m\u001b[0mkey\u001b[0m\u001b[1;33m,\u001b[0m \u001b[0maxis\u001b[0m\u001b[1;33m=\u001b[0m\u001b[0mi\u001b[0m\u001b[1;33m)\u001b[0m\u001b[1;33m\u001b[0m\u001b[1;33m\u001b[0m\u001b[0m\n\u001b[0m\u001b[0;32m    751\u001b[0m             \u001b[1;31m# We should never have retval.ndim < self.ndim, as that should\u001b[0m\u001b[1;33m\u001b[0m\u001b[1;33m\u001b[0m\u001b[1;33m\u001b[0m\u001b[0m\n\u001b[0;32m    752\u001b[0m             \u001b[1;31m#  be handled by the _getitem_lowerdim call above.\u001b[0m\u001b[1;33m\u001b[0m\u001b[1;33m\u001b[0m\u001b[1;33m\u001b[0m\u001b[0m\n",
      "\u001b[1;32m~\\anaconda3\\lib\\site-packages\\pandas\\core\\indexing.py\u001b[0m in \u001b[0;36m_getitem_axis\u001b[1;34m(self, key, axis)\u001b[0m\n\u001b[0;32m   1474\u001b[0m     \u001b[1;32mdef\u001b[0m \u001b[0m_getitem_axis\u001b[0m\u001b[1;33m(\u001b[0m\u001b[0mself\u001b[0m\u001b[1;33m,\u001b[0m \u001b[0mkey\u001b[0m\u001b[1;33m,\u001b[0m \u001b[0maxis\u001b[0m\u001b[1;33m:\u001b[0m \u001b[0mint\u001b[0m\u001b[1;33m)\u001b[0m\u001b[1;33m:\u001b[0m\u001b[1;33m\u001b[0m\u001b[1;33m\u001b[0m\u001b[0m\n\u001b[0;32m   1475\u001b[0m         \u001b[1;32mif\u001b[0m \u001b[0misinstance\u001b[0m\u001b[1;33m(\u001b[0m\u001b[0mkey\u001b[0m\u001b[1;33m,\u001b[0m \u001b[0mslice\u001b[0m\u001b[1;33m)\u001b[0m\u001b[1;33m:\u001b[0m\u001b[1;33m\u001b[0m\u001b[1;33m\u001b[0m\u001b[0m\n\u001b[1;32m-> 1476\u001b[1;33m             \u001b[1;32mreturn\u001b[0m \u001b[0mself\u001b[0m\u001b[1;33m.\u001b[0m\u001b[0m_get_slice_axis\u001b[0m\u001b[1;33m(\u001b[0m\u001b[0mkey\u001b[0m\u001b[1;33m,\u001b[0m \u001b[0maxis\u001b[0m\u001b[1;33m=\u001b[0m\u001b[0maxis\u001b[0m\u001b[1;33m)\u001b[0m\u001b[1;33m\u001b[0m\u001b[1;33m\u001b[0m\u001b[0m\n\u001b[0m\u001b[0;32m   1477\u001b[0m \u001b[1;33m\u001b[0m\u001b[0m\n\u001b[0;32m   1478\u001b[0m         \u001b[1;32mif\u001b[0m \u001b[0misinstance\u001b[0m\u001b[1;33m(\u001b[0m\u001b[0mkey\u001b[0m\u001b[1;33m,\u001b[0m \u001b[0mlist\u001b[0m\u001b[1;33m)\u001b[0m\u001b[1;33m:\u001b[0m\u001b[1;33m\u001b[0m\u001b[1;33m\u001b[0m\u001b[0m\n",
      "\u001b[1;32m~\\anaconda3\\lib\\site-packages\\pandas\\core\\indexing.py\u001b[0m in \u001b[0;36m_get_slice_axis\u001b[1;34m(self, slice_obj, axis)\u001b[0m\n\u001b[0;32m   1507\u001b[0m         \u001b[0mlabels\u001b[0m \u001b[1;33m=\u001b[0m \u001b[0mobj\u001b[0m\u001b[1;33m.\u001b[0m\u001b[0m_get_axis\u001b[0m\u001b[1;33m(\u001b[0m\u001b[0maxis\u001b[0m\u001b[1;33m)\u001b[0m\u001b[1;33m\u001b[0m\u001b[1;33m\u001b[0m\u001b[0m\n\u001b[0;32m   1508\u001b[0m         \u001b[0mlabels\u001b[0m\u001b[1;33m.\u001b[0m\u001b[0m_validate_positional_slice\u001b[0m\u001b[1;33m(\u001b[0m\u001b[0mslice_obj\u001b[0m\u001b[1;33m)\u001b[0m\u001b[1;33m\u001b[0m\u001b[1;33m\u001b[0m\u001b[0m\n\u001b[1;32m-> 1509\u001b[1;33m         \u001b[1;32mreturn\u001b[0m \u001b[0mself\u001b[0m\u001b[1;33m.\u001b[0m\u001b[0mobj\u001b[0m\u001b[1;33m.\u001b[0m\u001b[0m_slice\u001b[0m\u001b[1;33m(\u001b[0m\u001b[0mslice_obj\u001b[0m\u001b[1;33m,\u001b[0m \u001b[0maxis\u001b[0m\u001b[1;33m=\u001b[0m\u001b[0maxis\u001b[0m\u001b[1;33m)\u001b[0m\u001b[1;33m\u001b[0m\u001b[1;33m\u001b[0m\u001b[0m\n\u001b[0m\u001b[0;32m   1510\u001b[0m \u001b[1;33m\u001b[0m\u001b[0m\n\u001b[0;32m   1511\u001b[0m     \u001b[1;32mdef\u001b[0m \u001b[0m_convert_to_indexer\u001b[0m\u001b[1;33m(\u001b[0m\u001b[0mself\u001b[0m\u001b[1;33m,\u001b[0m \u001b[0mkey\u001b[0m\u001b[1;33m,\u001b[0m \u001b[0maxis\u001b[0m\u001b[1;33m:\u001b[0m \u001b[0mint\u001b[0m\u001b[1;33m,\u001b[0m \u001b[0mis_setter\u001b[0m\u001b[1;33m:\u001b[0m \u001b[0mbool\u001b[0m \u001b[1;33m=\u001b[0m \u001b[1;32mFalse\u001b[0m\u001b[1;33m)\u001b[0m\u001b[1;33m:\u001b[0m\u001b[1;33m\u001b[0m\u001b[1;33m\u001b[0m\u001b[0m\n",
      "\u001b[1;32m~\\anaconda3\\lib\\site-packages\\pandas\\core\\generic.py\u001b[0m in \u001b[0;36m_slice\u001b[1;34m(self, slobj, axis)\u001b[0m\n\u001b[0;32m   3557\u001b[0m         \u001b[1;32massert\u001b[0m \u001b[0misinstance\u001b[0m\u001b[1;33m(\u001b[0m\u001b[0mslobj\u001b[0m\u001b[1;33m,\u001b[0m \u001b[0mslice\u001b[0m\u001b[1;33m)\u001b[0m\u001b[1;33m,\u001b[0m \u001b[0mtype\u001b[0m\u001b[1;33m(\u001b[0m\u001b[0mslobj\u001b[0m\u001b[1;33m)\u001b[0m\u001b[1;33m\u001b[0m\u001b[1;33m\u001b[0m\u001b[0m\n\u001b[0;32m   3558\u001b[0m         \u001b[0maxis\u001b[0m \u001b[1;33m=\u001b[0m \u001b[0mself\u001b[0m\u001b[1;33m.\u001b[0m\u001b[0m_get_block_manager_axis\u001b[0m\u001b[1;33m(\u001b[0m\u001b[0maxis\u001b[0m\u001b[1;33m)\u001b[0m\u001b[1;33m\u001b[0m\u001b[1;33m\u001b[0m\u001b[0m\n\u001b[1;32m-> 3559\u001b[1;33m         \u001b[0mresult\u001b[0m \u001b[1;33m=\u001b[0m \u001b[0mself\u001b[0m\u001b[1;33m.\u001b[0m\u001b[0m_constructor\u001b[0m\u001b[1;33m(\u001b[0m\u001b[0mself\u001b[0m\u001b[1;33m.\u001b[0m\u001b[0m_mgr\u001b[0m\u001b[1;33m.\u001b[0m\u001b[0mget_slice\u001b[0m\u001b[1;33m(\u001b[0m\u001b[0mslobj\u001b[0m\u001b[1;33m,\u001b[0m \u001b[0maxis\u001b[0m\u001b[1;33m=\u001b[0m\u001b[0maxis\u001b[0m\u001b[1;33m)\u001b[0m\u001b[1;33m)\u001b[0m\u001b[1;33m\u001b[0m\u001b[1;33m\u001b[0m\u001b[0m\n\u001b[0m\u001b[0;32m   3560\u001b[0m         \u001b[0mresult\u001b[0m \u001b[1;33m=\u001b[0m \u001b[0mresult\u001b[0m\u001b[1;33m.\u001b[0m\u001b[0m__finalize__\u001b[0m\u001b[1;33m(\u001b[0m\u001b[0mself\u001b[0m\u001b[1;33m)\u001b[0m\u001b[1;33m\u001b[0m\u001b[1;33m\u001b[0m\u001b[0m\n\u001b[0;32m   3561\u001b[0m \u001b[1;33m\u001b[0m\u001b[0m\n",
      "\u001b[1;32m~\\anaconda3\\lib\\site-packages\\pandas\\core\\internals\\managers.py\u001b[0m in \u001b[0;36mget_slice\u001b[1;34m(self, slobj, axis)\u001b[0m\n\u001b[0;32m    758\u001b[0m \u001b[1;33m\u001b[0m\u001b[0m\n\u001b[0;32m    759\u001b[0m         \u001b[1;32mif\u001b[0m \u001b[0maxis\u001b[0m \u001b[1;33m==\u001b[0m \u001b[1;36m0\u001b[0m\u001b[1;33m:\u001b[0m\u001b[1;33m\u001b[0m\u001b[1;33m\u001b[0m\u001b[0m\n\u001b[1;32m--> 760\u001b[1;33m             \u001b[0mnew_blocks\u001b[0m \u001b[1;33m=\u001b[0m \u001b[0mself\u001b[0m\u001b[1;33m.\u001b[0m\u001b[0m_slice_take_blocks_ax0\u001b[0m\u001b[1;33m(\u001b[0m\u001b[0mslobj\u001b[0m\u001b[1;33m)\u001b[0m\u001b[1;33m\u001b[0m\u001b[1;33m\u001b[0m\u001b[0m\n\u001b[0m\u001b[0;32m    761\u001b[0m         \u001b[1;32melif\u001b[0m \u001b[0maxis\u001b[0m \u001b[1;33m==\u001b[0m \u001b[1;36m1\u001b[0m\u001b[1;33m:\u001b[0m\u001b[1;33m\u001b[0m\u001b[1;33m\u001b[0m\u001b[0m\n\u001b[0;32m    762\u001b[0m             \u001b[0mslicer\u001b[0m \u001b[1;33m=\u001b[0m \u001b[1;33m(\u001b[0m\u001b[0mslice\u001b[0m\u001b[1;33m(\u001b[0m\u001b[1;32mNone\u001b[0m\u001b[1;33m)\u001b[0m\u001b[1;33m,\u001b[0m \u001b[0mslobj\u001b[0m\u001b[1;33m)\u001b[0m\u001b[1;33m\u001b[0m\u001b[1;33m\u001b[0m\u001b[0m\n",
      "\u001b[1;32m~\\anaconda3\\lib\\site-packages\\pandas\\core\\internals\\managers.py\u001b[0m in \u001b[0;36m_slice_take_blocks_ax0\u001b[1;34m(self, slice_or_indexer, fill_value, only_slice)\u001b[0m\n\u001b[0;32m   1408\u001b[0m                             \u001b[0mblocks\u001b[0m\u001b[1;33m.\u001b[0m\u001b[0mappend\u001b[0m\u001b[1;33m(\u001b[0m\u001b[0mnb\u001b[0m\u001b[1;33m)\u001b[0m\u001b[1;33m\u001b[0m\u001b[1;33m\u001b[0m\u001b[0m\n\u001b[0;32m   1409\u001b[0m                     \u001b[1;32melse\u001b[0m\u001b[1;33m:\u001b[0m\u001b[1;33m\u001b[0m\u001b[1;33m\u001b[0m\u001b[0m\n\u001b[1;32m-> 1410\u001b[1;33m                         \u001b[0mnb\u001b[0m \u001b[1;33m=\u001b[0m \u001b[0mblk\u001b[0m\u001b[1;33m.\u001b[0m\u001b[0mtake_nd\u001b[0m\u001b[1;33m(\u001b[0m\u001b[0mtaker\u001b[0m\u001b[1;33m,\u001b[0m \u001b[0maxis\u001b[0m\u001b[1;33m=\u001b[0m\u001b[1;36m0\u001b[0m\u001b[1;33m,\u001b[0m \u001b[0mnew_mgr_locs\u001b[0m\u001b[1;33m=\u001b[0m\u001b[0mmgr_locs\u001b[0m\u001b[1;33m)\u001b[0m\u001b[1;33m\u001b[0m\u001b[1;33m\u001b[0m\u001b[0m\n\u001b[0m\u001b[0;32m   1411\u001b[0m                         \u001b[0mblocks\u001b[0m\u001b[1;33m.\u001b[0m\u001b[0mappend\u001b[0m\u001b[1;33m(\u001b[0m\u001b[0mnb\u001b[0m\u001b[1;33m)\u001b[0m\u001b[1;33m\u001b[0m\u001b[1;33m\u001b[0m\u001b[0m\n\u001b[0;32m   1412\u001b[0m \u001b[1;33m\u001b[0m\u001b[0m\n",
      "\u001b[1;32m~\\anaconda3\\lib\\site-packages\\pandas\\core\\internals\\blocks.py\u001b[0m in \u001b[0;36mtake_nd\u001b[1;34m(self, indexer, axis, new_mgr_locs, fill_value)\u001b[0m\n\u001b[0;32m   1253\u001b[0m             \u001b[0mallow_fill\u001b[0m \u001b[1;33m=\u001b[0m \u001b[1;32mTrue\u001b[0m\u001b[1;33m\u001b[0m\u001b[1;33m\u001b[0m\u001b[0m\n\u001b[0;32m   1254\u001b[0m \u001b[1;33m\u001b[0m\u001b[0m\n\u001b[1;32m-> 1255\u001b[1;33m         new_values = algos.take_nd(\n\u001b[0m\u001b[0;32m   1256\u001b[0m             \u001b[0mvalues\u001b[0m\u001b[1;33m,\u001b[0m \u001b[0mindexer\u001b[0m\u001b[1;33m,\u001b[0m \u001b[0maxis\u001b[0m\u001b[1;33m=\u001b[0m\u001b[0maxis\u001b[0m\u001b[1;33m,\u001b[0m \u001b[0mallow_fill\u001b[0m\u001b[1;33m=\u001b[0m\u001b[0mallow_fill\u001b[0m\u001b[1;33m,\u001b[0m \u001b[0mfill_value\u001b[0m\u001b[1;33m=\u001b[0m\u001b[0mfill_value\u001b[0m\u001b[1;33m\u001b[0m\u001b[1;33m\u001b[0m\u001b[0m\n\u001b[0;32m   1257\u001b[0m         )\n",
      "\u001b[1;32m~\\anaconda3\\lib\\site-packages\\pandas\\core\\algorithms.py\u001b[0m in \u001b[0;36mtake_nd\u001b[1;34m(arr, indexer, axis, out, fill_value, allow_fill)\u001b[0m\n\u001b[0;32m   1706\u001b[0m             \u001b[0mout\u001b[0m \u001b[1;33m=\u001b[0m \u001b[0mnp\u001b[0m\u001b[1;33m.\u001b[0m\u001b[0mempty\u001b[0m\u001b[1;33m(\u001b[0m\u001b[0mout_shape\u001b[0m\u001b[1;33m,\u001b[0m \u001b[0mdtype\u001b[0m\u001b[1;33m=\u001b[0m\u001b[0mdtype\u001b[0m\u001b[1;33m,\u001b[0m \u001b[0morder\u001b[0m\u001b[1;33m=\u001b[0m\u001b[1;34m\"F\"\u001b[0m\u001b[1;33m)\u001b[0m\u001b[1;33m\u001b[0m\u001b[1;33m\u001b[0m\u001b[0m\n\u001b[0;32m   1707\u001b[0m         \u001b[1;32melse\u001b[0m\u001b[1;33m:\u001b[0m\u001b[1;33m\u001b[0m\u001b[1;33m\u001b[0m\u001b[0m\n\u001b[1;32m-> 1708\u001b[1;33m             \u001b[0mout\u001b[0m \u001b[1;33m=\u001b[0m \u001b[0mnp\u001b[0m\u001b[1;33m.\u001b[0m\u001b[0mempty\u001b[0m\u001b[1;33m(\u001b[0m\u001b[0mout_shape\u001b[0m\u001b[1;33m,\u001b[0m \u001b[0mdtype\u001b[0m\u001b[1;33m=\u001b[0m\u001b[0mdtype\u001b[0m\u001b[1;33m)\u001b[0m\u001b[1;33m\u001b[0m\u001b[1;33m\u001b[0m\u001b[0m\n\u001b[0m\u001b[0;32m   1709\u001b[0m \u001b[1;33m\u001b[0m\u001b[0m\n\u001b[0;32m   1710\u001b[0m     func = _get_take_nd_function(\n",
      "\u001b[1;31mMemoryError\u001b[0m: Unable to allocate 26.7 MiB for an array with shape (7, 499419) and data type float64"
     ]
    },
    {
     "ename": "MemoryError",
     "evalue": "Unable to allocate 26.7 MiB for an array with shape (7, 499419) and data type float64",
     "output_type": "error",
     "traceback": [
      "\u001b[1;31m---------------------------------------------------------------------------\u001b[0m",
      "\u001b[1;31mMemoryError\u001b[0m                               Traceback (most recent call last)",
      "\u001b[1;32m~\\anaconda3\\lib\\site-packages\\IPython\\core\\formatters.py\u001b[0m in \u001b[0;36m__call__\u001b[1;34m(self, obj)\u001b[0m\n\u001b[0;32m    343\u001b[0m             \u001b[0mmethod\u001b[0m \u001b[1;33m=\u001b[0m \u001b[0mget_real_method\u001b[0m\u001b[1;33m(\u001b[0m\u001b[0mobj\u001b[0m\u001b[1;33m,\u001b[0m \u001b[0mself\u001b[0m\u001b[1;33m.\u001b[0m\u001b[0mprint_method\u001b[0m\u001b[1;33m)\u001b[0m\u001b[1;33m\u001b[0m\u001b[1;33m\u001b[0m\u001b[0m\n\u001b[0;32m    344\u001b[0m             \u001b[1;32mif\u001b[0m \u001b[0mmethod\u001b[0m \u001b[1;32mis\u001b[0m \u001b[1;32mnot\u001b[0m \u001b[1;32mNone\u001b[0m\u001b[1;33m:\u001b[0m\u001b[1;33m\u001b[0m\u001b[1;33m\u001b[0m\u001b[0m\n\u001b[1;32m--> 345\u001b[1;33m                 \u001b[1;32mreturn\u001b[0m \u001b[0mmethod\u001b[0m\u001b[1;33m(\u001b[0m\u001b[1;33m)\u001b[0m\u001b[1;33m\u001b[0m\u001b[1;33m\u001b[0m\u001b[0m\n\u001b[0m\u001b[0;32m    346\u001b[0m             \u001b[1;32mreturn\u001b[0m \u001b[1;32mNone\u001b[0m\u001b[1;33m\u001b[0m\u001b[1;33m\u001b[0m\u001b[0m\n\u001b[0;32m    347\u001b[0m         \u001b[1;32melse\u001b[0m\u001b[1;33m:\u001b[0m\u001b[1;33m\u001b[0m\u001b[1;33m\u001b[0m\u001b[0m\n",
      "\u001b[1;32m~\\anaconda3\\lib\\site-packages\\pandas\\core\\frame.py\u001b[0m in \u001b[0;36m_repr_html_\u001b[1;34m(self)\u001b[0m\n\u001b[0;32m    774\u001b[0m             \u001b[0mshow_dimensions\u001b[0m \u001b[1;33m=\u001b[0m \u001b[0mget_option\u001b[0m\u001b[1;33m(\u001b[0m\u001b[1;34m\"display.show_dimensions\"\u001b[0m\u001b[1;33m)\u001b[0m\u001b[1;33m\u001b[0m\u001b[1;33m\u001b[0m\u001b[0m\n\u001b[0;32m    775\u001b[0m \u001b[1;33m\u001b[0m\u001b[0m\n\u001b[1;32m--> 776\u001b[1;33m             formatter = fmt.DataFrameFormatter(\n\u001b[0m\u001b[0;32m    777\u001b[0m                 \u001b[0mself\u001b[0m\u001b[1;33m,\u001b[0m\u001b[1;33m\u001b[0m\u001b[1;33m\u001b[0m\u001b[0m\n\u001b[0;32m    778\u001b[0m                 \u001b[0mcolumns\u001b[0m\u001b[1;33m=\u001b[0m\u001b[1;32mNone\u001b[0m\u001b[1;33m,\u001b[0m\u001b[1;33m\u001b[0m\u001b[1;33m\u001b[0m\u001b[0m\n",
      "\u001b[1;32m~\\anaconda3\\lib\\site-packages\\pandas\\io\\formats\\format.py\u001b[0m in \u001b[0;36m__init__\u001b[1;34m(self, frame, columns, col_space, header, index, na_rep, formatters, justify, float_format, sparsify, index_names, line_width, max_rows, min_rows, max_cols, show_dimensions, decimal, table_id, render_links, bold_rows, escape)\u001b[0m\n\u001b[0;32m    628\u001b[0m             \u001b[0mself\u001b[0m\u001b[1;33m.\u001b[0m\u001b[0mcolumns\u001b[0m \u001b[1;33m=\u001b[0m \u001b[0mframe\u001b[0m\u001b[1;33m.\u001b[0m\u001b[0mcolumns\u001b[0m\u001b[1;33m\u001b[0m\u001b[1;33m\u001b[0m\u001b[0m\n\u001b[0;32m    629\u001b[0m \u001b[1;33m\u001b[0m\u001b[0m\n\u001b[1;32m--> 630\u001b[1;33m         \u001b[0mself\u001b[0m\u001b[1;33m.\u001b[0m\u001b[0m_chk_truncate\u001b[0m\u001b[1;33m(\u001b[0m\u001b[1;33m)\u001b[0m\u001b[1;33m\u001b[0m\u001b[1;33m\u001b[0m\u001b[0m\n\u001b[0m\u001b[0;32m    631\u001b[0m         \u001b[0mself\u001b[0m\u001b[1;33m.\u001b[0m\u001b[0madj\u001b[0m \u001b[1;33m=\u001b[0m \u001b[0m_get_adjustment\u001b[0m\u001b[1;33m(\u001b[0m\u001b[1;33m)\u001b[0m\u001b[1;33m\u001b[0m\u001b[1;33m\u001b[0m\u001b[0m\n\u001b[0;32m    632\u001b[0m \u001b[1;33m\u001b[0m\u001b[0m\n",
      "\u001b[1;32m~\\anaconda3\\lib\\site-packages\\pandas\\io\\formats\\format.py\u001b[0m in \u001b[0;36m_chk_truncate\u001b[1;34m(self)\u001b[0m\n\u001b[0;32m    696\u001b[0m                 \u001b[0mcol_num\u001b[0m \u001b[1;33m=\u001b[0m \u001b[0mmax_cols_adj\u001b[0m \u001b[1;33m//\u001b[0m \u001b[1;36m2\u001b[0m\u001b[1;33m\u001b[0m\u001b[1;33m\u001b[0m\u001b[0m\n\u001b[0;32m    697\u001b[0m                 frame = concat(\n\u001b[1;32m--> 698\u001b[1;33m                     \u001b[1;33m(\u001b[0m\u001b[0mframe\u001b[0m\u001b[1;33m.\u001b[0m\u001b[0miloc\u001b[0m\u001b[1;33m[\u001b[0m\u001b[1;33m:\u001b[0m\u001b[1;33m,\u001b[0m \u001b[1;33m:\u001b[0m\u001b[0mcol_num\u001b[0m\u001b[1;33m]\u001b[0m\u001b[1;33m,\u001b[0m \u001b[0mframe\u001b[0m\u001b[1;33m.\u001b[0m\u001b[0miloc\u001b[0m\u001b[1;33m[\u001b[0m\u001b[1;33m:\u001b[0m\u001b[1;33m,\u001b[0m \u001b[1;33m-\u001b[0m\u001b[0mcol_num\u001b[0m\u001b[1;33m:\u001b[0m\u001b[1;33m]\u001b[0m\u001b[1;33m)\u001b[0m\u001b[1;33m,\u001b[0m \u001b[0maxis\u001b[0m\u001b[1;33m=\u001b[0m\u001b[1;36m1\u001b[0m\u001b[1;33m\u001b[0m\u001b[1;33m\u001b[0m\u001b[0m\n\u001b[0m\u001b[0;32m    699\u001b[0m                 )\n\u001b[0;32m    700\u001b[0m                 \u001b[1;31m# truncate formatter\u001b[0m\u001b[1;33m\u001b[0m\u001b[1;33m\u001b[0m\u001b[1;33m\u001b[0m\u001b[0m\n",
      "\u001b[1;32m~\\anaconda3\\lib\\site-packages\\pandas\\core\\indexing.py\u001b[0m in \u001b[0;36m__getitem__\u001b[1;34m(self, key)\u001b[0m\n\u001b[0;32m    871\u001b[0m                     \u001b[1;31m# AttributeError for IntervalTree get_value\u001b[0m\u001b[1;33m\u001b[0m\u001b[1;33m\u001b[0m\u001b[1;33m\u001b[0m\u001b[0m\n\u001b[0;32m    872\u001b[0m                     \u001b[1;32mpass\u001b[0m\u001b[1;33m\u001b[0m\u001b[1;33m\u001b[0m\u001b[0m\n\u001b[1;32m--> 873\u001b[1;33m             \u001b[1;32mreturn\u001b[0m \u001b[0mself\u001b[0m\u001b[1;33m.\u001b[0m\u001b[0m_getitem_tuple\u001b[0m\u001b[1;33m(\u001b[0m\u001b[0mkey\u001b[0m\u001b[1;33m)\u001b[0m\u001b[1;33m\u001b[0m\u001b[1;33m\u001b[0m\u001b[0m\n\u001b[0m\u001b[0;32m    874\u001b[0m         \u001b[1;32melse\u001b[0m\u001b[1;33m:\u001b[0m\u001b[1;33m\u001b[0m\u001b[1;33m\u001b[0m\u001b[0m\n\u001b[0;32m    875\u001b[0m             \u001b[1;31m# we by definition only have the 0th axis\u001b[0m\u001b[1;33m\u001b[0m\u001b[1;33m\u001b[0m\u001b[1;33m\u001b[0m\u001b[0m\n",
      "\u001b[1;32m~\\anaconda3\\lib\\site-packages\\pandas\\core\\indexing.py\u001b[0m in \u001b[0;36m_getitem_tuple\u001b[1;34m(self, tup)\u001b[0m\n\u001b[0;32m   1447\u001b[0m             \u001b[1;32mpass\u001b[0m\u001b[1;33m\u001b[0m\u001b[1;33m\u001b[0m\u001b[0m\n\u001b[0;32m   1448\u001b[0m \u001b[1;33m\u001b[0m\u001b[0m\n\u001b[1;32m-> 1449\u001b[1;33m         \u001b[1;32mreturn\u001b[0m \u001b[0mself\u001b[0m\u001b[1;33m.\u001b[0m\u001b[0m_getitem_tuple_same_dim\u001b[0m\u001b[1;33m(\u001b[0m\u001b[0mtup\u001b[0m\u001b[1;33m)\u001b[0m\u001b[1;33m\u001b[0m\u001b[1;33m\u001b[0m\u001b[0m\n\u001b[0m\u001b[0;32m   1450\u001b[0m \u001b[1;33m\u001b[0m\u001b[0m\n\u001b[0;32m   1451\u001b[0m     \u001b[1;32mdef\u001b[0m \u001b[0m_get_list_axis\u001b[0m\u001b[1;33m(\u001b[0m\u001b[0mself\u001b[0m\u001b[1;33m,\u001b[0m \u001b[0mkey\u001b[0m\u001b[1;33m,\u001b[0m \u001b[0maxis\u001b[0m\u001b[1;33m:\u001b[0m \u001b[0mint\u001b[0m\u001b[1;33m)\u001b[0m\u001b[1;33m:\u001b[0m\u001b[1;33m\u001b[0m\u001b[1;33m\u001b[0m\u001b[0m\n",
      "\u001b[1;32m~\\anaconda3\\lib\\site-packages\\pandas\\core\\indexing.py\u001b[0m in \u001b[0;36m_getitem_tuple_same_dim\u001b[1;34m(self, tup)\u001b[0m\n\u001b[0;32m    748\u001b[0m                 \u001b[1;32mcontinue\u001b[0m\u001b[1;33m\u001b[0m\u001b[1;33m\u001b[0m\u001b[0m\n\u001b[0;32m    749\u001b[0m \u001b[1;33m\u001b[0m\u001b[0m\n\u001b[1;32m--> 750\u001b[1;33m             \u001b[0mretval\u001b[0m \u001b[1;33m=\u001b[0m \u001b[0mgetattr\u001b[0m\u001b[1;33m(\u001b[0m\u001b[0mretval\u001b[0m\u001b[1;33m,\u001b[0m \u001b[0mself\u001b[0m\u001b[1;33m.\u001b[0m\u001b[0mname\u001b[0m\u001b[1;33m)\u001b[0m\u001b[1;33m.\u001b[0m\u001b[0m_getitem_axis\u001b[0m\u001b[1;33m(\u001b[0m\u001b[0mkey\u001b[0m\u001b[1;33m,\u001b[0m \u001b[0maxis\u001b[0m\u001b[1;33m=\u001b[0m\u001b[0mi\u001b[0m\u001b[1;33m)\u001b[0m\u001b[1;33m\u001b[0m\u001b[1;33m\u001b[0m\u001b[0m\n\u001b[0m\u001b[0;32m    751\u001b[0m             \u001b[1;31m# We should never have retval.ndim < self.ndim, as that should\u001b[0m\u001b[1;33m\u001b[0m\u001b[1;33m\u001b[0m\u001b[1;33m\u001b[0m\u001b[0m\n\u001b[0;32m    752\u001b[0m             \u001b[1;31m#  be handled by the _getitem_lowerdim call above.\u001b[0m\u001b[1;33m\u001b[0m\u001b[1;33m\u001b[0m\u001b[1;33m\u001b[0m\u001b[0m\n",
      "\u001b[1;32m~\\anaconda3\\lib\\site-packages\\pandas\\core\\indexing.py\u001b[0m in \u001b[0;36m_getitem_axis\u001b[1;34m(self, key, axis)\u001b[0m\n\u001b[0;32m   1474\u001b[0m     \u001b[1;32mdef\u001b[0m \u001b[0m_getitem_axis\u001b[0m\u001b[1;33m(\u001b[0m\u001b[0mself\u001b[0m\u001b[1;33m,\u001b[0m \u001b[0mkey\u001b[0m\u001b[1;33m,\u001b[0m \u001b[0maxis\u001b[0m\u001b[1;33m:\u001b[0m \u001b[0mint\u001b[0m\u001b[1;33m)\u001b[0m\u001b[1;33m:\u001b[0m\u001b[1;33m\u001b[0m\u001b[1;33m\u001b[0m\u001b[0m\n\u001b[0;32m   1475\u001b[0m         \u001b[1;32mif\u001b[0m \u001b[0misinstance\u001b[0m\u001b[1;33m(\u001b[0m\u001b[0mkey\u001b[0m\u001b[1;33m,\u001b[0m \u001b[0mslice\u001b[0m\u001b[1;33m)\u001b[0m\u001b[1;33m:\u001b[0m\u001b[1;33m\u001b[0m\u001b[1;33m\u001b[0m\u001b[0m\n\u001b[1;32m-> 1476\u001b[1;33m             \u001b[1;32mreturn\u001b[0m \u001b[0mself\u001b[0m\u001b[1;33m.\u001b[0m\u001b[0m_get_slice_axis\u001b[0m\u001b[1;33m(\u001b[0m\u001b[0mkey\u001b[0m\u001b[1;33m,\u001b[0m \u001b[0maxis\u001b[0m\u001b[1;33m=\u001b[0m\u001b[0maxis\u001b[0m\u001b[1;33m)\u001b[0m\u001b[1;33m\u001b[0m\u001b[1;33m\u001b[0m\u001b[0m\n\u001b[0m\u001b[0;32m   1477\u001b[0m \u001b[1;33m\u001b[0m\u001b[0m\n\u001b[0;32m   1478\u001b[0m         \u001b[1;32mif\u001b[0m \u001b[0misinstance\u001b[0m\u001b[1;33m(\u001b[0m\u001b[0mkey\u001b[0m\u001b[1;33m,\u001b[0m \u001b[0mlist\u001b[0m\u001b[1;33m)\u001b[0m\u001b[1;33m:\u001b[0m\u001b[1;33m\u001b[0m\u001b[1;33m\u001b[0m\u001b[0m\n",
      "\u001b[1;32m~\\anaconda3\\lib\\site-packages\\pandas\\core\\indexing.py\u001b[0m in \u001b[0;36m_get_slice_axis\u001b[1;34m(self, slice_obj, axis)\u001b[0m\n\u001b[0;32m   1507\u001b[0m         \u001b[0mlabels\u001b[0m \u001b[1;33m=\u001b[0m \u001b[0mobj\u001b[0m\u001b[1;33m.\u001b[0m\u001b[0m_get_axis\u001b[0m\u001b[1;33m(\u001b[0m\u001b[0maxis\u001b[0m\u001b[1;33m)\u001b[0m\u001b[1;33m\u001b[0m\u001b[1;33m\u001b[0m\u001b[0m\n\u001b[0;32m   1508\u001b[0m         \u001b[0mlabels\u001b[0m\u001b[1;33m.\u001b[0m\u001b[0m_validate_positional_slice\u001b[0m\u001b[1;33m(\u001b[0m\u001b[0mslice_obj\u001b[0m\u001b[1;33m)\u001b[0m\u001b[1;33m\u001b[0m\u001b[1;33m\u001b[0m\u001b[0m\n\u001b[1;32m-> 1509\u001b[1;33m         \u001b[1;32mreturn\u001b[0m \u001b[0mself\u001b[0m\u001b[1;33m.\u001b[0m\u001b[0mobj\u001b[0m\u001b[1;33m.\u001b[0m\u001b[0m_slice\u001b[0m\u001b[1;33m(\u001b[0m\u001b[0mslice_obj\u001b[0m\u001b[1;33m,\u001b[0m \u001b[0maxis\u001b[0m\u001b[1;33m=\u001b[0m\u001b[0maxis\u001b[0m\u001b[1;33m)\u001b[0m\u001b[1;33m\u001b[0m\u001b[1;33m\u001b[0m\u001b[0m\n\u001b[0m\u001b[0;32m   1510\u001b[0m \u001b[1;33m\u001b[0m\u001b[0m\n\u001b[0;32m   1511\u001b[0m     \u001b[1;32mdef\u001b[0m \u001b[0m_convert_to_indexer\u001b[0m\u001b[1;33m(\u001b[0m\u001b[0mself\u001b[0m\u001b[1;33m,\u001b[0m \u001b[0mkey\u001b[0m\u001b[1;33m,\u001b[0m \u001b[0maxis\u001b[0m\u001b[1;33m:\u001b[0m \u001b[0mint\u001b[0m\u001b[1;33m,\u001b[0m \u001b[0mis_setter\u001b[0m\u001b[1;33m:\u001b[0m \u001b[0mbool\u001b[0m \u001b[1;33m=\u001b[0m \u001b[1;32mFalse\u001b[0m\u001b[1;33m)\u001b[0m\u001b[1;33m:\u001b[0m\u001b[1;33m\u001b[0m\u001b[1;33m\u001b[0m\u001b[0m\n",
      "\u001b[1;32m~\\anaconda3\\lib\\site-packages\\pandas\\core\\generic.py\u001b[0m in \u001b[0;36m_slice\u001b[1;34m(self, slobj, axis)\u001b[0m\n\u001b[0;32m   3557\u001b[0m         \u001b[1;32massert\u001b[0m \u001b[0misinstance\u001b[0m\u001b[1;33m(\u001b[0m\u001b[0mslobj\u001b[0m\u001b[1;33m,\u001b[0m \u001b[0mslice\u001b[0m\u001b[1;33m)\u001b[0m\u001b[1;33m,\u001b[0m \u001b[0mtype\u001b[0m\u001b[1;33m(\u001b[0m\u001b[0mslobj\u001b[0m\u001b[1;33m)\u001b[0m\u001b[1;33m\u001b[0m\u001b[1;33m\u001b[0m\u001b[0m\n\u001b[0;32m   3558\u001b[0m         \u001b[0maxis\u001b[0m \u001b[1;33m=\u001b[0m \u001b[0mself\u001b[0m\u001b[1;33m.\u001b[0m\u001b[0m_get_block_manager_axis\u001b[0m\u001b[1;33m(\u001b[0m\u001b[0maxis\u001b[0m\u001b[1;33m)\u001b[0m\u001b[1;33m\u001b[0m\u001b[1;33m\u001b[0m\u001b[0m\n\u001b[1;32m-> 3559\u001b[1;33m         \u001b[0mresult\u001b[0m \u001b[1;33m=\u001b[0m \u001b[0mself\u001b[0m\u001b[1;33m.\u001b[0m\u001b[0m_constructor\u001b[0m\u001b[1;33m(\u001b[0m\u001b[0mself\u001b[0m\u001b[1;33m.\u001b[0m\u001b[0m_mgr\u001b[0m\u001b[1;33m.\u001b[0m\u001b[0mget_slice\u001b[0m\u001b[1;33m(\u001b[0m\u001b[0mslobj\u001b[0m\u001b[1;33m,\u001b[0m \u001b[0maxis\u001b[0m\u001b[1;33m=\u001b[0m\u001b[0maxis\u001b[0m\u001b[1;33m)\u001b[0m\u001b[1;33m)\u001b[0m\u001b[1;33m\u001b[0m\u001b[1;33m\u001b[0m\u001b[0m\n\u001b[0m\u001b[0;32m   3560\u001b[0m         \u001b[0mresult\u001b[0m \u001b[1;33m=\u001b[0m \u001b[0mresult\u001b[0m\u001b[1;33m.\u001b[0m\u001b[0m__finalize__\u001b[0m\u001b[1;33m(\u001b[0m\u001b[0mself\u001b[0m\u001b[1;33m)\u001b[0m\u001b[1;33m\u001b[0m\u001b[1;33m\u001b[0m\u001b[0m\n\u001b[0;32m   3561\u001b[0m \u001b[1;33m\u001b[0m\u001b[0m\n",
      "\u001b[1;32m~\\anaconda3\\lib\\site-packages\\pandas\\core\\internals\\managers.py\u001b[0m in \u001b[0;36mget_slice\u001b[1;34m(self, slobj, axis)\u001b[0m\n\u001b[0;32m    758\u001b[0m \u001b[1;33m\u001b[0m\u001b[0m\n\u001b[0;32m    759\u001b[0m         \u001b[1;32mif\u001b[0m \u001b[0maxis\u001b[0m \u001b[1;33m==\u001b[0m \u001b[1;36m0\u001b[0m\u001b[1;33m:\u001b[0m\u001b[1;33m\u001b[0m\u001b[1;33m\u001b[0m\u001b[0m\n\u001b[1;32m--> 760\u001b[1;33m             \u001b[0mnew_blocks\u001b[0m \u001b[1;33m=\u001b[0m \u001b[0mself\u001b[0m\u001b[1;33m.\u001b[0m\u001b[0m_slice_take_blocks_ax0\u001b[0m\u001b[1;33m(\u001b[0m\u001b[0mslobj\u001b[0m\u001b[1;33m)\u001b[0m\u001b[1;33m\u001b[0m\u001b[1;33m\u001b[0m\u001b[0m\n\u001b[0m\u001b[0;32m    761\u001b[0m         \u001b[1;32melif\u001b[0m \u001b[0maxis\u001b[0m \u001b[1;33m==\u001b[0m \u001b[1;36m1\u001b[0m\u001b[1;33m:\u001b[0m\u001b[1;33m\u001b[0m\u001b[1;33m\u001b[0m\u001b[0m\n\u001b[0;32m    762\u001b[0m             \u001b[0mslicer\u001b[0m \u001b[1;33m=\u001b[0m \u001b[1;33m(\u001b[0m\u001b[0mslice\u001b[0m\u001b[1;33m(\u001b[0m\u001b[1;32mNone\u001b[0m\u001b[1;33m)\u001b[0m\u001b[1;33m,\u001b[0m \u001b[0mslobj\u001b[0m\u001b[1;33m)\u001b[0m\u001b[1;33m\u001b[0m\u001b[1;33m\u001b[0m\u001b[0m\n",
      "\u001b[1;32m~\\anaconda3\\lib\\site-packages\\pandas\\core\\internals\\managers.py\u001b[0m in \u001b[0;36m_slice_take_blocks_ax0\u001b[1;34m(self, slice_or_indexer, fill_value, only_slice)\u001b[0m\n\u001b[0;32m   1408\u001b[0m                             \u001b[0mblocks\u001b[0m\u001b[1;33m.\u001b[0m\u001b[0mappend\u001b[0m\u001b[1;33m(\u001b[0m\u001b[0mnb\u001b[0m\u001b[1;33m)\u001b[0m\u001b[1;33m\u001b[0m\u001b[1;33m\u001b[0m\u001b[0m\n\u001b[0;32m   1409\u001b[0m                     \u001b[1;32melse\u001b[0m\u001b[1;33m:\u001b[0m\u001b[1;33m\u001b[0m\u001b[1;33m\u001b[0m\u001b[0m\n\u001b[1;32m-> 1410\u001b[1;33m                         \u001b[0mnb\u001b[0m \u001b[1;33m=\u001b[0m \u001b[0mblk\u001b[0m\u001b[1;33m.\u001b[0m\u001b[0mtake_nd\u001b[0m\u001b[1;33m(\u001b[0m\u001b[0mtaker\u001b[0m\u001b[1;33m,\u001b[0m \u001b[0maxis\u001b[0m\u001b[1;33m=\u001b[0m\u001b[1;36m0\u001b[0m\u001b[1;33m,\u001b[0m \u001b[0mnew_mgr_locs\u001b[0m\u001b[1;33m=\u001b[0m\u001b[0mmgr_locs\u001b[0m\u001b[1;33m)\u001b[0m\u001b[1;33m\u001b[0m\u001b[1;33m\u001b[0m\u001b[0m\n\u001b[0m\u001b[0;32m   1411\u001b[0m                         \u001b[0mblocks\u001b[0m\u001b[1;33m.\u001b[0m\u001b[0mappend\u001b[0m\u001b[1;33m(\u001b[0m\u001b[0mnb\u001b[0m\u001b[1;33m)\u001b[0m\u001b[1;33m\u001b[0m\u001b[1;33m\u001b[0m\u001b[0m\n\u001b[0;32m   1412\u001b[0m \u001b[1;33m\u001b[0m\u001b[0m\n",
      "\u001b[1;32m~\\anaconda3\\lib\\site-packages\\pandas\\core\\internals\\blocks.py\u001b[0m in \u001b[0;36mtake_nd\u001b[1;34m(self, indexer, axis, new_mgr_locs, fill_value)\u001b[0m\n\u001b[0;32m   1253\u001b[0m             \u001b[0mallow_fill\u001b[0m \u001b[1;33m=\u001b[0m \u001b[1;32mTrue\u001b[0m\u001b[1;33m\u001b[0m\u001b[1;33m\u001b[0m\u001b[0m\n\u001b[0;32m   1254\u001b[0m \u001b[1;33m\u001b[0m\u001b[0m\n\u001b[1;32m-> 1255\u001b[1;33m         new_values = algos.take_nd(\n\u001b[0m\u001b[0;32m   1256\u001b[0m             \u001b[0mvalues\u001b[0m\u001b[1;33m,\u001b[0m \u001b[0mindexer\u001b[0m\u001b[1;33m,\u001b[0m \u001b[0maxis\u001b[0m\u001b[1;33m=\u001b[0m\u001b[0maxis\u001b[0m\u001b[1;33m,\u001b[0m \u001b[0mallow_fill\u001b[0m\u001b[1;33m=\u001b[0m\u001b[0mallow_fill\u001b[0m\u001b[1;33m,\u001b[0m \u001b[0mfill_value\u001b[0m\u001b[1;33m=\u001b[0m\u001b[0mfill_value\u001b[0m\u001b[1;33m\u001b[0m\u001b[1;33m\u001b[0m\u001b[0m\n\u001b[0;32m   1257\u001b[0m         )\n",
      "\u001b[1;32m~\\anaconda3\\lib\\site-packages\\pandas\\core\\algorithms.py\u001b[0m in \u001b[0;36mtake_nd\u001b[1;34m(arr, indexer, axis, out, fill_value, allow_fill)\u001b[0m\n\u001b[0;32m   1706\u001b[0m             \u001b[0mout\u001b[0m \u001b[1;33m=\u001b[0m \u001b[0mnp\u001b[0m\u001b[1;33m.\u001b[0m\u001b[0mempty\u001b[0m\u001b[1;33m(\u001b[0m\u001b[0mout_shape\u001b[0m\u001b[1;33m,\u001b[0m \u001b[0mdtype\u001b[0m\u001b[1;33m=\u001b[0m\u001b[0mdtype\u001b[0m\u001b[1;33m,\u001b[0m \u001b[0morder\u001b[0m\u001b[1;33m=\u001b[0m\u001b[1;34m\"F\"\u001b[0m\u001b[1;33m)\u001b[0m\u001b[1;33m\u001b[0m\u001b[1;33m\u001b[0m\u001b[0m\n\u001b[0;32m   1707\u001b[0m         \u001b[1;32melse\u001b[0m\u001b[1;33m:\u001b[0m\u001b[1;33m\u001b[0m\u001b[1;33m\u001b[0m\u001b[0m\n\u001b[1;32m-> 1708\u001b[1;33m             \u001b[0mout\u001b[0m \u001b[1;33m=\u001b[0m \u001b[0mnp\u001b[0m\u001b[1;33m.\u001b[0m\u001b[0mempty\u001b[0m\u001b[1;33m(\u001b[0m\u001b[0mout_shape\u001b[0m\u001b[1;33m,\u001b[0m \u001b[0mdtype\u001b[0m\u001b[1;33m=\u001b[0m\u001b[0mdtype\u001b[0m\u001b[1;33m)\u001b[0m\u001b[1;33m\u001b[0m\u001b[1;33m\u001b[0m\u001b[0m\n\u001b[0m\u001b[0;32m   1709\u001b[0m \u001b[1;33m\u001b[0m\u001b[0m\n\u001b[0;32m   1710\u001b[0m     func = _get_take_nd_function(\n",
      "\u001b[1;31mMemoryError\u001b[0m: Unable to allocate 26.7 MiB for an array with shape (7, 499419) and data type float64"
     ]
    }
   ],
   "source": [
    "data\n"
   ]
  },
  {
   "cell_type": "code",
   "execution_count": null,
   "metadata": {},
   "outputs": [],
   "source": []
  }
 ],
 "metadata": {
  "kernelspec": {
   "display_name": "Python 3",
   "language": "python",
   "name": "python3"
  },
  "language_info": {
   "codemirror_mode": {
    "name": "ipython",
    "version": 3
   },
   "file_extension": ".py",
   "mimetype": "text/x-python",
   "name": "python",
   "nbconvert_exporter": "python",
   "pygments_lexer": "ipython3",
   "version": "3.6.13"
  }
 },
 "nbformat": 4,
 "nbformat_minor": 4
}
